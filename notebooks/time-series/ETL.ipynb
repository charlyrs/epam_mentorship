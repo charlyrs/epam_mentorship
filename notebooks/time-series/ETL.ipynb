{
  "nbformat": 4,
  "nbformat_minor": 0,
  "metadata": {
    "colab": {
      "provenance": [],
      "collapsed_sections": [
        "ZhNklHxTbNM9",
        "QRaLporWbSYr",
        "hVzOHBTocfiZ",
        "LcJq8d8zcwA0",
        "1jM1fOHDEkvy",
        "nMvl04JAdTf_",
        "wJoiGeQDbQ0Y",
        "1zfuX3uHln0d",
        "IRbeJLr8bYVB"
      ]
    },
    "kernelspec": {
      "name": "python3",
      "display_name": "Python 3"
    },
    "language_info": {
      "name": "python"
    }
  },
  "cells": [
    {
      "cell_type": "markdown",
      "source": [
        "# Settings"
      ],
      "metadata": {
        "id": "X6N2-AgfwVaz"
      }
    },
    {
      "cell_type": "code",
      "source": [
        "from google.colab import drive\n",
        "drive.mount('/content/drive')"
      ],
      "metadata": {
        "colab": {
          "base_uri": "https://localhost:8080/"
        },
        "id": "_ZWaiRIpO1U3",
        "outputId": "0d04605d-0b44-4dee-9daf-cba09150157b"
      },
      "execution_count": null,
      "outputs": [
        {
          "output_type": "stream",
          "name": "stdout",
          "text": [
            "Mounted at /content/drive\n"
          ]
        }
      ]
    },
    {
      "cell_type": "code",
      "source": [
        "data_path = '/content/drive/MyDrive/data/train5.parquet'\n",
        "test_path = '/content/drive/MyDrive/data/predict5.parquet'\n"
      ],
      "metadata": {
        "id": "XQn-hI2IO5NU"
      },
      "execution_count": null,
      "outputs": []
    },
    {
      "cell_type": "code",
      "source": [
        "!pip install category_encoders"
      ],
      "metadata": {
        "colab": {
          "base_uri": "https://localhost:8080/"
        },
        "id": "l8oiS-EvftHd",
        "outputId": "a6f93bca-9945-42e3-de6e-f4cd59fd4070"
      },
      "execution_count": null,
      "outputs": [
        {
          "output_type": "stream",
          "name": "stdout",
          "text": [
            "Looking in indexes: https://pypi.org/simple, https://us-python.pkg.dev/colab-wheels/public/simple/\n",
            "Collecting category_encoders\n",
            "  Downloading category_encoders-2.5.1.post0-py2.py3-none-any.whl (72 kB)\n",
            "\u001b[K     |████████████████████████████████| 72 kB 768 kB/s \n",
            "\u001b[?25hRequirement already satisfied: statsmodels>=0.9.0 in /usr/local/lib/python3.7/dist-packages (from category_encoders) (0.12.2)\n",
            "Requirement already satisfied: pandas>=1.0.5 in /usr/local/lib/python3.7/dist-packages (from category_encoders) (1.3.5)\n",
            "Requirement already satisfied: scipy>=1.0.0 in /usr/local/lib/python3.7/dist-packages (from category_encoders) (1.7.3)\n",
            "Requirement already satisfied: numpy>=1.14.0 in /usr/local/lib/python3.7/dist-packages (from category_encoders) (1.21.6)\n",
            "Requirement already satisfied: patsy>=0.5.1 in /usr/local/lib/python3.7/dist-packages (from category_encoders) (0.5.3)\n",
            "Requirement already satisfied: scikit-learn>=0.20.0 in /usr/local/lib/python3.7/dist-packages (from category_encoders) (1.0.2)\n",
            "Requirement already satisfied: python-dateutil>=2.7.3 in /usr/local/lib/python3.7/dist-packages (from pandas>=1.0.5->category_encoders) (2.8.2)\n",
            "Requirement already satisfied: pytz>=2017.3 in /usr/local/lib/python3.7/dist-packages (from pandas>=1.0.5->category_encoders) (2022.6)\n",
            "Requirement already satisfied: six in /usr/local/lib/python3.7/dist-packages (from patsy>=0.5.1->category_encoders) (1.15.0)\n",
            "Requirement already satisfied: joblib>=0.11 in /usr/local/lib/python3.7/dist-packages (from scikit-learn>=0.20.0->category_encoders) (1.2.0)\n",
            "Requirement already satisfied: threadpoolctl>=2.0.0 in /usr/local/lib/python3.7/dist-packages (from scikit-learn>=0.20.0->category_encoders) (3.1.0)\n",
            "Installing collected packages: category-encoders\n",
            "Successfully installed category-encoders-2.5.1.post0\n"
          ]
        }
      ]
    },
    {
      "cell_type": "markdown",
      "source": [
        "# Load data"
      ],
      "metadata": {
        "id": "ZhNklHxTbNM9"
      }
    },
    {
      "cell_type": "code",
      "execution_count": null,
      "metadata": {
        "id": "NOlaOrGwZ-tK"
      },
      "outputs": [],
      "source": [
        "import pandas as pd\n",
        "import numpy as np\n",
        "import math\n",
        "from sklearn.pipeline import Pipeline\n",
        "from sklearn.linear_model import LinearRegression\n",
        "from sklearn.preprocessing import LabelEncoder\n",
        "#from category_encoders import TargetEncoder"
      ]
    },
    {
      "cell_type": "code",
      "source": [
        "categories = pd.read_csv('item_categories.csv')\n",
        "items = pd.read_csv('items.csv')\n",
        "shops = pd.read_csv('shops.csv')\n",
        "sales = pd.read_csv('sales_train.csv')\n",
        "# population = pd.read_csv('population_full.csv', delimiter=';')\n",
        "# dollar = pd.read_csv('rub.csv').reset_index(level=[0])\n",
        "# dollar.rub = [float(x.split(' ')[0]) for x in dollar.rub]\n",
        "# dollar.columns=['date_block_num', 'dollar']"
      ],
      "metadata": {
        "id": "igsKTWyZatS0"
      },
      "execution_count": null,
      "outputs": []
    },
    {
      "cell_type": "code",
      "source": [
        "PREDICT_MONTH = 34"
      ],
      "metadata": {
        "id": "w4bqiQDNZUam"
      },
      "execution_count": null,
      "outputs": []
    },
    {
      "cell_type": "code",
      "source": [
        "def merge(a, b, on=None, how = 'inner', check_left=False, check_right=False, fillna=None):\n",
        "    result = pd.merge(a, b, on=on, how=how)\n",
        "    if check_left:\n",
        "        assert len(a) == len(result)\n",
        "    if check_right:\n",
        "        assert len(b) == len(result)\n",
        "    if fillna is not None:\n",
        "        result = result.fillna(fillna)\n",
        "    return result"
      ],
      "metadata": {
        "id": "gnk2-36E6tTK"
      },
      "execution_count": null,
      "outputs": []
    },
    {
      "cell_type": "markdown",
      "source": [
        "# Change types"
      ],
      "metadata": {
        "id": "QRaLporWbSYr"
      }
    },
    {
      "cell_type": "code",
      "source": [
        "shops.shop_id = shops.shop_id.astype(np.int8)\n",
        "categories.item_category_id = categories.item_category_id.astype(np.int8)\n",
        "items.item_id = items.item_id.astype(np.int16)\n",
        "sales.item_id = sales.item_id.astype(np.int16)\n",
        "sales.shop_id = sales.shop_id.astype(np.int8)\n",
        "sales.date_block_num = sales.date_block_num.astype(np.int8)\n",
        "sales.item_cnt_day = sales.item_cnt_day.astype(np.int32)\n",
        "sales.item_price = sales.item_price.astype(np.float32)\n",
        "# dollar.dollar = dollar.dollar.astype(np.float32)\n",
        "# population['pop'] = population['pop'].astype(np.int32)\n"
      ],
      "metadata": {
        "id": "ovswsloTbRhs"
      },
      "execution_count": null,
      "outputs": []
    },
    {
      "cell_type": "markdown",
      "source": [
        "# Extract cities"
      ],
      "metadata": {
        "id": "hVzOHBTocfiZ"
      }
    },
    {
      "cell_type": "code",
      "source": [
        "shops.iloc[0,0] = shops.iloc[0,0][1:]\n",
        "shops.iloc[1,0] = shops.iloc[1,0][1:]\n",
        "shops['city'] = [x.split(' ')[0] for x in shops.shop_name]"
      ],
      "metadata": {
        "id": "IXmBv7CocTxw"
      },
      "execution_count": null,
      "outputs": []
    },
    {
      "cell_type": "markdown",
      "source": [
        "# Extract categories"
      ],
      "metadata": {
        "id": "LcJq8d8zcwA0"
      }
    },
    {
      "cell_type": "code",
      "source": [
        "categories['cat'] = [x.split('-')[0].strip().split('(')[0].strip() for x in categories['item_category_name'] ]\n",
        "categories['sub_cat'] = categories[\"item_category_name\"].str.split(\" - \").str.get(1).str.strip().fillna(categories['cat'])\n",
        "categories['sub_cat'] = categories['sub_cat'].str.split('(').str.get(0).str.strip()"
      ],
      "metadata": {
        "id": "KvMOBkvSc0Pq"
      },
      "execution_count": null,
      "outputs": []
    },
    {
      "cell_type": "markdown",
      "source": [
        "optional:\n",
        "\n"
      ],
      "metadata": {
        "id": "_Zjb3SeTc8cO"
      }
    },
    {
      "cell_type": "code",
      "source": [
        "# categories['sub_cat'] = categories['sub_cat'].str.replace(' 360', '')\n",
        "# categories['sub_cat'] = categories['sub_cat'].str.replace(' ONE', '')\n",
        "# categories['sub_cat'] = categories['sub_cat'].str.replace(' 3D', '')\n",
        "# categories['sub_cat'] = categories['sub_cat'].str.replace(' 4K', '')\n",
        "# categories['sub_cat'] = categories['sub_cat'].str.replace(' 1С', '')\n",
        "# categories['cat'] = ['Игры' if x == 'Игры PC' or x == 'Игры Android' or x == 'Игры MAC' else x for x in categories['cat']]"
      ],
      "metadata": {
        "id": "M4ve4QCmdFAB"
      },
      "execution_count": null,
      "outputs": []
    },
    {
      "cell_type": "markdown",
      "source": [
        "# Clean"
      ],
      "metadata": {
        "id": "1jM1fOHDEkvy"
      }
    },
    {
      "cell_type": "code",
      "source": [
        "shops = shops.drop(['shop_name'], axis=1)\n",
        "categories = categories.drop(['item_category_name'], axis=1)\n",
        "items = items.drop(['item_name'], axis=1)"
      ],
      "metadata": {
        "id": "ZpqywfSwEmFG"
      },
      "execution_count": null,
      "outputs": []
    },
    {
      "cell_type": "code",
      "source": [
        "len(sales)"
      ],
      "metadata": {
        "colab": {
          "base_uri": "https://localhost:8080/"
        },
        "id": "szd5HKEslv1Q",
        "outputId": "8093098c-84c8-490b-9e4d-0c4ca63a080f"
      },
      "execution_count": null,
      "outputs": [
        {
          "output_type": "execute_result",
          "data": {
            "text/plain": [
              "2935849"
            ]
          },
          "metadata": {},
          "execution_count": 15
        }
      ]
    },
    {
      "cell_type": "code",
      "source": [
        "2930306 - 2935849"
      ],
      "metadata": {
        "colab": {
          "base_uri": "https://localhost:8080/"
        },
        "id": "vZOFVAF0l3JL",
        "outputId": "b20c8769-8eaf-4415-8016-815799dcd453"
      },
      "execution_count": null,
      "outputs": [
        {
          "output_type": "execute_result",
          "data": {
            "text/plain": [
              "-5543"
            ]
          },
          "metadata": {},
          "execution_count": 16
        }
      ]
    },
    {
      "cell_type": "markdown",
      "source": [
        "# Fill 0 count and price"
      ],
      "metadata": {
        "id": "nMvl04JAdTf_"
      }
    },
    {
      "cell_type": "code",
      "source": [
        "class MissiingDatesFiller():\n",
        "    def __init__(self, len_shop, len_item, len_date):\n",
        "        self.len_shop = len_shop\n",
        "        self.len_item = len_item\n",
        "        self.len_date = len_date\n",
        "    \n",
        "    def fit(self, X, y=None):\n",
        "        return self\n",
        "\n",
        "    def transform(self, sales, y=None):\n",
        "        it_index, sh_index, date = [], [], []\n",
        "        for i in range(self.len_item):\n",
        "            it_index += [i]*(self.len_date * self.len_shop)\n",
        "            sh_index += list(range(self.len_shop))* self.len_date\n",
        "            for j in range(self.len_date):\n",
        "                date += [j] * self.len_shop\n",
        "        data = merge(\n",
        "            pd.DataFrame({\n",
        "                'item_id' : it_index,\n",
        "                'shop_id': sh_index,\n",
        "                'date_block_num' : date}), \n",
        "            pd.DataFrame(sales.groupby(\n",
        "                ['item_id','shop_id', 'date_block_num'])['item_cnt_day'].sum()).reset_index(level = [0,1,2]),\n",
        "            how='left', \n",
        "            on=['item_id','shop_id', 'date_block_num'], \n",
        "            fillna=0,\n",
        "            check_left=True)\n",
        "        data.columns = ['item_id', 'shop_id', 'date_block_num', 'item_cnt_month']\n",
        "        it_index, sh_index, date = 0, 0, 0\n",
        "        return data\n",
        "\n",
        "    def fit_transform(self, X, Y=None):\n",
        "        self.fit(X, Y)\n",
        "        return self.transform(X, Y)"
      ],
      "metadata": {
        "id": "0A3eR1MTMUP8"
      },
      "execution_count": null,
      "outputs": []
    },
    {
      "cell_type": "code",
      "source": [
        "class MissingPriceFiller():\n",
        "    def __init__(self, len_shop, len_item, len_date):\n",
        "        self.len_shop = len_shop\n",
        "        self.len_item = len_item\n",
        "        self.len_date = len_date\n",
        "\n",
        "    def fit(self, data, sales):\n",
        "        return self\n",
        "\n",
        "    def transform(self, data, sales):\n",
        "        mean_price = sales.groupby(['item_id', 'shop_id', 'date_block_num'])['item_price'].mean().reset_index([0,1,2])\n",
        "        data = merge(data, mean_price, \n",
        "                     on = ['item_id', 'shop_id', 'date_block_num'],\n",
        "                     how = 'left',\n",
        "                     check_left=True)\n",
        "        mean_price_month = sales.groupby(['item_id', 'date_block_num'])[['item_price']].mean().reset_index([0,1])\n",
        "        mean_price_month.columns = ['item_id', 'date_block_num','mean_item_price']\n",
        "        it_index, date = [], []\n",
        "        for i in range(len(items)):\n",
        "            it_index += [i]*(self.len_date)\n",
        "            date += list(range(self.len_date))\n",
        "        mean_price_month = merge(\n",
        "            mean_price_month, \n",
        "            pd.DataFrame({\n",
        "                'item_id' : it_index,\n",
        "                'date_block_num' : date}), \n",
        "                on = ['item_id', 'date_block_num'], \n",
        "            how = 'right',\n",
        "            check_right=True)\n",
        "        it_index, date = 0, 0\n",
        "        mean_price_month.mean_item_price = mean_price_month.groupby('item_id').mean_item_price.fillna(method = 'ffill') \n",
        "        mean_price_month.mean_item_price = mean_price_month.groupby('item_id').mean_item_price.fillna(method = 'bfill')\n",
        "        data = merge(data, \n",
        "             mean_price_month, \n",
        "             on = ['item_id', 'date_block_num'], \n",
        "             how = 'left',\n",
        "             check_left=True)\n",
        "        data.item_price = data.item_price.fillna(data['mean_item_price'])\n",
        "        data = data.drop(['mean_item_price'], axis = 1)\n",
        "        mean_price_month, mean_price = 0, 0\n",
        "        return data\n",
        "\n",
        "    def fit_transform(self, X, Y=None):\n",
        "        self.fit(X, Y)\n",
        "        return self.transform(X, Y)"
      ],
      "metadata": {
        "id": "dDm1rkyFeJVp"
      },
      "execution_count": null,
      "outputs": []
    },
    {
      "cell_type": "code",
      "source": [
        "data = MissiingDatesFiller(len(shops), len(items), PREDICT_MONTH + 1).fit_transform(sales)\n",
        "data = MissingPriceFiller(len(shops), len(items), PREDICT_MONTH + 1).fit_transform(data,sales)"
      ],
      "metadata": {
        "id": "TNWf4rqzRchQ"
      },
      "execution_count": null,
      "outputs": []
    },
    {
      "cell_type": "markdown",
      "source": [
        "# Predict dollar"
      ],
      "metadata": {
        "id": "wJoiGeQDbQ0Y"
      }
    },
    {
      "cell_type": "code",
      "source": [
        "class DollarPredictor():\n",
        "    def __init__(self, model, month):\n",
        "        self.model = model\n",
        "        self.month = month\n",
        "    \n",
        "    def fit_predict(self, df, y=None):\n",
        "        X = df['date_block_num'].to_numpy()\n",
        "        y = df.to_numpy()\n",
        "        X = X.reshape(-1,1)\n",
        "        self.model.fit(X,y)\n",
        "        return self.model.predict(np.array([self.month]).reshape(1,-1))[0]"
      ],
      "metadata": {
        "id": "d7aADtFhXX9c"
      },
      "execution_count": null,
      "outputs": []
    },
    {
      "cell_type": "code",
      "source": [
        "lr = LinearRegression()\n",
        "dollar.loc[PREDICT_MONTH] = DollarPredictor(lr, PREDICT_MONTH).fit_predict(dollar)"
      ],
      "metadata": {
        "id": "uAb1AViZd4Yi"
      },
      "execution_count": null,
      "outputs": []
    },
    {
      "cell_type": "markdown",
      "source": [
        "# Merge all and fill unknown prices of items "
      ],
      "metadata": {
        "id": "1zfuX3uHln0d"
      }
    },
    {
      "cell_type": "code",
      "source": [
        "#shops = merge(shops, population, on = 'city', check_left=True)\n",
        "data = merge(data, shops, on = 'shop_id', check_left=True)\n",
        "data = merge(data, items, on = 'item_id', check_left=True)\n",
        "data = merge(data, categories, on = 'item_category_id', check_left=True)\n",
        "#data = merge(data, dollar, on = 'date_block_num', check_left=True)\n",
        "len(data)"
      ],
      "metadata": {
        "colab": {
          "base_uri": "https://localhost:8080/"
        },
        "id": "N6owLNKhixOH",
        "outputId": "3b262310-c4d8-4ad2-cfdd-a61e6bc01320"
      },
      "execution_count": null,
      "outputs": [
        {
          "output_type": "execute_result",
          "data": {
            "text/plain": [
              "46557000"
            ]
          },
          "metadata": {},
          "execution_count": 20
        }
      ]
    },
    {
      "cell_type": "code",
      "source": [
        "data['item_price'] = data['item_price'].fillna(data.groupby('sub_cat')['item_price'].transform('mean'))"
      ],
      "metadata": {
        "id": "sYgnNPpDi4BF"
      },
      "execution_count": null,
      "outputs": []
    },
    {
      "cell_type": "markdown",
      "source": [
        "# Clean data"
      ],
      "metadata": {
        "id": "IRbeJLr8bYVB"
      }
    },
    {
      "cell_type": "code",
      "source": [
        "data.item_id = data.item_id.astype(np.int16)\n",
        "data.shop_id = data.shop_id.astype(np.int8)\n",
        "data.date_block_num = data.date_block_num.astype(np.int8)\n",
        "data.item_cnt_month = data.item_cnt_month.astype(np.int16)\n",
        "data.item_price = data.item_price.astype(np.float32)\n",
        "#data.dollar = data.dollar.astype(np.float32)"
      ],
      "metadata": {
        "id": "1BMUIZwrNpHB"
      },
      "execution_count": null,
      "outputs": []
    },
    {
      "cell_type": "code",
      "source": [
        "data = data.drop(['item_category_id'], axis=1)"
      ],
      "metadata": {
        "id": "MsDlr3aNpcMv"
      },
      "execution_count": null,
      "outputs": []
    },
    {
      "cell_type": "code",
      "source": [
        "len(data)     "
      ],
      "metadata": {
        "colab": {
          "base_uri": "https://localhost:8080/"
        },
        "id": "WVQRFI7Mmnd8",
        "outputId": "9e66c6c1-7108-4d3e-bc60-f5bd3fe630d6"
      },
      "execution_count": null,
      "outputs": [
        {
          "output_type": "execute_result",
          "data": {
            "text/plain": [
              "46557000"
            ]
          },
          "metadata": {},
          "execution_count": 24
        }
      ]
    },
    {
      "cell_type": "markdown",
      "source": [
        "# Rolling features"
      ],
      "metadata": {
        "id": "NC0L6GYjchrz"
      }
    },
    {
      "cell_type": "code",
      "source": [
        "from category_encoders import TargetEncoder"
      ],
      "metadata": {
        "id": "BTHlZsVufwT-"
      },
      "execution_count": null,
      "outputs": []
    },
    {
      "cell_type": "code",
      "source": [
        "class RollingFeatureCreator():\n",
        "    def __init__(self, params):\n",
        "        self.params = params\n",
        "\n",
        "    def fit(self, X, y=None):\n",
        "        return self\n",
        "\n",
        "    def transform(self, X, y=None):\n",
        "        for agg_name, window, func in self.params:\n",
        "            col_name = agg_name\n",
        "            if agg_name.endswith('_id'):\n",
        "                col_name = agg_name[:-3]\n",
        "            func_name = func\n",
        "            if func == 'mean':\n",
        "                func_name = 'avg'\n",
        "            col_name = f'rol_{func_name}_{col_name}{window}'\n",
        "            sample = X.groupby([agg_name, 'date_block_num'])[['item_cnt_month']].sum().reset_index([0,1])\n",
        "            sample[col_name] = sample.groupby(agg_name)['item_cnt_month'].shift(1)\n",
        "            sample[col_name] = sample.groupby(agg_name)[col_name].rolling(window).agg({col_name: func}).reset_index(0, drop=True)\n",
        "            sample[col_name] = sample[col_name].fillna(0)\n",
        "            X = merge(X, \n",
        "                      sample[[agg_name, 'date_block_num', col_name]], \n",
        "                      on=[agg_name, 'date_block_num'], \n",
        "                      how = 'left',\n",
        "                      check_left=True)\n",
        "            sample = 0\n",
        "            if func in ['mean', 'median', 'std']:\n",
        "                X[col_name] = X[col_name].astype(np.float32)\n",
        "            else:\n",
        "                X[col_name] = X[col_name].astype(np.int32)\n",
        "        return X"
      ],
      "metadata": {
        "id": "BRHVVx8XTc_G"
      },
      "execution_count": null,
      "outputs": []
    },
    {
      "cell_type": "code",
      "source": [
        "class LagFeatureCreator():\n",
        "    def __init__(self, params):\n",
        "        self.params = params\n",
        "\n",
        "    def fit(self, X, y=None):\n",
        "        return self\n",
        "\n",
        "    def transform(self, X, y=None):\n",
        "        for window, target, fillna, new_type in self.params:\n",
        "            col_name = f'lag_item_shop{window}'\n",
        "            X[col_name] = X.groupby(['item_id', 'shop_id'])[target].shift(window).fillna(fillna)\n",
        "            X[col_name] = X[col_name].astype(new_type)\n",
        "        return X"
      ],
      "metadata": {
        "id": "PNdXMvJrYPvE"
      },
      "execution_count": null,
      "outputs": []
    },
    {
      "cell_type": "code",
      "source": [
        "class DifFeatureCreator():\n",
        "    def __init__(self, params):\n",
        "        self.params = params\n",
        "\n",
        "    def fit(self, X, y=None):\n",
        "        return self\n",
        "\n",
        "    def transform(self, X, y=None):\n",
        "        for name, x, y in self.params:\n",
        "            X[name] = X[x] - X[y]\n",
        "        return X"
      ],
      "metadata": {
        "id": "Bu4dKWhhDc3d"
      },
      "execution_count": null,
      "outputs": []
    },
    {
      "cell_type": "code",
      "source": [
        "class CatTargetEncoder():\n",
        "    def __init__(self, months, params):\n",
        "        self.months = months[1:]\n",
        "        self.params = params\n",
        "\n",
        "    def fit(self, X, y=None):\n",
        "        return self\n",
        "\n",
        "    def transform(self, data, y=None):\n",
        "        for col, encoded_name, target in self.params:\n",
        "            for month in self.months:\n",
        "                print(month)\n",
        "                encoder = TargetEncoder()\n",
        "                encoder.fit(data[data.date_block_num < month][col].astype(str), data[data.date_block_num < month][target])\n",
        "                res = encoder.transform(data[data.date_block_num == month][col].astype(str))\n",
        "                data.loc[data.date_block_num == month, encoded_name] = res.iloc[:,0]\n",
        "        return data"
      ],
      "metadata": {
        "id": "XAjTw4TRzWOJ"
      },
      "execution_count": null,
      "outputs": []
    },
    {
      "cell_type": "code",
      "source": [
        "class CatLabelEncoder():\n",
        "    def __init__(self, col_names):\n",
        "        self.col_names = col_names\n",
        "\n",
        "    def fit(self, X, y=None):\n",
        "        return self\n",
        "\n",
        "    def transform(self, X, y=None):\n",
        "        for col in self.col_names:\n",
        "            encoder = LabelEncoder()\n",
        "            X[col] = encoder.fit_transform(X[col])\n",
        "            X[col] = X[col].astype(np.int8)\n",
        "        return X\n",
        "\n"
      ],
      "metadata": {
        "id": "VNo57vffGeSm"
      },
      "execution_count": null,
      "outputs": []
    },
    {
      "cell_type": "code",
      "source": [
        "rol_lst1 = [ \n",
        "    ('city', 2, 'mean'),\n",
        "    ('city', 6, 'mean'),\n",
        "    ('sub_cat', 2, 'sum'),\n",
        "    ('sub_cat', 4, 'mean'),\n",
        "    ('sub_cat', 4, 'std'),\n",
        "    ('sub_cat', 6, 'mean'),\n",
        "    ('item_id', 4, 'median'),\n",
        "    ('cat', 6, 'mean'),\n",
        "    ('cat', 2, 'sum'),\n",
        "    ('cat', 4, 'mean'),\n",
        "    ('cat', 4, 'std'),\n",
        "    ('shop_id', 2, 'mean'),\n",
        "    ('shop_id', 4, 'mean'),\n",
        "    ('shop_id', 6, 'median')\n",
        "    ]\n",
        "rol_lst2 = [\n",
        "    ('item_id', 12, 'mean'),\n",
        "    ('shop_id', 12, 'mean'),\n",
        "    ('cat', 12, 'mean'),\n",
        "    ('sub_cat', 12, 'mean')\n",
        "]\n",
        "rol_lst3 = [\n",
        "    ('item_id', 2, 'mean'),\n",
        "    ('item_id', 4, 'max'),\n",
        "    ('item_id', 6, 'mean'),\n",
        "    ('item_id', 6, 'std'),\n",
        "]\n",
        "rol_lst4 = [\n",
        "    ('sub_cat', 5, 'min'),\n",
        "    ('cat', 5, 'min'),\n",
        "    ('city', 6, 'std'),\n",
        "    ('shop_id', 5, 'min'),\n",
        "    ('sub_cat', 5, 'median'),\n",
        "    ('cat', 5, 'median'),\n",
        "    ('cat', 1, 'sum'),\n",
        "    ('sub_cat', 1, 'sum'),\n",
        "    ('shop_id', 6, 'std'),\n",
        "    ('item_id', 1, 'sum'),\n",
        "    ('shop_id', 1, 'sum'),\n",
        "    ('item_id', 8, 'mean'),\n",
        "    ('shop_id', 8, 'mean'),\n",
        "    ('cat', 8, 'mean'),\n",
        "    ('sub_cat', 8, 'mean')\n",
        "]\n",
        "lag_lst = [\n",
        "    (1, 'item_cnt_month', 0, np.int16),\n",
        "    (2, 'item_cnt_month', 0, np.int16),\n",
        "    (3, 'item_cnt_month', 0, np.int16), \n",
        "    (4, 'item_cnt_month', 0, np.int16), \n",
        "    (12, 'item_cnt_month', 0, np.int16)]\n",
        "dif_lst = [\n",
        "    ('dif2_1', 'lag_item_shop2', 'lag_item_shop1'),\n",
        "    ('dif4_1', 'lag_item_shop4', 'lag_item_shop1'),\n",
        "    ('dif12_1', 'lag_item_shop12', 'lag_item_shop1'),\n",
        "    ('difitem6_2', 'rol_avg_item6', 'rol_avg_item2'),\n",
        "]\n",
        "cat_label_lst = ['cat', 'sub_cat', 'city']\n",
        "cat_target_lst = [\n",
        "   \n",
        "]\n",
        "cat_target_lst1 = [\n",
        "    ('city', 'city_target', 'item_cnt_month'),\n",
        "    ('cat', 'cat_target', 'item_cnt_month'),\n",
        "    ('sub_cat', 'sub_cat_target', 'item_cnt_month'),\n",
        "    ('shop_id', 'shop_target', 'item_cnt_month'),\n",
        "    ('item_id', 'item_target', 'item_cnt_month'),\n",
        "]\n",
        "cat_target_lst2 = [\n",
        "    (['city', 'cat'], 'city_cat_target', 'item_cnt_month'),\n",
        "    (['city', 'sub_cat'], 'city_subcat_target', 'item_cnt_month'),\n",
        "    (['item_id','shop_id'], 'item_shop_target', 'item_cnt_month'),\n",
        "]"
      ],
      "metadata": {
        "id": "L47l93F6B1cj"
      },
      "execution_count": null,
      "outputs": []
    },
    {
      "cell_type": "code",
      "source": [
        "feature_creating_pipeline = Pipeline(steps=[\n",
        "                                            ('lag',LagFeatureCreator(params=lag_lst)),\n",
        "                                            ('rol', RollingFeatureCreator(params=rol_lst3)),\n",
        "                                            ('dif',DifFeatureCreator(params=dif_lst))])\n",
        "feature_creating_pipeline.fit(data)\n",
        "data = feature_creating_pipeline.transform(data)"
      ],
      "metadata": {
        "id": "XrrmSyJgDqQt"
      },
      "execution_count": null,
      "outputs": []
    },
    {
      "cell_type": "code",
      "source": [
        "\n",
        "feature_creating_pipeline = Pipeline(steps=[\n",
        "    ('target', CatTargetEncoder(months,cat_target_lst2))\n",
        "                                            \n",
        "                                            ])\n",
        "feature_creating_pipeline.fit(data)\n",
        "data = feature_creating_pipeline.transform(data)"
      ],
      "metadata": {
        "id": "o_dMtarWDAaV"
      },
      "execution_count": null,
      "outputs": []
    },
    {
      "cell_type": "code",
      "source": [
        "cat_pipeline = Pipeline(steps=[\n",
        "    ('target', CatTargetEncoder(cat_target_lst)),\n",
        "    ('label', CatLabelEncoder(cat_label_lst))\n",
        "])\n",
        "cat_pipeline.fit(data)\n",
        "data = cat_pipeline.transform(data)"
      ],
      "metadata": {
        "id": "VAl-_uO0n7zr"
      },
      "execution_count": null,
      "outputs": []
    },
    {
      "cell_type": "code",
      "source": [
        "cols = ['item_id', 'shop_id', 'item_cnt_month']"
      ],
      "metadata": {
        "id": "ayjPm0bDmZ4k"
      },
      "execution_count": null,
      "outputs": []
    },
    {
      "cell_type": "markdown",
      "source": [
        "# Other fet"
      ],
      "metadata": {
        "id": "o7WOU0Gv2IT7"
      }
    },
    {
      "cell_type": "code",
      "source": [
        "data['month'] = data['date_block_num'] % 12 + 1"
      ],
      "metadata": {
        "id": "2Lw-j3De2L25"
      },
      "execution_count": null,
      "outputs": []
    },
    {
      "cell_type": "code",
      "source": [
        "temp = data.groupby(['date_block_num'])[['item_cnt_month']].sum().shift(1).fillna(0).reset_index([0])\n",
        "temp.columns = ['date_block_num', 'lag_month1']\n",
        "data = merge(data, temp, on='date_block_num', how='left', check_left=True)"
      ],
      "metadata": {
        "id": "bEmdk9hN2ZhZ"
      },
      "execution_count": null,
      "outputs": []
    },
    {
      "cell_type": "code",
      "source": [
        "temp = data[data.item_cnt_month > 0].groupby(['city', 'date_block_num'])[['shop_id']].nunique()\n",
        "temp.columns = ['shop_cnt']\n",
        "temp = temp.reset_index([0,1])"
      ],
      "metadata": {
        "id": "JdHuMyaV9JYc"
      },
      "execution_count": null,
      "outputs": []
    },
    {
      "cell_type": "code",
      "source": [
        "data = merge(data, temp, on=['city', 'date_block_num'], how='left', check_left=True, fillna=0)"
      ],
      "metadata": {
        "id": "GABOVD93_9W_"
      },
      "execution_count": null,
      "outputs": []
    },
    {
      "cell_type": "code",
      "source": [
        "data.lag_month1 = data.lag_month1.astype(np.int32)\n",
        "data.shop_cnt = data.shop_cnt.astype(np.int8)"
      ],
      "metadata": {
        "id": "f7TXotoCAWnW"
      },
      "execution_count": null,
      "outputs": []
    },
    {
      "cell_type": "code",
      "source": [
        "data['shop_per_pop'] = data['shop_cnt'] / data['pop']\n",
        "data['shop_per_pop'] = data['shop_per_pop'].astype(np.float32)"
      ],
      "metadata": {
        "id": "tE7i8MT0Arj2"
      },
      "execution_count": null,
      "outputs": []
    },
    {
      "cell_type": "code",
      "source": [
        "temp[temp.city == 'Москва']"
      ],
      "metadata": {
        "colab": {
          "base_uri": "https://localhost:8080/"
        },
        "id": "e6mX1CHi_MJ_",
        "outputId": "058e88ea-ea22-4888-fc55-7cea69fdf003"
      },
      "execution_count": null,
      "outputs": [
        {
          "output_type": "execute_result",
          "data": {
            "text/plain": [
              "       city  date_block_num  shop_cnt\n",
              "410  Москва               0        12\n",
              "411  Москва               1        12\n",
              "412  Москва               2        12\n",
              "413  Москва               3        12\n",
              "414  Москва               4        11\n",
              "415  Москва               5        11\n",
              "416  Москва               6        11\n",
              "417  Москва               7        10\n",
              "418  Москва               8        10\n",
              "419  Москва               9        10\n",
              "420  Москва              10        10\n",
              "421  Москва              11        10\n",
              "422  Москва              12        10\n",
              "423  Москва              13        10\n",
              "424  Москва              14        10\n",
              "425  Москва              15        10\n",
              "426  Москва              16        10\n",
              "427  Москва              17        10\n",
              "428  Москва              18        10\n",
              "429  Москва              19        10\n",
              "430  Москва              20        10\n",
              "431  Москва              21        11\n",
              "432  Москва              22        10\n",
              "433  Москва              23        10\n",
              "434  Москва              24        10\n",
              "435  Москва              25        10\n",
              "436  Москва              26         9\n",
              "437  Москва              27         9\n",
              "438  Москва              28         9\n",
              "439  Москва              29         8\n",
              "440  Москва              30         8\n",
              "441  Москва              31         7\n",
              "442  Москва              32         7\n",
              "443  Москва              33         8"
            ],
            "text/html": [
              "\n",
              "  <div id=\"df-ee14b75a-446d-495f-9a1d-58ff734ef427\">\n",
              "    <div class=\"colab-df-container\">\n",
              "      <div>\n",
              "<style scoped>\n",
              "    .dataframe tbody tr th:only-of-type {\n",
              "        vertical-align: middle;\n",
              "    }\n",
              "\n",
              "    .dataframe tbody tr th {\n",
              "        vertical-align: top;\n",
              "    }\n",
              "\n",
              "    .dataframe thead th {\n",
              "        text-align: right;\n",
              "    }\n",
              "</style>\n",
              "<table border=\"1\" class=\"dataframe\">\n",
              "  <thead>\n",
              "    <tr style=\"text-align: right;\">\n",
              "      <th></th>\n",
              "      <th>city</th>\n",
              "      <th>date_block_num</th>\n",
              "      <th>shop_cnt</th>\n",
              "    </tr>\n",
              "  </thead>\n",
              "  <tbody>\n",
              "    <tr>\n",
              "      <th>410</th>\n",
              "      <td>Москва</td>\n",
              "      <td>0</td>\n",
              "      <td>12</td>\n",
              "    </tr>\n",
              "    <tr>\n",
              "      <th>411</th>\n",
              "      <td>Москва</td>\n",
              "      <td>1</td>\n",
              "      <td>12</td>\n",
              "    </tr>\n",
              "    <tr>\n",
              "      <th>412</th>\n",
              "      <td>Москва</td>\n",
              "      <td>2</td>\n",
              "      <td>12</td>\n",
              "    </tr>\n",
              "    <tr>\n",
              "      <th>413</th>\n",
              "      <td>Москва</td>\n",
              "      <td>3</td>\n",
              "      <td>12</td>\n",
              "    </tr>\n",
              "    <tr>\n",
              "      <th>414</th>\n",
              "      <td>Москва</td>\n",
              "      <td>4</td>\n",
              "      <td>11</td>\n",
              "    </tr>\n",
              "    <tr>\n",
              "      <th>415</th>\n",
              "      <td>Москва</td>\n",
              "      <td>5</td>\n",
              "      <td>11</td>\n",
              "    </tr>\n",
              "    <tr>\n",
              "      <th>416</th>\n",
              "      <td>Москва</td>\n",
              "      <td>6</td>\n",
              "      <td>11</td>\n",
              "    </tr>\n",
              "    <tr>\n",
              "      <th>417</th>\n",
              "      <td>Москва</td>\n",
              "      <td>7</td>\n",
              "      <td>10</td>\n",
              "    </tr>\n",
              "    <tr>\n",
              "      <th>418</th>\n",
              "      <td>Москва</td>\n",
              "      <td>8</td>\n",
              "      <td>10</td>\n",
              "    </tr>\n",
              "    <tr>\n",
              "      <th>419</th>\n",
              "      <td>Москва</td>\n",
              "      <td>9</td>\n",
              "      <td>10</td>\n",
              "    </tr>\n",
              "    <tr>\n",
              "      <th>420</th>\n",
              "      <td>Москва</td>\n",
              "      <td>10</td>\n",
              "      <td>10</td>\n",
              "    </tr>\n",
              "    <tr>\n",
              "      <th>421</th>\n",
              "      <td>Москва</td>\n",
              "      <td>11</td>\n",
              "      <td>10</td>\n",
              "    </tr>\n",
              "    <tr>\n",
              "      <th>422</th>\n",
              "      <td>Москва</td>\n",
              "      <td>12</td>\n",
              "      <td>10</td>\n",
              "    </tr>\n",
              "    <tr>\n",
              "      <th>423</th>\n",
              "      <td>Москва</td>\n",
              "      <td>13</td>\n",
              "      <td>10</td>\n",
              "    </tr>\n",
              "    <tr>\n",
              "      <th>424</th>\n",
              "      <td>Москва</td>\n",
              "      <td>14</td>\n",
              "      <td>10</td>\n",
              "    </tr>\n",
              "    <tr>\n",
              "      <th>425</th>\n",
              "      <td>Москва</td>\n",
              "      <td>15</td>\n",
              "      <td>10</td>\n",
              "    </tr>\n",
              "    <tr>\n",
              "      <th>426</th>\n",
              "      <td>Москва</td>\n",
              "      <td>16</td>\n",
              "      <td>10</td>\n",
              "    </tr>\n",
              "    <tr>\n",
              "      <th>427</th>\n",
              "      <td>Москва</td>\n",
              "      <td>17</td>\n",
              "      <td>10</td>\n",
              "    </tr>\n",
              "    <tr>\n",
              "      <th>428</th>\n",
              "      <td>Москва</td>\n",
              "      <td>18</td>\n",
              "      <td>10</td>\n",
              "    </tr>\n",
              "    <tr>\n",
              "      <th>429</th>\n",
              "      <td>Москва</td>\n",
              "      <td>19</td>\n",
              "      <td>10</td>\n",
              "    </tr>\n",
              "    <tr>\n",
              "      <th>430</th>\n",
              "      <td>Москва</td>\n",
              "      <td>20</td>\n",
              "      <td>10</td>\n",
              "    </tr>\n",
              "    <tr>\n",
              "      <th>431</th>\n",
              "      <td>Москва</td>\n",
              "      <td>21</td>\n",
              "      <td>11</td>\n",
              "    </tr>\n",
              "    <tr>\n",
              "      <th>432</th>\n",
              "      <td>Москва</td>\n",
              "      <td>22</td>\n",
              "      <td>10</td>\n",
              "    </tr>\n",
              "    <tr>\n",
              "      <th>433</th>\n",
              "      <td>Москва</td>\n",
              "      <td>23</td>\n",
              "      <td>10</td>\n",
              "    </tr>\n",
              "    <tr>\n",
              "      <th>434</th>\n",
              "      <td>Москва</td>\n",
              "      <td>24</td>\n",
              "      <td>10</td>\n",
              "    </tr>\n",
              "    <tr>\n",
              "      <th>435</th>\n",
              "      <td>Москва</td>\n",
              "      <td>25</td>\n",
              "      <td>10</td>\n",
              "    </tr>\n",
              "    <tr>\n",
              "      <th>436</th>\n",
              "      <td>Москва</td>\n",
              "      <td>26</td>\n",
              "      <td>9</td>\n",
              "    </tr>\n",
              "    <tr>\n",
              "      <th>437</th>\n",
              "      <td>Москва</td>\n",
              "      <td>27</td>\n",
              "      <td>9</td>\n",
              "    </tr>\n",
              "    <tr>\n",
              "      <th>438</th>\n",
              "      <td>Москва</td>\n",
              "      <td>28</td>\n",
              "      <td>9</td>\n",
              "    </tr>\n",
              "    <tr>\n",
              "      <th>439</th>\n",
              "      <td>Москва</td>\n",
              "      <td>29</td>\n",
              "      <td>8</td>\n",
              "    </tr>\n",
              "    <tr>\n",
              "      <th>440</th>\n",
              "      <td>Москва</td>\n",
              "      <td>30</td>\n",
              "      <td>8</td>\n",
              "    </tr>\n",
              "    <tr>\n",
              "      <th>441</th>\n",
              "      <td>Москва</td>\n",
              "      <td>31</td>\n",
              "      <td>7</td>\n",
              "    </tr>\n",
              "    <tr>\n",
              "      <th>442</th>\n",
              "      <td>Москва</td>\n",
              "      <td>32</td>\n",
              "      <td>7</td>\n",
              "    </tr>\n",
              "    <tr>\n",
              "      <th>443</th>\n",
              "      <td>Москва</td>\n",
              "      <td>33</td>\n",
              "      <td>8</td>\n",
              "    </tr>\n",
              "  </tbody>\n",
              "</table>\n",
              "</div>\n",
              "      <button class=\"colab-df-convert\" onclick=\"convertToInteractive('df-ee14b75a-446d-495f-9a1d-58ff734ef427')\"\n",
              "              title=\"Convert this dataframe to an interactive table.\"\n",
              "              style=\"display:none;\">\n",
              "        \n",
              "  <svg xmlns=\"http://www.w3.org/2000/svg\" height=\"24px\"viewBox=\"0 0 24 24\"\n",
              "       width=\"24px\">\n",
              "    <path d=\"M0 0h24v24H0V0z\" fill=\"none\"/>\n",
              "    <path d=\"M18.56 5.44l.94 2.06.94-2.06 2.06-.94-2.06-.94-.94-2.06-.94 2.06-2.06.94zm-11 1L8.5 8.5l.94-2.06 2.06-.94-2.06-.94L8.5 2.5l-.94 2.06-2.06.94zm10 10l.94 2.06.94-2.06 2.06-.94-2.06-.94-.94-2.06-.94 2.06-2.06.94z\"/><path d=\"M17.41 7.96l-1.37-1.37c-.4-.4-.92-.59-1.43-.59-.52 0-1.04.2-1.43.59L10.3 9.45l-7.72 7.72c-.78.78-.78 2.05 0 2.83L4 21.41c.39.39.9.59 1.41.59.51 0 1.02-.2 1.41-.59l7.78-7.78 2.81-2.81c.8-.78.8-2.07 0-2.86zM5.41 20L4 18.59l7.72-7.72 1.47 1.35L5.41 20z\"/>\n",
              "  </svg>\n",
              "      </button>\n",
              "      \n",
              "  <style>\n",
              "    .colab-df-container {\n",
              "      display:flex;\n",
              "      flex-wrap:wrap;\n",
              "      gap: 12px;\n",
              "    }\n",
              "\n",
              "    .colab-df-convert {\n",
              "      background-color: #E8F0FE;\n",
              "      border: none;\n",
              "      border-radius: 50%;\n",
              "      cursor: pointer;\n",
              "      display: none;\n",
              "      fill: #1967D2;\n",
              "      height: 32px;\n",
              "      padding: 0 0 0 0;\n",
              "      width: 32px;\n",
              "    }\n",
              "\n",
              "    .colab-df-convert:hover {\n",
              "      background-color: #E2EBFA;\n",
              "      box-shadow: 0px 1px 2px rgba(60, 64, 67, 0.3), 0px 1px 3px 1px rgba(60, 64, 67, 0.15);\n",
              "      fill: #174EA6;\n",
              "    }\n",
              "\n",
              "    [theme=dark] .colab-df-convert {\n",
              "      background-color: #3B4455;\n",
              "      fill: #D2E3FC;\n",
              "    }\n",
              "\n",
              "    [theme=dark] .colab-df-convert:hover {\n",
              "      background-color: #434B5C;\n",
              "      box-shadow: 0px 1px 3px 1px rgba(0, 0, 0, 0.15);\n",
              "      filter: drop-shadow(0px 1px 2px rgba(0, 0, 0, 0.3));\n",
              "      fill: #FFFFFF;\n",
              "    }\n",
              "  </style>\n",
              "\n",
              "      <script>\n",
              "        const buttonEl =\n",
              "          document.querySelector('#df-ee14b75a-446d-495f-9a1d-58ff734ef427 button.colab-df-convert');\n",
              "        buttonEl.style.display =\n",
              "          google.colab.kernel.accessAllowed ? 'block' : 'none';\n",
              "\n",
              "        async function convertToInteractive(key) {\n",
              "          const element = document.querySelector('#df-ee14b75a-446d-495f-9a1d-58ff734ef427');\n",
              "          const dataTable =\n",
              "            await google.colab.kernel.invokeFunction('convertToInteractive',\n",
              "                                                     [key], {});\n",
              "          if (!dataTable) return;\n",
              "\n",
              "          const docLinkHtml = 'Like what you see? Visit the ' +\n",
              "            '<a target=\"_blank\" href=https://colab.research.google.com/notebooks/data_table.ipynb>data table notebook</a>'\n",
              "            + ' to learn more about interactive tables.';\n",
              "          element.innerHTML = '';\n",
              "          dataTable['output_type'] = 'display_data';\n",
              "          await google.colab.output.renderOutput(dataTable, element);\n",
              "          const docLink = document.createElement('div');\n",
              "          docLink.innerHTML = docLinkHtml;\n",
              "          element.appendChild(docLink);\n",
              "        }\n",
              "      </script>\n",
              "    </div>\n",
              "  </div>\n",
              "  "
            ]
          },
          "metadata": {},
          "execution_count": 41
        }
      ]
    },
    {
      "cell_type": "code",
      "source": [
        "data.sample()"
      ],
      "metadata": {
        "colab": {
          "base_uri": "https://localhost:8080/"
        },
        "id": "azmE9H273ewU",
        "outputId": "5779c446-d105-406e-d080-d9b95d36300a"
      },
      "execution_count": null,
      "outputs": [
        {
          "output_type": "execute_result",
          "data": {
            "text/plain": [
              "         item_id  shop_id  date_block_num  item_cnt_month  rol_std_item_shop3  \\\n",
              "3933048    11844       48               2               0                 0.0   \n",
              "\n",
              "         rol_std_item_shop6  month  lag_month1  \n",
              "3933048                 0.0      3    128090.0  "
            ],
            "text/html": [
              "\n",
              "  <div id=\"df-07c784d6-5e0d-4bd7-9334-c95676484577\">\n",
              "    <div class=\"colab-df-container\">\n",
              "      <div>\n",
              "<style scoped>\n",
              "    .dataframe tbody tr th:only-of-type {\n",
              "        vertical-align: middle;\n",
              "    }\n",
              "\n",
              "    .dataframe tbody tr th {\n",
              "        vertical-align: top;\n",
              "    }\n",
              "\n",
              "    .dataframe thead th {\n",
              "        text-align: right;\n",
              "    }\n",
              "</style>\n",
              "<table border=\"1\" class=\"dataframe\">\n",
              "  <thead>\n",
              "    <tr style=\"text-align: right;\">\n",
              "      <th></th>\n",
              "      <th>item_id</th>\n",
              "      <th>shop_id</th>\n",
              "      <th>date_block_num</th>\n",
              "      <th>item_cnt_month</th>\n",
              "      <th>rol_std_item_shop3</th>\n",
              "      <th>rol_std_item_shop6</th>\n",
              "      <th>month</th>\n",
              "      <th>lag_month1</th>\n",
              "    </tr>\n",
              "  </thead>\n",
              "  <tbody>\n",
              "    <tr>\n",
              "      <th>3933048</th>\n",
              "      <td>11844</td>\n",
              "      <td>48</td>\n",
              "      <td>2</td>\n",
              "      <td>0</td>\n",
              "      <td>0.0</td>\n",
              "      <td>0.0</td>\n",
              "      <td>3</td>\n",
              "      <td>128090.0</td>\n",
              "    </tr>\n",
              "  </tbody>\n",
              "</table>\n",
              "</div>\n",
              "      <button class=\"colab-df-convert\" onclick=\"convertToInteractive('df-07c784d6-5e0d-4bd7-9334-c95676484577')\"\n",
              "              title=\"Convert this dataframe to an interactive table.\"\n",
              "              style=\"display:none;\">\n",
              "        \n",
              "  <svg xmlns=\"http://www.w3.org/2000/svg\" height=\"24px\"viewBox=\"0 0 24 24\"\n",
              "       width=\"24px\">\n",
              "    <path d=\"M0 0h24v24H0V0z\" fill=\"none\"/>\n",
              "    <path d=\"M18.56 5.44l.94 2.06.94-2.06 2.06-.94-2.06-.94-.94-2.06-.94 2.06-2.06.94zm-11 1L8.5 8.5l.94-2.06 2.06-.94-2.06-.94L8.5 2.5l-.94 2.06-2.06.94zm10 10l.94 2.06.94-2.06 2.06-.94-2.06-.94-.94-2.06-.94 2.06-2.06.94z\"/><path d=\"M17.41 7.96l-1.37-1.37c-.4-.4-.92-.59-1.43-.59-.52 0-1.04.2-1.43.59L10.3 9.45l-7.72 7.72c-.78.78-.78 2.05 0 2.83L4 21.41c.39.39.9.59 1.41.59.51 0 1.02-.2 1.41-.59l7.78-7.78 2.81-2.81c.8-.78.8-2.07 0-2.86zM5.41 20L4 18.59l7.72-7.72 1.47 1.35L5.41 20z\"/>\n",
              "  </svg>\n",
              "      </button>\n",
              "      \n",
              "  <style>\n",
              "    .colab-df-container {\n",
              "      display:flex;\n",
              "      flex-wrap:wrap;\n",
              "      gap: 12px;\n",
              "    }\n",
              "\n",
              "    .colab-df-convert {\n",
              "      background-color: #E8F0FE;\n",
              "      border: none;\n",
              "      border-radius: 50%;\n",
              "      cursor: pointer;\n",
              "      display: none;\n",
              "      fill: #1967D2;\n",
              "      height: 32px;\n",
              "      padding: 0 0 0 0;\n",
              "      width: 32px;\n",
              "    }\n",
              "\n",
              "    .colab-df-convert:hover {\n",
              "      background-color: #E2EBFA;\n",
              "      box-shadow: 0px 1px 2px rgba(60, 64, 67, 0.3), 0px 1px 3px 1px rgba(60, 64, 67, 0.15);\n",
              "      fill: #174EA6;\n",
              "    }\n",
              "\n",
              "    [theme=dark] .colab-df-convert {\n",
              "      background-color: #3B4455;\n",
              "      fill: #D2E3FC;\n",
              "    }\n",
              "\n",
              "    [theme=dark] .colab-df-convert:hover {\n",
              "      background-color: #434B5C;\n",
              "      box-shadow: 0px 1px 3px 1px rgba(0, 0, 0, 0.15);\n",
              "      filter: drop-shadow(0px 1px 2px rgba(0, 0, 0, 0.3));\n",
              "      fill: #FFFFFF;\n",
              "    }\n",
              "  </style>\n",
              "\n",
              "      <script>\n",
              "        const buttonEl =\n",
              "          document.querySelector('#df-07c784d6-5e0d-4bd7-9334-c95676484577 button.colab-df-convert');\n",
              "        buttonEl.style.display =\n",
              "          google.colab.kernel.accessAllowed ? 'block' : 'none';\n",
              "\n",
              "        async function convertToInteractive(key) {\n",
              "          const element = document.querySelector('#df-07c784d6-5e0d-4bd7-9334-c95676484577');\n",
              "          const dataTable =\n",
              "            await google.colab.kernel.invokeFunction('convertToInteractive',\n",
              "                                                     [key], {});\n",
              "          if (!dataTable) return;\n",
              "\n",
              "          const docLinkHtml = 'Like what you see? Visit the ' +\n",
              "            '<a target=\"_blank\" href=https://colab.research.google.com/notebooks/data_table.ipynb>data table notebook</a>'\n",
              "            + ' to learn more about interactive tables.';\n",
              "          element.innerHTML = '';\n",
              "          dataTable['output_type'] = 'display_data';\n",
              "          await google.colab.output.renderOutput(dataTable, element);\n",
              "          const docLink = document.createElement('div');\n",
              "          docLink.innerHTML = docLinkHtml;\n",
              "          element.appendChild(docLink);\n",
              "        }\n",
              "      </script>\n",
              "    </div>\n",
              "  </div>\n",
              "  "
            ]
          },
          "metadata": {},
          "execution_count": 31
        }
      ]
    },
    {
      "cell_type": "markdown",
      "source": [
        "# Save to .parquet"
      ],
      "metadata": {
        "id": "5uZ8b_fyaiVw"
      }
    },
    {
      "cell_type": "code",
      "source": [
        "test = data[data.date_block_num == PREDICT_MONTH]\n",
        "test.to_parquet('/content/drive/MyDrive/data/short_test.parquet')\n",
        "#data[(data.date_block_num > 19) & (data.date_block_num < PREDICT_MONTH)].to_parquet('/content/drive/MyDrive/data/train2.parquet')"
      ],
      "metadata": {
        "id": "Ktq6Z5JyqxlE"
      },
      "execution_count": null,
      "outputs": []
    },
    {
      "cell_type": "code",
      "source": [
        "data[(data.date_block_num > 10)& (data.date_block_num < PREDICT_MONTH)].to_parquet('/content/drive/MyDrive/data/short_train.parquet')"
      ],
      "metadata": {
        "id": "gZczLF9VoxT1"
      },
      "execution_count": null,
      "outputs": []
    },
    {
      "cell_type": "code",
      "source": [
        "data[(data.date_block_num > 19) & (data.date_block_num < 34)].to_parquet('/content/drive/MyDrive/data/train5.parquet')"
      ],
      "metadata": {
        "id": "6d_dR7Xixj8D"
      },
      "execution_count": null,
      "outputs": []
    },
    {
      "cell_type": "code",
      "source": [
        "test.to_parquet('/content/drive/MyDrive/data/predict5.parquet')"
      ],
      "metadata": {
        "id": "btLbvBR8y8ll"
      },
      "execution_count": null,
      "outputs": []
    }
  ]
}