{
 "cells": [
  {
   "cell_type": "code",
   "execution_count": 1,
   "id": "c5c7f3d8",
   "metadata": {},
   "outputs": [],
   "source": [
    "import pandas as pd\n",
    "import numpy as np\n",
    "import matplotlib.pyplot as plt"
   ]
  },
  {
   "cell_type": "code",
   "execution_count": 2,
   "id": "debcd097",
   "metadata": {},
   "outputs": [],
   "source": [
    "import seaborn as sns"
   ]
  },
  {
   "cell_type": "code",
   "execution_count": 3,
   "id": "7d7fbcfa",
   "metadata": {},
   "outputs": [],
   "source": [
    "from datetime import datetime"
   ]
  },
  {
   "cell_type": "code",
   "execution_count": 4,
   "id": "0cb51338",
   "metadata": {},
   "outputs": [],
   "source": [
    "np.random.seed(42)"
   ]
  },
  {
   "cell_type": "code",
   "execution_count": 5,
   "id": "85fa98bb",
   "metadata": {},
   "outputs": [],
   "source": [
    "categories = pd.read_csv('D:\\EPAM\\epam_mentorship\\data\\item_categories.csv')\n",
    "items = pd.read_csv('D:\\EPAM\\epam_mentorship\\data\\items.csv')\n",
    "shops = pd.read_csv('D:\\EPAM\\epam_mentorship\\data\\shops.csv')\n",
    "sales = pd.read_csv('D:\\EPAM\\epam_mentorship\\data\\sales_train.csv')"
   ]
  },
  {
   "cell_type": "markdown",
   "id": "5619ba81",
   "metadata": {},
   "source": [
    "### Checking NaN"
   ]
  },
  {
   "cell_type": "code",
   "execution_count": 6,
   "id": "e213bba9",
   "metadata": {},
   "outputs": [
    {
     "data": {
      "text/plain": [
       "(shop_name    0\n",
       " shop_id      0\n",
       " dtype: int64,\n",
       " item_name           0\n",
       " item_id             0\n",
       " item_category_id    0\n",
       " dtype: int64,\n",
       " item_category_name    0\n",
       " item_category_id      0\n",
       " dtype: int64,\n",
       " date              0\n",
       " date_block_num    0\n",
       " shop_id           0\n",
       " item_id           0\n",
       " item_price        0\n",
       " item_cnt_day      0\n",
       " dtype: int64)"
      ]
     },
     "execution_count": 6,
     "metadata": {},
     "output_type": "execute_result"
    }
   ],
   "source": [
    "shops.isna().sum(), items.isna().sum(), categories.isna().sum(), sales.isna().sum()"
   ]
  },
  {
   "cell_type": "markdown",
   "id": "dfefa821",
   "metadata": {},
   "source": [
    "There are no NaN values"
   ]
  },
  {
   "cell_type": "markdown",
   "id": "fd093ceb",
   "metadata": {},
   "source": [
    "## Check common sense"
   ]
  },
  {
   "cell_type": "code",
   "execution_count": 7,
   "id": "aae44c57",
   "metadata": {},
   "outputs": [
    {
     "name": "stdout",
     "output_type": "stream",
     "text": [
      "<class 'pandas.core.frame.DataFrame'>\n",
      "RangeIndex: 2935849 entries, 0 to 2935848\n",
      "Data columns (total 6 columns):\n",
      " #   Column          Dtype  \n",
      "---  ------          -----  \n",
      " 0   date            object \n",
      " 1   date_block_num  int64  \n",
      " 2   shop_id         int64  \n",
      " 3   item_id         int64  \n",
      " 4   item_price      float64\n",
      " 5   item_cnt_day    float64\n",
      "dtypes: float64(2), int64(3), object(1)\n",
      "memory usage: 134.4+ MB\n"
     ]
    }
   ],
   "source": [
    "sales.info()"
   ]
  },
  {
   "cell_type": "markdown",
   "id": "a42b364c",
   "metadata": {},
   "source": [
    "The fact that item_cnt_day has the type float is kind of suspicios. It might be a sign of existing outliers"
   ]
  },
  {
   "cell_type": "code",
   "execution_count": 8,
   "id": "f0953960",
   "metadata": {},
   "outputs": [
    {
     "data": {
      "text/html": [
       "<div>\n",
       "<style scoped>\n",
       "    .dataframe tbody tr th:only-of-type {\n",
       "        vertical-align: middle;\n",
       "    }\n",
       "\n",
       "    .dataframe tbody tr th {\n",
       "        vertical-align: top;\n",
       "    }\n",
       "\n",
       "    .dataframe thead th {\n",
       "        text-align: right;\n",
       "    }\n",
       "</style>\n",
       "<table border=\"1\" class=\"dataframe\">\n",
       "  <thead>\n",
       "    <tr style=\"text-align: right;\">\n",
       "      <th></th>\n",
       "      <th>date</th>\n",
       "      <th>date_block_num</th>\n",
       "      <th>shop_id</th>\n",
       "      <th>item_id</th>\n",
       "      <th>item_price</th>\n",
       "      <th>item_cnt_day</th>\n",
       "    </tr>\n",
       "  </thead>\n",
       "  <tbody>\n",
       "  </tbody>\n",
       "</table>\n",
       "</div>"
      ],
      "text/plain": [
       "Empty DataFrame\n",
       "Columns: [date, date_block_num, shop_id, item_id, item_price, item_cnt_day]\n",
       "Index: []"
      ]
     },
     "execution_count": 8,
     "metadata": {},
     "output_type": "execute_result"
    }
   ],
   "source": [
    "sales[sales.item_cnt_day != round(sales.item_cnt_day)]"
   ]
  },
  {
   "cell_type": "markdown",
   "id": "873cfe26",
   "metadata": {},
   "source": [
    "There are no float values so let's transform float -> int"
   ]
  },
  {
   "cell_type": "code",
   "execution_count": 9,
   "id": "f060c3d1",
   "metadata": {},
   "outputs": [],
   "source": [
    "sales.item_cnt_day = sales.item_cnt_day.astype(int)"
   ]
  },
  {
   "cell_type": "code",
   "execution_count": 10,
   "id": "ce57c527",
   "metadata": {},
   "outputs": [
    {
     "data": {
      "text/plain": [
       "date               object\n",
       "date_block_num      int64\n",
       "shop_id             int64\n",
       "item_id             int64\n",
       "item_price        float64\n",
       "item_cnt_day        int32\n",
       "dtype: object"
      ]
     },
     "execution_count": 10,
     "metadata": {},
     "output_type": "execute_result"
    }
   ],
   "source": [
    "sales.dtypes"
   ]
  },
  {
   "cell_type": "code",
   "execution_count": 11,
   "id": "31a2491a",
   "metadata": {},
   "outputs": [
    {
     "data": {
      "text/html": [
       "<div>\n",
       "<style scoped>\n",
       "    .dataframe tbody tr th:only-of-type {\n",
       "        vertical-align: middle;\n",
       "    }\n",
       "\n",
       "    .dataframe tbody tr th {\n",
       "        vertical-align: top;\n",
       "    }\n",
       "\n",
       "    .dataframe thead th {\n",
       "        text-align: right;\n",
       "    }\n",
       "</style>\n",
       "<table border=\"1\" class=\"dataframe\">\n",
       "  <thead>\n",
       "    <tr style=\"text-align: right;\">\n",
       "      <th></th>\n",
       "      <th>date_block_num</th>\n",
       "      <th>item_price</th>\n",
       "      <th>item_cnt_day</th>\n",
       "    </tr>\n",
       "  </thead>\n",
       "  <tbody>\n",
       "    <tr>\n",
       "      <th>count</th>\n",
       "      <td>2.935849e+06</td>\n",
       "      <td>2.935849e+06</td>\n",
       "      <td>2.935849e+06</td>\n",
       "    </tr>\n",
       "    <tr>\n",
       "      <th>mean</th>\n",
       "      <td>1.456991e+01</td>\n",
       "      <td>8.908532e+02</td>\n",
       "      <td>1.242641e+00</td>\n",
       "    </tr>\n",
       "    <tr>\n",
       "      <th>std</th>\n",
       "      <td>9.422988e+00</td>\n",
       "      <td>1.729800e+03</td>\n",
       "      <td>2.618834e+00</td>\n",
       "    </tr>\n",
       "    <tr>\n",
       "      <th>min</th>\n",
       "      <td>0.000000e+00</td>\n",
       "      <td>-1.000000e+00</td>\n",
       "      <td>-2.200000e+01</td>\n",
       "    </tr>\n",
       "    <tr>\n",
       "      <th>25%</th>\n",
       "      <td>7.000000e+00</td>\n",
       "      <td>2.490000e+02</td>\n",
       "      <td>1.000000e+00</td>\n",
       "    </tr>\n",
       "    <tr>\n",
       "      <th>50%</th>\n",
       "      <td>1.400000e+01</td>\n",
       "      <td>3.990000e+02</td>\n",
       "      <td>1.000000e+00</td>\n",
       "    </tr>\n",
       "    <tr>\n",
       "      <th>75%</th>\n",
       "      <td>2.300000e+01</td>\n",
       "      <td>9.990000e+02</td>\n",
       "      <td>1.000000e+00</td>\n",
       "    </tr>\n",
       "    <tr>\n",
       "      <th>95%</th>\n",
       "      <td>3.100000e+01</td>\n",
       "      <td>2.690000e+03</td>\n",
       "      <td>2.000000e+00</td>\n",
       "    </tr>\n",
       "    <tr>\n",
       "      <th>max</th>\n",
       "      <td>3.300000e+01</td>\n",
       "      <td>3.079800e+05</td>\n",
       "      <td>2.169000e+03</td>\n",
       "    </tr>\n",
       "  </tbody>\n",
       "</table>\n",
       "</div>"
      ],
      "text/plain": [
       "       date_block_num    item_price  item_cnt_day\n",
       "count    2.935849e+06  2.935849e+06  2.935849e+06\n",
       "mean     1.456991e+01  8.908532e+02  1.242641e+00\n",
       "std      9.422988e+00  1.729800e+03  2.618834e+00\n",
       "min      0.000000e+00 -1.000000e+00 -2.200000e+01\n",
       "25%      7.000000e+00  2.490000e+02  1.000000e+00\n",
       "50%      1.400000e+01  3.990000e+02  1.000000e+00\n",
       "75%      2.300000e+01  9.990000e+02  1.000000e+00\n",
       "95%      3.100000e+01  2.690000e+03  2.000000e+00\n",
       "max      3.300000e+01  3.079800e+05  2.169000e+03"
      ]
     },
     "execution_count": 11,
     "metadata": {},
     "output_type": "execute_result"
    }
   ],
   "source": [
    "sales.describe(percentiles=[.25, .5, .75, .95]).drop(['shop_id', 'item_id'], axis = 1)"
   ]
  },
  {
   "cell_type": "markdown",
   "id": "0d9bfb99",
   "metadata": {},
   "source": [
    "Noticing some suspicios numbers in 'min' row"
   ]
  },
  {
   "cell_type": "code",
   "execution_count": 12,
   "id": "50b19fd9",
   "metadata": {},
   "outputs": [
    {
     "data": {
      "text/html": [
       "<div>\n",
       "<style scoped>\n",
       "    .dataframe tbody tr th:only-of-type {\n",
       "        vertical-align: middle;\n",
       "    }\n",
       "\n",
       "    .dataframe tbody tr th {\n",
       "        vertical-align: top;\n",
       "    }\n",
       "\n",
       "    .dataframe thead th {\n",
       "        text-align: right;\n",
       "    }\n",
       "</style>\n",
       "<table border=\"1\" class=\"dataframe\">\n",
       "  <thead>\n",
       "    <tr style=\"text-align: right;\">\n",
       "      <th></th>\n",
       "      <th>date</th>\n",
       "      <th>date_block_num</th>\n",
       "      <th>shop_id</th>\n",
       "      <th>item_id</th>\n",
       "      <th>item_price</th>\n",
       "      <th>item_cnt_day</th>\n",
       "    </tr>\n",
       "  </thead>\n",
       "  <tbody>\n",
       "    <tr>\n",
       "      <th>484683</th>\n",
       "      <td>15.05.2013</td>\n",
       "      <td>4</td>\n",
       "      <td>32</td>\n",
       "      <td>2973</td>\n",
       "      <td>-1.0</td>\n",
       "      <td>1</td>\n",
       "    </tr>\n",
       "  </tbody>\n",
       "</table>\n",
       "</div>"
      ],
      "text/plain": [
       "              date  date_block_num  shop_id  item_id  item_price  item_cnt_day\n",
       "484683  15.05.2013               4       32     2973        -1.0             1"
      ]
     },
     "execution_count": 12,
     "metadata": {},
     "output_type": "execute_result"
    }
   ],
   "source": [
    "sales[sales.item_price <= 0]"
   ]
  },
  {
   "cell_type": "code",
   "execution_count": 13,
   "id": "6cf35bf1",
   "metadata": {},
   "outputs": [
    {
     "data": {
      "text/plain": [
       "7356"
      ]
     },
     "execution_count": 13,
     "metadata": {},
     "output_type": "execute_result"
    }
   ],
   "source": [
    "len(sales[sales.item_cnt_day <= 0])"
   ]
  },
  {
   "cell_type": "markdown",
   "id": "9405b38c",
   "metadata": {},
   "source": [
    "There are some incorrect values in 'item_price' and 'item_cnt_day'. As a solution we can erase all the outliers or make the negative count positive assuming the minus appeard just by mistake"
   ]
  },
  {
   "cell_type": "markdown",
   "id": "2b7d67fa",
   "metadata": {},
   "source": [
    "# !!!!\n"
   ]
  },
  {
   "cell_type": "code",
   "execution_count": 7,
   "id": "57234249",
   "metadata": {},
   "outputs": [
    {
     "data": {
      "text/html": [
       "<div>\n",
       "<style scoped>\n",
       "    .dataframe tbody tr th:only-of-type {\n",
       "        vertical-align: middle;\n",
       "    }\n",
       "\n",
       "    .dataframe tbody tr th {\n",
       "        vertical-align: top;\n",
       "    }\n",
       "\n",
       "    .dataframe thead th {\n",
       "        text-align: right;\n",
       "    }\n",
       "</style>\n",
       "<table border=\"1\" class=\"dataframe\">\n",
       "  <thead>\n",
       "    <tr style=\"text-align: right;\">\n",
       "      <th></th>\n",
       "      <th>date</th>\n",
       "      <th>date_block_num</th>\n",
       "      <th>shop_id</th>\n",
       "      <th>item_id</th>\n",
       "      <th>item_price</th>\n",
       "      <th>item_cnt_day</th>\n",
       "    </tr>\n",
       "  </thead>\n",
       "  <tbody>\n",
       "    <tr>\n",
       "      <th>0</th>\n",
       "      <td>02.01.2013</td>\n",
       "      <td>0</td>\n",
       "      <td>59</td>\n",
       "      <td>22154</td>\n",
       "      <td>999.00</td>\n",
       "      <td>1.0</td>\n",
       "    </tr>\n",
       "    <tr>\n",
       "      <th>1</th>\n",
       "      <td>03.01.2013</td>\n",
       "      <td>0</td>\n",
       "      <td>25</td>\n",
       "      <td>2552</td>\n",
       "      <td>899.00</td>\n",
       "      <td>1.0</td>\n",
       "    </tr>\n",
       "    <tr>\n",
       "      <th>2</th>\n",
       "      <td>05.01.2013</td>\n",
       "      <td>0</td>\n",
       "      <td>25</td>\n",
       "      <td>2552</td>\n",
       "      <td>899.00</td>\n",
       "      <td>-1.0</td>\n",
       "    </tr>\n",
       "    <tr>\n",
       "      <th>3</th>\n",
       "      <td>06.01.2013</td>\n",
       "      <td>0</td>\n",
       "      <td>25</td>\n",
       "      <td>2554</td>\n",
       "      <td>1709.05</td>\n",
       "      <td>1.0</td>\n",
       "    </tr>\n",
       "    <tr>\n",
       "      <th>4</th>\n",
       "      <td>15.01.2013</td>\n",
       "      <td>0</td>\n",
       "      <td>25</td>\n",
       "      <td>2555</td>\n",
       "      <td>1099.00</td>\n",
       "      <td>1.0</td>\n",
       "    </tr>\n",
       "  </tbody>\n",
       "</table>\n",
       "</div>"
      ],
      "text/plain": [
       "         date  date_block_num  shop_id  item_id  item_price  item_cnt_day\n",
       "0  02.01.2013               0       59    22154      999.00           1.0\n",
       "1  03.01.2013               0       25     2552      899.00           1.0\n",
       "2  05.01.2013               0       25     2552      899.00          -1.0\n",
       "3  06.01.2013               0       25     2554     1709.05           1.0\n",
       "4  15.01.2013               0       25     2555     1099.00           1.0"
      ]
     },
     "execution_count": 7,
     "metadata": {},
     "output_type": "execute_result"
    }
   ],
   "source": [
    "sales.head()"
   ]
  },
  {
   "cell_type": "code",
   "execution_count": 8,
   "id": "5089158e",
   "metadata": {},
   "outputs": [
    {
     "data": {
      "text/html": [
       "<div>\n",
       "<style scoped>\n",
       "    .dataframe tbody tr th:only-of-type {\n",
       "        vertical-align: middle;\n",
       "    }\n",
       "\n",
       "    .dataframe tbody tr th {\n",
       "        vertical-align: top;\n",
       "    }\n",
       "\n",
       "    .dataframe thead th {\n",
       "        text-align: right;\n",
       "    }\n",
       "</style>\n",
       "<table border=\"1\" class=\"dataframe\">\n",
       "  <thead>\n",
       "    <tr style=\"text-align: right;\">\n",
       "      <th></th>\n",
       "      <th>item_id</th>\n",
       "      <th>shop_id</th>\n",
       "      <th>date_block_num</th>\n",
       "      <th>item_cnt_month</th>\n",
       "    </tr>\n",
       "  </thead>\n",
       "  <tbody>\n",
       "    <tr>\n",
       "      <th>0</th>\n",
       "      <td>0</td>\n",
       "      <td>54</td>\n",
       "      <td>20</td>\n",
       "      <td>1.0</td>\n",
       "    </tr>\n",
       "    <tr>\n",
       "      <th>1</th>\n",
       "      <td>1</td>\n",
       "      <td>55</td>\n",
       "      <td>15</td>\n",
       "      <td>2.0</td>\n",
       "    </tr>\n",
       "    <tr>\n",
       "      <th>2</th>\n",
       "      <td>1</td>\n",
       "      <td>55</td>\n",
       "      <td>18</td>\n",
       "      <td>1.0</td>\n",
       "    </tr>\n",
       "    <tr>\n",
       "      <th>3</th>\n",
       "      <td>1</td>\n",
       "      <td>55</td>\n",
       "      <td>19</td>\n",
       "      <td>1.0</td>\n",
       "    </tr>\n",
       "    <tr>\n",
       "      <th>4</th>\n",
       "      <td>1</td>\n",
       "      <td>55</td>\n",
       "      <td>20</td>\n",
       "      <td>1.0</td>\n",
       "    </tr>\n",
       "    <tr>\n",
       "      <th>5</th>\n",
       "      <td>1</td>\n",
       "      <td>55</td>\n",
       "      <td>21</td>\n",
       "      <td>1.0</td>\n",
       "    </tr>\n",
       "    <tr>\n",
       "      <th>6</th>\n",
       "      <td>2</td>\n",
       "      <td>54</td>\n",
       "      <td>19</td>\n",
       "      <td>1.0</td>\n",
       "    </tr>\n",
       "    <tr>\n",
       "      <th>7</th>\n",
       "      <td>2</td>\n",
       "      <td>54</td>\n",
       "      <td>22</td>\n",
       "      <td>1.0</td>\n",
       "    </tr>\n",
       "    <tr>\n",
       "      <th>8</th>\n",
       "      <td>3</td>\n",
       "      <td>54</td>\n",
       "      <td>18</td>\n",
       "      <td>1.0</td>\n",
       "    </tr>\n",
       "    <tr>\n",
       "      <th>9</th>\n",
       "      <td>3</td>\n",
       "      <td>54</td>\n",
       "      <td>19</td>\n",
       "      <td>1.0</td>\n",
       "    </tr>\n",
       "  </tbody>\n",
       "</table>\n",
       "</div>"
      ],
      "text/plain": [
       "   item_id  shop_id  date_block_num  item_cnt_month\n",
       "0        0       54              20             1.0\n",
       "1        1       55              15             2.0\n",
       "2        1       55              18             1.0\n",
       "3        1       55              19             1.0\n",
       "4        1       55              20             1.0\n",
       "5        1       55              21             1.0\n",
       "6        2       54              19             1.0\n",
       "7        2       54              22             1.0\n",
       "8        3       54              18             1.0\n",
       "9        3       54              19             1.0"
      ]
     },
     "execution_count": 8,
     "metadata": {},
     "output_type": "execute_result"
    }
   ],
   "source": [
    "month_count_item = pd.DataFrame(sales.groupby(['item_id','shop_id', 'date_block_num'])['item_cnt_day'].sum()).reset_index(level = [0,1,2])\n",
    "month_count_item.columns = ['item_id', 'shop_id', 'date_block_num', 'item_cnt_month']\n",
    "month_count_item.head(10)                                                                                                                         "
   ]
  },
  {
   "cell_type": "code",
   "execution_count": 9,
   "id": "bc645c2e",
   "metadata": {},
   "outputs": [
    {
     "data": {
      "image/png": "[encoded data removed]",
      "text/plain": [
       "<Figure size 432x288 with 1 Axes>"
      ]
     },
     "metadata": {
      "needs_background": "light"
     },
     "output_type": "display_data"
    }
   ],
   "source": [
    "item_month = pd.DataFrame(month_count_item.groupby(['item_id', 'shop_id'])['date_block_num'].count())\n",
    "item_month.hist()\n",
    "plt.show()"
   ]
  },
  {
   "cell_type": "code",
   "execution_count": 12,
   "id": "bcf5f7e3",
   "metadata": {},
   "outputs": [],
   "source": [
    "it_index = []\n",
    "sh_index = []\n",
    "sh_len = len(shops)\n",
    "date = []\n",
    "for i in range(len(items)):\n",
    "    it_index += [i]*(34 * sh_len)\n",
    "    sh_index += list(range(sh_len))*34\n",
    "    date += list(range(34))*sh_len"
   ]
  },
  {
   "cell_type": "code",
   "execution_count": 11,
   "id": "cfad6f40",
   "metadata": {},
   "outputs": [
    {
     "data": {
      "text/plain": [
       "(45226800, 1330200, 753780)"
      ]
     },
     "execution_count": 11,
     "metadata": {},
     "output_type": "execute_result"
    }
   ],
   "source": [
    "len(it_index), len(sh_index), len(date)"
   ]
  },
  {
   "cell_type": "code",
   "execution_count": null,
   "id": "31d551a0",
   "metadata": {},
   "outputs": [],
   "source": [
    "len(items)"
   ]
  },
  {
   "cell_type": "code",
   "execution_count": 56,
   "id": "371e01e1",
   "metadata": {},
   "outputs": [
    {
     "ename": "ValueError",
     "evalue": "arrays must all be same length",
     "output_type": "error",
     "traceback": [
      "\u001b[1;31m---------------------------------------------------------------------------\u001b[0m",
      "\u001b[1;31mValueError\u001b[0m                                Traceback (most recent call last)",
      "\u001b[1;32m<ipython-input-56-937825becb17>\u001b[0m in \u001b[0;36m<module>\u001b[1;34m\u001b[0m\n\u001b[1;32m----> 1\u001b[1;33m temp = pd.DataFrame({\n\u001b[0m\u001b[0;32m      2\u001b[0m     \u001b[1;34m'item_id'\u001b[0m \u001b[1;33m:\u001b[0m \u001b[0mit_index\u001b[0m\u001b[1;33m,\u001b[0m\u001b[1;33m\u001b[0m\u001b[1;33m\u001b[0m\u001b[0m\n\u001b[0;32m      3\u001b[0m     \u001b[1;34m'shop_id'\u001b[0m\u001b[1;33m:\u001b[0m \u001b[0msh_index\u001b[0m\u001b[1;33m,\u001b[0m\u001b[1;33m\u001b[0m\u001b[1;33m\u001b[0m\u001b[0m\n\u001b[0;32m      4\u001b[0m     \u001b[1;34m'date_block_num'\u001b[0m \u001b[1;33m:\u001b[0m \u001b[0mdate\u001b[0m\u001b[1;33m\u001b[0m\u001b[1;33m\u001b[0m\u001b[0m\n\u001b[0;32m      5\u001b[0m })\n",
      "\u001b[1;32m~\\anaconda3\\lib\\site-packages\\pandas\\core\\frame.py\u001b[0m in \u001b[0;36m__init__\u001b[1;34m(self, data, index, columns, dtype, copy)\u001b[0m\n\u001b[0;32m    527\u001b[0m \u001b[1;33m\u001b[0m\u001b[0m\n\u001b[0;32m    528\u001b[0m         \u001b[1;32melif\u001b[0m \u001b[0misinstance\u001b[0m\u001b[1;33m(\u001b[0m\u001b[0mdata\u001b[0m\u001b[1;33m,\u001b[0m \u001b[0mdict\u001b[0m\u001b[1;33m)\u001b[0m\u001b[1;33m:\u001b[0m\u001b[1;33m\u001b[0m\u001b[1;33m\u001b[0m\u001b[0m\n\u001b[1;32m--> 529\u001b[1;33m             \u001b[0mmgr\u001b[0m \u001b[1;33m=\u001b[0m \u001b[0minit_dict\u001b[0m\u001b[1;33m(\u001b[0m\u001b[0mdata\u001b[0m\u001b[1;33m,\u001b[0m \u001b[0mindex\u001b[0m\u001b[1;33m,\u001b[0m \u001b[0mcolumns\u001b[0m\u001b[1;33m,\u001b[0m \u001b[0mdtype\u001b[0m\u001b[1;33m=\u001b[0m\u001b[0mdtype\u001b[0m\u001b[1;33m)\u001b[0m\u001b[1;33m\u001b[0m\u001b[1;33m\u001b[0m\u001b[0m\n\u001b[0m\u001b[0;32m    530\u001b[0m         \u001b[1;32melif\u001b[0m \u001b[0misinstance\u001b[0m\u001b[1;33m(\u001b[0m\u001b[0mdata\u001b[0m\u001b[1;33m,\u001b[0m \u001b[0mma\u001b[0m\u001b[1;33m.\u001b[0m\u001b[0mMaskedArray\u001b[0m\u001b[1;33m)\u001b[0m\u001b[1;33m:\u001b[0m\u001b[1;33m\u001b[0m\u001b[1;33m\u001b[0m\u001b[0m\n\u001b[0;32m    531\u001b[0m             \u001b[1;32mimport\u001b[0m \u001b[0mnumpy\u001b[0m\u001b[1;33m.\u001b[0m\u001b[0mma\u001b[0m\u001b[1;33m.\u001b[0m\u001b[0mmrecords\u001b[0m \u001b[1;32mas\u001b[0m \u001b[0mmrecords\u001b[0m\u001b[1;33m\u001b[0m\u001b[1;33m\u001b[0m\u001b[0m\n",
      "\u001b[1;32m~\\anaconda3\\lib\\site-packages\\pandas\\core\\internals\\construction.py\u001b[0m in \u001b[0;36minit_dict\u001b[1;34m(data, index, columns, dtype)\u001b[0m\n\u001b[0;32m    285\u001b[0m             \u001b[0marr\u001b[0m \u001b[1;32mif\u001b[0m \u001b[1;32mnot\u001b[0m \u001b[0mis_datetime64tz_dtype\u001b[0m\u001b[1;33m(\u001b[0m\u001b[0marr\u001b[0m\u001b[1;33m)\u001b[0m \u001b[1;32melse\u001b[0m \u001b[0marr\u001b[0m\u001b[1;33m.\u001b[0m\u001b[0mcopy\u001b[0m\u001b[1;33m(\u001b[0m\u001b[1;33m)\u001b[0m \u001b[1;32mfor\u001b[0m \u001b[0marr\u001b[0m \u001b[1;32min\u001b[0m \u001b[0marrays\u001b[0m\u001b[1;33m\u001b[0m\u001b[1;33m\u001b[0m\u001b[0m\n\u001b[0;32m    286\u001b[0m         ]\n\u001b[1;32m--> 287\u001b[1;33m     \u001b[1;32mreturn\u001b[0m \u001b[0marrays_to_mgr\u001b[0m\u001b[1;33m(\u001b[0m\u001b[0marrays\u001b[0m\u001b[1;33m,\u001b[0m \u001b[0mdata_names\u001b[0m\u001b[1;33m,\u001b[0m \u001b[0mindex\u001b[0m\u001b[1;33m,\u001b[0m \u001b[0mcolumns\u001b[0m\u001b[1;33m,\u001b[0m \u001b[0mdtype\u001b[0m\u001b[1;33m=\u001b[0m\u001b[0mdtype\u001b[0m\u001b[1;33m)\u001b[0m\u001b[1;33m\u001b[0m\u001b[1;33m\u001b[0m\u001b[0m\n\u001b[0m\u001b[0;32m    288\u001b[0m \u001b[1;33m\u001b[0m\u001b[0m\n\u001b[0;32m    289\u001b[0m \u001b[1;33m\u001b[0m\u001b[0m\n",
      "\u001b[1;32m~\\anaconda3\\lib\\site-packages\\pandas\\core\\internals\\construction.py\u001b[0m in \u001b[0;36marrays_to_mgr\u001b[1;34m(arrays, arr_names, index, columns, dtype, verify_integrity)\u001b[0m\n\u001b[0;32m     78\u001b[0m         \u001b[1;31m# figure out the index, if necessary\u001b[0m\u001b[1;33m\u001b[0m\u001b[1;33m\u001b[0m\u001b[1;33m\u001b[0m\u001b[0m\n\u001b[0;32m     79\u001b[0m         \u001b[1;32mif\u001b[0m \u001b[0mindex\u001b[0m \u001b[1;32mis\u001b[0m \u001b[1;32mNone\u001b[0m\u001b[1;33m:\u001b[0m\u001b[1;33m\u001b[0m\u001b[1;33m\u001b[0m\u001b[0m\n\u001b[1;32m---> 80\u001b[1;33m             \u001b[0mindex\u001b[0m \u001b[1;33m=\u001b[0m \u001b[0mextract_index\u001b[0m\u001b[1;33m(\u001b[0m\u001b[0marrays\u001b[0m\u001b[1;33m)\u001b[0m\u001b[1;33m\u001b[0m\u001b[1;33m\u001b[0m\u001b[0m\n\u001b[0m\u001b[0;32m     81\u001b[0m         \u001b[1;32melse\u001b[0m\u001b[1;33m:\u001b[0m\u001b[1;33m\u001b[0m\u001b[1;33m\u001b[0m\u001b[0m\n\u001b[0;32m     82\u001b[0m             \u001b[0mindex\u001b[0m \u001b[1;33m=\u001b[0m \u001b[0mensure_index\u001b[0m\u001b[1;33m(\u001b[0m\u001b[0mindex\u001b[0m\u001b[1;33m)\u001b[0m\u001b[1;33m\u001b[0m\u001b[1;33m\u001b[0m\u001b[0m\n",
      "\u001b[1;32m~\\anaconda3\\lib\\site-packages\\pandas\\core\\internals\\construction.py\u001b[0m in \u001b[0;36mextract_index\u001b[1;34m(data)\u001b[0m\n\u001b[0;32m    399\u001b[0m             \u001b[0mlengths\u001b[0m \u001b[1;33m=\u001b[0m \u001b[0mlist\u001b[0m\u001b[1;33m(\u001b[0m\u001b[0mset\u001b[0m\u001b[1;33m(\u001b[0m\u001b[0mraw_lengths\u001b[0m\u001b[1;33m)\u001b[0m\u001b[1;33m)\u001b[0m\u001b[1;33m\u001b[0m\u001b[1;33m\u001b[0m\u001b[0m\n\u001b[0;32m    400\u001b[0m             \u001b[1;32mif\u001b[0m \u001b[0mlen\u001b[0m\u001b[1;33m(\u001b[0m\u001b[0mlengths\u001b[0m\u001b[1;33m)\u001b[0m \u001b[1;33m>\u001b[0m \u001b[1;36m1\u001b[0m\u001b[1;33m:\u001b[0m\u001b[1;33m\u001b[0m\u001b[1;33m\u001b[0m\u001b[0m\n\u001b[1;32m--> 401\u001b[1;33m                 \u001b[1;32mraise\u001b[0m \u001b[0mValueError\u001b[0m\u001b[1;33m(\u001b[0m\u001b[1;34m\"arrays must all be same length\"\u001b[0m\u001b[1;33m)\u001b[0m\u001b[1;33m\u001b[0m\u001b[1;33m\u001b[0m\u001b[0m\n\u001b[0m\u001b[0;32m    402\u001b[0m \u001b[1;33m\u001b[0m\u001b[0m\n\u001b[0;32m    403\u001b[0m             \u001b[1;32mif\u001b[0m \u001b[0mhave_dicts\u001b[0m\u001b[1;33m:\u001b[0m\u001b[1;33m\u001b[0m\u001b[1;33m\u001b[0m\u001b[0m\n",
      "\u001b[1;31mValueError\u001b[0m: arrays must all be same length"
     ]
    }
   ],
   "source": [
    "temp = pd.DataFrame({\n",
    "    'item_id' : it_index,\n",
    "    'shop_id': sh_index,\n",
    "    'date_block_num' : date\n",
    "})"
   ]
  },
  {
   "cell_type": "markdown",
   "id": "eab052c0",
   "metadata": {},
   "source": [
    "## Month check"
   ]
  },
  {
   "cell_type": "code",
   "execution_count": 14,
   "id": "58882b6a",
   "metadata": {},
   "outputs": [
    {
     "data": {
      "text/html": [
       "<div>\n",
       "<style scoped>\n",
       "    .dataframe tbody tr th:only-of-type {\n",
       "        vertical-align: middle;\n",
       "    }\n",
       "\n",
       "    .dataframe tbody tr th {\n",
       "        vertical-align: top;\n",
       "    }\n",
       "\n",
       "    .dataframe thead th {\n",
       "        text-align: right;\n",
       "    }\n",
       "</style>\n",
       "<table border=\"1\" class=\"dataframe\">\n",
       "  <thead>\n",
       "    <tr style=\"text-align: right;\">\n",
       "      <th></th>\n",
       "      <th>date</th>\n",
       "      <th>date_block_num</th>\n",
       "      <th>shop_id</th>\n",
       "      <th>item_id</th>\n",
       "      <th>item_price</th>\n",
       "      <th>item_cnt_day</th>\n",
       "    </tr>\n",
       "  </thead>\n",
       "  <tbody>\n",
       "    <tr>\n",
       "      <th>0</th>\n",
       "      <td>02.01.2013</td>\n",
       "      <td>0</td>\n",
       "      <td>59</td>\n",
       "      <td>22154</td>\n",
       "      <td>999.00</td>\n",
       "      <td>1</td>\n",
       "    </tr>\n",
       "    <tr>\n",
       "      <th>1</th>\n",
       "      <td>03.01.2013</td>\n",
       "      <td>0</td>\n",
       "      <td>25</td>\n",
       "      <td>2552</td>\n",
       "      <td>899.00</td>\n",
       "      <td>1</td>\n",
       "    </tr>\n",
       "    <tr>\n",
       "      <th>2</th>\n",
       "      <td>05.01.2013</td>\n",
       "      <td>0</td>\n",
       "      <td>25</td>\n",
       "      <td>2552</td>\n",
       "      <td>899.00</td>\n",
       "      <td>-1</td>\n",
       "    </tr>\n",
       "    <tr>\n",
       "      <th>3</th>\n",
       "      <td>06.01.2013</td>\n",
       "      <td>0</td>\n",
       "      <td>25</td>\n",
       "      <td>2554</td>\n",
       "      <td>1709.05</td>\n",
       "      <td>1</td>\n",
       "    </tr>\n",
       "    <tr>\n",
       "      <th>4</th>\n",
       "      <td>15.01.2013</td>\n",
       "      <td>0</td>\n",
       "      <td>25</td>\n",
       "      <td>2555</td>\n",
       "      <td>1099.00</td>\n",
       "      <td>1</td>\n",
       "    </tr>\n",
       "  </tbody>\n",
       "</table>\n",
       "</div>"
      ],
      "text/plain": [
       "         date  date_block_num  shop_id  item_id  item_price  item_cnt_day\n",
       "0  02.01.2013               0       59    22154      999.00             1\n",
       "1  03.01.2013               0       25     2552      899.00             1\n",
       "2  05.01.2013               0       25     2552      899.00            -1\n",
       "3  06.01.2013               0       25     2554     1709.05             1\n",
       "4  15.01.2013               0       25     2555     1099.00             1"
      ]
     },
     "execution_count": 14,
     "metadata": {},
     "output_type": "execute_result"
    }
   ],
   "source": [
    "sales.head()"
   ]
  },
  {
   "cell_type": "code",
   "execution_count": 15,
   "id": "ef8bb896",
   "metadata": {},
   "outputs": [],
   "source": [
    "month_count_item = pd.DataFrame(sales.groupby(['item_id', 'date_block_num'])['item_cnt_day'].sum()).reset_index(level = [0,1])"
   ]
  },
  {
   "cell_type": "code",
   "execution_count": 16,
   "id": "a4298d7b",
   "metadata": {},
   "outputs": [],
   "source": [
    "month_count_item.columns = ['item_id', 'date_block_num', 'item_cnt_month']"
   ]
  },
  {
   "cell_type": "code",
   "execution_count": 18,
   "id": "b7d8483e",
   "metadata": {},
   "outputs": [
    {
     "data": {
      "text/plain": [
       "22170"
      ]
     },
     "execution_count": 18,
     "metadata": {},
     "output_type": "execute_result"
    }
   ],
   "source": [
    "len(items)"
   ]
  },
  {
   "cell_type": "code",
   "execution_count": 19,
   "id": "1500b095",
   "metadata": {},
   "outputs": [],
   "source": [
    "temp = month_count_item.copy()"
   ]
  },
  {
   "cell_type": "code",
   "execution_count": 25,
   "id": "22d7f010",
   "metadata": {},
   "outputs": [
    {
     "data": {
      "text/html": [
       "<div>\n",
       "<style scoped>\n",
       "    .dataframe tbody tr th:only-of-type {\n",
       "        vertical-align: middle;\n",
       "    }\n",
       "\n",
       "    .dataframe tbody tr th {\n",
       "        vertical-align: top;\n",
       "    }\n",
       "\n",
       "    .dataframe thead th {\n",
       "        text-align: right;\n",
       "    }\n",
       "</style>\n",
       "<table border=\"1\" class=\"dataframe\">\n",
       "  <thead>\n",
       "    <tr style=\"text-align: right;\">\n",
       "      <th></th>\n",
       "      <th>item_name</th>\n",
       "      <th>item_id</th>\n",
       "      <th>item_category_id</th>\n",
       "    </tr>\n",
       "  </thead>\n",
       "  <tbody>\n",
       "    <tr>\n",
       "      <th>0</th>\n",
       "      <td>! ВО ВЛАСТИ НАВАЖДЕНИЯ (ПЛАСТ.)         D</td>\n",
       "      <td>0</td>\n",
       "      <td>40</td>\n",
       "    </tr>\n",
       "    <tr>\n",
       "      <th>1</th>\n",
       "      <td>!ABBYY FineReader 12 Professional Edition Full...</td>\n",
       "      <td>1</td>\n",
       "      <td>76</td>\n",
       "    </tr>\n",
       "    <tr>\n",
       "      <th>2</th>\n",
       "      <td>***В ЛУЧАХ СЛАВЫ   (UNV)                    D</td>\n",
       "      <td>2</td>\n",
       "      <td>40</td>\n",
       "    </tr>\n",
       "    <tr>\n",
       "      <th>3</th>\n",
       "      <td>***ГОЛУБАЯ ВОЛНА  (Univ)                      D</td>\n",
       "      <td>3</td>\n",
       "      <td>40</td>\n",
       "    </tr>\n",
       "    <tr>\n",
       "      <th>4</th>\n",
       "      <td>***КОРОБКА (СТЕКЛО)                       D</td>\n",
       "      <td>4</td>\n",
       "      <td>40</td>\n",
       "    </tr>\n",
       "    <tr>\n",
       "      <th>...</th>\n",
       "      <td>...</td>\n",
       "      <td>...</td>\n",
       "      <td>...</td>\n",
       "    </tr>\n",
       "    <tr>\n",
       "      <th>22165</th>\n",
       "      <td>Ядерный титбит 2 [PC, Цифровая версия]</td>\n",
       "      <td>22165</td>\n",
       "      <td>31</td>\n",
       "    </tr>\n",
       "    <tr>\n",
       "      <th>22166</th>\n",
       "      <td>Язык запросов 1С:Предприятия  [Цифровая версия]</td>\n",
       "      <td>22166</td>\n",
       "      <td>54</td>\n",
       "    </tr>\n",
       "    <tr>\n",
       "      <th>22167</th>\n",
       "      <td>Язык запросов 1С:Предприятия 8 (+CD). Хрустале...</td>\n",
       "      <td>22167</td>\n",
       "      <td>49</td>\n",
       "    </tr>\n",
       "    <tr>\n",
       "      <th>22168</th>\n",
       "      <td>Яйцо для Little Inu</td>\n",
       "      <td>22168</td>\n",
       "      <td>62</td>\n",
       "    </tr>\n",
       "    <tr>\n",
       "      <th>22169</th>\n",
       "      <td>Яйцо дракона (Игра престолов)</td>\n",
       "      <td>22169</td>\n",
       "      <td>69</td>\n",
       "    </tr>\n",
       "  </tbody>\n",
       "</table>\n",
       "<p>22170 rows × 3 columns</p>\n",
       "</div>"
      ],
      "text/plain": [
       "                                               item_name  item_id  \\\n",
       "0              ! ВО ВЛАСТИ НАВАЖДЕНИЯ (ПЛАСТ.)         D        0   \n",
       "1      !ABBYY FineReader 12 Professional Edition Full...        1   \n",
       "2          ***В ЛУЧАХ СЛАВЫ   (UNV)                    D        2   \n",
       "3        ***ГОЛУБАЯ ВОЛНА  (Univ)                      D        3   \n",
       "4            ***КОРОБКА (СТЕКЛО)                       D        4   \n",
       "...                                                  ...      ...   \n",
       "22165             Ядерный титбит 2 [PC, Цифровая версия]    22165   \n",
       "22166    Язык запросов 1С:Предприятия  [Цифровая версия]    22166   \n",
       "22167  Язык запросов 1С:Предприятия 8 (+CD). Хрустале...    22167   \n",
       "22168                                Яйцо для Little Inu    22168   \n",
       "22169                      Яйцо дракона (Игра престолов)    22169   \n",
       "\n",
       "       item_category_id  \n",
       "0                    40  \n",
       "1                    76  \n",
       "2                    40  \n",
       "3                    40  \n",
       "4                    40  \n",
       "...                 ...  \n",
       "22165                31  \n",
       "22166                54  \n",
       "22167                49  \n",
       "22168                62  \n",
       "22169                69  \n",
       "\n",
       "[22170 rows x 3 columns]"
      ]
     },
     "execution_count": 25,
     "metadata": {},
     "output_type": "execute_result"
    }
   ],
   "source": [
    "items"
   ]
  },
  {
   "cell_type": "code",
   "execution_count": 31,
   "id": "663e7aa5",
   "metadata": {},
   "outputs": [],
   "source": [
    "index = []\n",
    "date = []\n",
    "for i in range(len(items)):\n",
    "    index += [i]*34\n",
    "    date += list(range(34))"
   ]
  },
  {
   "cell_type": "code",
   "execution_count": null,
   "id": "58502078",
   "metadata": {},
   "outputs": [],
   "source": []
  },
  {
   "cell_type": "code",
   "execution_count": 33,
   "id": "9085139e",
   "metadata": {},
   "outputs": [],
   "source": [
    "temp = pd.DataFrame({\n",
    "    'item_id' : index,\n",
    "    'date_block_num' : date\n",
    "})"
   ]
  },
  {
   "cell_type": "code",
   "execution_count": 41,
   "id": "ea4bcf89",
   "metadata": {},
   "outputs": [
    {
     "data": {
      "text/plain": [
       "True"
      ]
     },
     "execution_count": 41,
     "metadata": {},
     "output_type": "execute_result"
    }
   ],
   "source": [
    "len(temp) == len(full_record_month)"
   ]
  },
  {
   "cell_type": "code",
   "execution_count": 39,
   "id": "b1bc17f7",
   "metadata": {},
   "outputs": [],
   "source": [
    "full_record_month = pd.merge(temp, month_count_item, how = 'outer', on = ['item_id','date_block_num'] )"
   ]
  },
  {
   "cell_type": "code",
   "execution_count": 44,
   "id": "ca1a46d7",
   "metadata": {},
   "outputs": [],
   "source": [
    "full_record_month = full_record_month.fillna(0)"
   ]
  },
  {
   "cell_type": "code",
   "execution_count": 46,
   "id": "ad0fb6c0",
   "metadata": {},
   "outputs": [
    {
     "data": {
      "text/html": [
       "<div>\n",
       "<style scoped>\n",
       "    .dataframe tbody tr th:only-of-type {\n",
       "        vertical-align: middle;\n",
       "    }\n",
       "\n",
       "    .dataframe tbody tr th {\n",
       "        vertical-align: top;\n",
       "    }\n",
       "\n",
       "    .dataframe thead th {\n",
       "        text-align: right;\n",
       "    }\n",
       "</style>\n",
       "<table border=\"1\" class=\"dataframe\">\n",
       "  <thead>\n",
       "    <tr style=\"text-align: right;\">\n",
       "      <th></th>\n",
       "      <th>item_id</th>\n",
       "      <th>date_block_num</th>\n",
       "      <th>item_cnt_month</th>\n",
       "    </tr>\n",
       "  </thead>\n",
       "  <tbody>\n",
       "    <tr>\n",
       "      <th>538907</th>\n",
       "      <td>15850</td>\n",
       "      <td>7</td>\n",
       "      <td>0.0</td>\n",
       "    </tr>\n",
       "    <tr>\n",
       "      <th>156902</th>\n",
       "      <td>4614</td>\n",
       "      <td>26</td>\n",
       "      <td>0.0</td>\n",
       "    </tr>\n",
       "    <tr>\n",
       "      <th>343607</th>\n",
       "      <td>10106</td>\n",
       "      <td>3</td>\n",
       "      <td>0.0</td>\n",
       "    </tr>\n",
       "    <tr>\n",
       "      <th>364658</th>\n",
       "      <td>10725</td>\n",
       "      <td>8</td>\n",
       "      <td>1.0</td>\n",
       "    </tr>\n",
       "    <tr>\n",
       "      <th>633103</th>\n",
       "      <td>18620</td>\n",
       "      <td>23</td>\n",
       "      <td>6.0</td>\n",
       "    </tr>\n",
       "    <tr>\n",
       "      <th>187943</th>\n",
       "      <td>5527</td>\n",
       "      <td>25</td>\n",
       "      <td>0.0</td>\n",
       "    </tr>\n",
       "    <tr>\n",
       "      <th>201387</th>\n",
       "      <td>5923</td>\n",
       "      <td>5</td>\n",
       "      <td>0.0</td>\n",
       "    </tr>\n",
       "    <tr>\n",
       "      <th>129607</th>\n",
       "      <td>3811</td>\n",
       "      <td>33</td>\n",
       "      <td>0.0</td>\n",
       "    </tr>\n",
       "    <tr>\n",
       "      <th>531979</th>\n",
       "      <td>15646</td>\n",
       "      <td>15</td>\n",
       "      <td>0.0</td>\n",
       "    </tr>\n",
       "    <tr>\n",
       "      <th>476210</th>\n",
       "      <td>14006</td>\n",
       "      <td>6</td>\n",
       "      <td>9.0</td>\n",
       "    </tr>\n",
       "  </tbody>\n",
       "</table>\n",
       "</div>"
      ],
      "text/plain": [
       "        item_id  date_block_num  item_cnt_month\n",
       "538907    15850               7             0.0\n",
       "156902     4614              26             0.0\n",
       "343607    10106               3             0.0\n",
       "364658    10725               8             1.0\n",
       "633103    18620              23             6.0\n",
       "187943     5527              25             0.0\n",
       "201387     5923               5             0.0\n",
       "129607     3811              33             0.0\n",
       "531979    15646              15             0.0\n",
       "476210    14006               6             9.0"
      ]
     },
     "execution_count": 46,
     "metadata": {},
     "output_type": "execute_result"
    }
   ],
   "source": [
    "full_record_month.sample(10)"
   ]
  },
  {
   "cell_type": "code",
   "execution_count": 17,
   "id": "34fa8ba6",
   "metadata": {},
   "outputs": [
    {
     "data": {
      "text/html": [
       "<div>\n",
       "<style scoped>\n",
       "    .dataframe tbody tr th:only-of-type {\n",
       "        vertical-align: middle;\n",
       "    }\n",
       "\n",
       "    .dataframe tbody tr th {\n",
       "        vertical-align: top;\n",
       "    }\n",
       "\n",
       "    .dataframe thead th {\n",
       "        text-align: right;\n",
       "    }\n",
       "</style>\n",
       "<table border=\"1\" class=\"dataframe\">\n",
       "  <thead>\n",
       "    <tr style=\"text-align: right;\">\n",
       "      <th></th>\n",
       "      <th>item_id</th>\n",
       "      <th>date_block_num</th>\n",
       "      <th>item_cnt_month</th>\n",
       "    </tr>\n",
       "  </thead>\n",
       "  <tbody>\n",
       "    <tr>\n",
       "      <th>0</th>\n",
       "      <td>0</td>\n",
       "      <td>20</td>\n",
       "      <td>1</td>\n",
       "    </tr>\n",
       "    <tr>\n",
       "      <th>1</th>\n",
       "      <td>1</td>\n",
       "      <td>15</td>\n",
       "      <td>2</td>\n",
       "    </tr>\n",
       "    <tr>\n",
       "      <th>2</th>\n",
       "      <td>1</td>\n",
       "      <td>18</td>\n",
       "      <td>1</td>\n",
       "    </tr>\n",
       "    <tr>\n",
       "      <th>3</th>\n",
       "      <td>1</td>\n",
       "      <td>19</td>\n",
       "      <td>1</td>\n",
       "    </tr>\n",
       "    <tr>\n",
       "      <th>4</th>\n",
       "      <td>1</td>\n",
       "      <td>20</td>\n",
       "      <td>1</td>\n",
       "    </tr>\n",
       "    <tr>\n",
       "      <th>...</th>\n",
       "      <td>...</td>\n",
       "      <td>...</td>\n",
       "      <td>...</td>\n",
       "    </tr>\n",
       "    <tr>\n",
       "      <th>233907</th>\n",
       "      <td>22168</td>\n",
       "      <td>0</td>\n",
       "      <td>2</td>\n",
       "    </tr>\n",
       "    <tr>\n",
       "      <th>233908</th>\n",
       "      <td>22168</td>\n",
       "      <td>1</td>\n",
       "      <td>2</td>\n",
       "    </tr>\n",
       "    <tr>\n",
       "      <th>233909</th>\n",
       "      <td>22168</td>\n",
       "      <td>2</td>\n",
       "      <td>1</td>\n",
       "    </tr>\n",
       "    <tr>\n",
       "      <th>233910</th>\n",
       "      <td>22168</td>\n",
       "      <td>8</td>\n",
       "      <td>1</td>\n",
       "    </tr>\n",
       "    <tr>\n",
       "      <th>233911</th>\n",
       "      <td>22169</td>\n",
       "      <td>14</td>\n",
       "      <td>1</td>\n",
       "    </tr>\n",
       "  </tbody>\n",
       "</table>\n",
       "<p>233912 rows × 3 columns</p>\n",
       "</div>"
      ],
      "text/plain": [
       "        item_id  date_block_num  item_cnt_month\n",
       "0             0              20               1\n",
       "1             1              15               2\n",
       "2             1              18               1\n",
       "3             1              19               1\n",
       "4             1              20               1\n",
       "...         ...             ...             ...\n",
       "233907    22168               0               2\n",
       "233908    22168               1               2\n",
       "233909    22168               2               1\n",
       "233910    22168               8               1\n",
       "233911    22169              14               1\n",
       "\n",
       "[233912 rows x 3 columns]"
      ]
     },
     "execution_count": 17,
     "metadata": {},
     "output_type": "execute_result"
    }
   ],
   "source": [
    "month_count_item"
   ]
  },
  {
   "cell_type": "code",
   "execution_count": 53,
   "id": "ddc7f054",
   "metadata": {},
   "outputs": [
    {
     "data": {
      "image/png": "[encoded data removed]",
      "text/plain": [
       "<Figure size 432x288 with 1 Axes>"
      ]
     },
     "metadata": {
      "needs_background": "light"
     },
     "output_type": "display_data"
    }
   ],
   "source": [
    "item_month = pd.DataFrame(month_count_item.groupby('item_id')['date_block_num'].count())\n",
    "item_month.hist(bins = list(range(34)))\n",
    "plt.show()"
   ]
  },
  {
   "cell_type": "code",
   "execution_count": 54,
   "id": "8e4f6b7e",
   "metadata": {},
   "outputs": [
    {
     "data": {
      "text/plain": [
       "21807"
      ]
     },
     "execution_count": 54,
     "metadata": {},
     "output_type": "execute_result"
    }
   ],
   "source": [
    "len(item_month)"
   ]
  },
  {
   "cell_type": "code",
   "execution_count": 55,
   "id": "6cfcb22d",
   "metadata": {},
   "outputs": [
    {
     "data": {
      "text/plain": [
       "22170"
      ]
     },
     "execution_count": 55,
     "metadata": {},
     "output_type": "execute_result"
    }
   ],
   "source": [
    "len(items)"
   ]
  },
  {
   "cell_type": "code",
   "execution_count": 56,
   "id": "a814243f",
   "metadata": {},
   "outputs": [
    {
     "data": {
      "text/html": [
       "<div>\n",
       "<style scoped>\n",
       "    .dataframe tbody tr th:only-of-type {\n",
       "        vertical-align: middle;\n",
       "    }\n",
       "\n",
       "    .dataframe tbody tr th {\n",
       "        vertical-align: top;\n",
       "    }\n",
       "\n",
       "    .dataframe thead th {\n",
       "        text-align: right;\n",
       "    }\n",
       "</style>\n",
       "<table border=\"1\" class=\"dataframe\">\n",
       "  <thead>\n",
       "    <tr style=\"text-align: right;\">\n",
       "      <th></th>\n",
       "      <th>month_count</th>\n",
       "    </tr>\n",
       "    <tr>\n",
       "      <th>item_id</th>\n",
       "      <th></th>\n",
       "    </tr>\n",
       "  </thead>\n",
       "  <tbody>\n",
       "    <tr>\n",
       "      <th>18289</th>\n",
       "      <td>9</td>\n",
       "    </tr>\n",
       "    <tr>\n",
       "      <th>1409</th>\n",
       "      <td>24</td>\n",
       "    </tr>\n",
       "    <tr>\n",
       "      <th>9765</th>\n",
       "      <td>16</td>\n",
       "    </tr>\n",
       "  </tbody>\n",
       "</table>\n",
       "</div>"
      ],
      "text/plain": [
       "         month_count\n",
       "item_id             \n",
       "18289              9\n",
       "1409              24\n",
       "9765              16"
      ]
     },
     "execution_count": 56,
     "metadata": {},
     "output_type": "execute_result"
    }
   ],
   "source": [
    "item_month.columns = ['month_count']\n",
    "item_month.reset_index(level = [0])\n",
    "item_month.sample(3)"
   ]
  },
  {
   "cell_type": "code",
   "execution_count": 61,
   "id": "282887b0",
   "metadata": {},
   "outputs": [],
   "source": [
    "temp  = pd.merge(items, item_month, how = 'left', on = 'item_id')\n",
    "item_month = temp.fillna(0)"
   ]
  },
  {
   "cell_type": "code",
   "execution_count": 64,
   "id": "27097258",
   "metadata": {},
   "outputs": [
    {
     "data": {
      "text/html": [
       "<div>\n",
       "<style scoped>\n",
       "    .dataframe tbody tr th:only-of-type {\n",
       "        vertical-align: middle;\n",
       "    }\n",
       "\n",
       "    .dataframe tbody tr th {\n",
       "        vertical-align: top;\n",
       "    }\n",
       "\n",
       "    .dataframe thead th {\n",
       "        text-align: right;\n",
       "    }\n",
       "</style>\n",
       "<table border=\"1\" class=\"dataframe\">\n",
       "  <thead>\n",
       "    <tr style=\"text-align: right;\">\n",
       "      <th></th>\n",
       "      <th>item_name</th>\n",
       "      <th>item_id</th>\n",
       "      <th>item_category_id</th>\n",
       "      <th>month_count</th>\n",
       "    </tr>\n",
       "  </thead>\n",
       "  <tbody>\n",
       "    <tr>\n",
       "      <th>83</th>\n",
       "      <td>12/ДВЕНАДЦАТЬ (СР) (Регион)</td>\n",
       "      <td>83</td>\n",
       "      <td>40</td>\n",
       "      <td>0.0</td>\n",
       "    </tr>\n",
       "    <tr>\n",
       "      <th>140</th>\n",
       "      <td>1С:Аудиокниги. Аладдин и другие восточные сказ...</td>\n",
       "      <td>140</td>\n",
       "      <td>45</td>\n",
       "      <td>0.0</td>\n",
       "    </tr>\n",
       "    <tr>\n",
       "      <th>168</th>\n",
       "      <td>1С:Аудиокниги. Аудиокурсы по географии. 6 клас...</td>\n",
       "      <td>168</td>\n",
       "      <td>44</td>\n",
       "      <td>0.0</td>\n",
       "    </tr>\n",
       "    <tr>\n",
       "      <th>173</th>\n",
       "      <td>1С:Аудиокниги. Аудиоэнциклопедия для самых мал...</td>\n",
       "      <td>173</td>\n",
       "      <td>45</td>\n",
       "      <td>0.0</td>\n",
       "    </tr>\n",
       "    <tr>\n",
       "      <th>204</th>\n",
       "      <td>1С:Аудиокниги. Г.Р. Хаггард. Клеопатра [PC, Ци...</td>\n",
       "      <td>204</td>\n",
       "      <td>44</td>\n",
       "      <td>0.0</td>\n",
       "    </tr>\n",
       "    <tr>\n",
       "      <th>...</th>\n",
       "      <td>...</td>\n",
       "      <td>...</td>\n",
       "      <td>...</td>\n",
       "      <td>...</td>\n",
       "    </tr>\n",
       "    <tr>\n",
       "      <th>21974</th>\n",
       "      <td>Шарф Doctor Who Tardis синий 1,6м</td>\n",
       "      <td>21974</td>\n",
       "      <td>61</td>\n",
       "      <td>0.0</td>\n",
       "    </tr>\n",
       "    <tr>\n",
       "      <th>21975</th>\n",
       "      <td>Шарф Doctor Who цветной 2м</td>\n",
       "      <td>21975</td>\n",
       "      <td>61</td>\n",
       "      <td>0.0</td>\n",
       "    </tr>\n",
       "    <tr>\n",
       "      <th>22022</th>\n",
       "      <td>ЭКИПАЖ (rem)</td>\n",
       "      <td>22022</td>\n",
       "      <td>40</td>\n",
       "      <td>0.0</td>\n",
       "    </tr>\n",
       "    <tr>\n",
       "      <th>22035</th>\n",
       "      <td>ЭЛВИН И БУРУНДУКИ 2</td>\n",
       "      <td>22035</td>\n",
       "      <td>40</td>\n",
       "      <td>0.0</td>\n",
       "    </tr>\n",
       "    <tr>\n",
       "      <th>22137</th>\n",
       "      <td>Я, РОБОТ</td>\n",
       "      <td>22137</td>\n",
       "      <td>40</td>\n",
       "      <td>0.0</td>\n",
       "    </tr>\n",
       "  </tbody>\n",
       "</table>\n",
       "<p>363 rows × 4 columns</p>\n",
       "</div>"
      ],
      "text/plain": [
       "                                               item_name  item_id  \\\n",
       "83                           12/ДВЕНАДЦАТЬ (СР) (Регион)       83   \n",
       "140    1С:Аудиокниги. Аладдин и другие восточные сказ...      140   \n",
       "168    1С:Аудиокниги. Аудиокурсы по географии. 6 клас...      168   \n",
       "173    1С:Аудиокниги. Аудиоэнциклопедия для самых мал...      173   \n",
       "204    1С:Аудиокниги. Г.Р. Хаггард. Клеопатра [PC, Ци...      204   \n",
       "...                                                  ...      ...   \n",
       "21974                  Шарф Doctor Who Tardis синий 1,6м    21974   \n",
       "21975                         Шарф Doctor Who цветной 2м    21975   \n",
       "22022                                       ЭКИПАЖ (rem)    22022   \n",
       "22035                                ЭЛВИН И БУРУНДУКИ 2    22035   \n",
       "22137                                           Я, РОБОТ    22137   \n",
       "\n",
       "       item_category_id  month_count  \n",
       "83                   40          0.0  \n",
       "140                  45          0.0  \n",
       "168                  44          0.0  \n",
       "173                  45          0.0  \n",
       "204                  44          0.0  \n",
       "...                 ...          ...  \n",
       "21974                61          0.0  \n",
       "21975                61          0.0  \n",
       "22022                40          0.0  \n",
       "22035                40          0.0  \n",
       "22137                40          0.0  \n",
       "\n",
       "[363 rows x 4 columns]"
      ]
     },
     "execution_count": 64,
     "metadata": {},
     "output_type": "execute_result"
    }
   ],
   "source": [
    "item_month[item_month.month_count == 0]"
   ]
  },
  {
   "cell_type": "markdown",
   "id": "008bfd05",
   "metadata": {},
   "source": [
    "363 items were not sold at all"
   ]
  },
  {
   "cell_type": "markdown",
   "id": "33aad157",
   "metadata": {},
   "source": [
    "### Shops"
   ]
  },
  {
   "cell_type": "code",
   "execution_count": 15,
   "id": "53ca8db3",
   "metadata": {},
   "outputs": [
    {
     "data": {
      "text/html": [
       "<div>\n",
       "<style scoped>\n",
       "    .dataframe tbody tr th:only-of-type {\n",
       "        vertical-align: middle;\n",
       "    }\n",
       "\n",
       "    .dataframe tbody tr th {\n",
       "        vertical-align: top;\n",
       "    }\n",
       "\n",
       "    .dataframe thead th {\n",
       "        text-align: right;\n",
       "    }\n",
       "</style>\n",
       "<table border=\"1\" class=\"dataframe\">\n",
       "  <thead>\n",
       "    <tr style=\"text-align: right;\">\n",
       "      <th></th>\n",
       "      <th>shop_name</th>\n",
       "      <th>shop_id</th>\n",
       "    </tr>\n",
       "  </thead>\n",
       "  <tbody>\n",
       "    <tr>\n",
       "      <th>0</th>\n",
       "      <td>!Якутск Орджоникидзе, 56 фран</td>\n",
       "      <td>0</td>\n",
       "    </tr>\n",
       "    <tr>\n",
       "      <th>1</th>\n",
       "      <td>!Якутск ТЦ \"Центральный\" фран</td>\n",
       "      <td>1</td>\n",
       "    </tr>\n",
       "    <tr>\n",
       "      <th>2</th>\n",
       "      <td>Адыгея ТЦ \"Мега\"</td>\n",
       "      <td>2</td>\n",
       "    </tr>\n",
       "    <tr>\n",
       "      <th>3</th>\n",
       "      <td>Балашиха ТРК \"Октябрь-Киномир\"</td>\n",
       "      <td>3</td>\n",
       "    </tr>\n",
       "    <tr>\n",
       "      <th>4</th>\n",
       "      <td>Волжский ТЦ \"Волга Молл\"</td>\n",
       "      <td>4</td>\n",
       "    </tr>\n",
       "    <tr>\n",
       "      <th>5</th>\n",
       "      <td>Вологда ТРЦ \"Мармелад\"</td>\n",
       "      <td>5</td>\n",
       "    </tr>\n",
       "    <tr>\n",
       "      <th>6</th>\n",
       "      <td>Воронеж (Плехановская, 13)</td>\n",
       "      <td>6</td>\n",
       "    </tr>\n",
       "  </tbody>\n",
       "</table>\n",
       "</div>"
      ],
      "text/plain": [
       "                        shop_name  shop_id\n",
       "0   !Якутск Орджоникидзе, 56 фран        0\n",
       "1   !Якутск ТЦ \"Центральный\" фран        1\n",
       "2                Адыгея ТЦ \"Мега\"        2\n",
       "3  Балашиха ТРК \"Октябрь-Киномир\"        3\n",
       "4        Волжский ТЦ \"Волга Молл\"        4\n",
       "5          Вологда ТРЦ \"Мармелад\"        5\n",
       "6      Воронеж (Плехановская, 13)        6"
      ]
     },
     "execution_count": 15,
     "metadata": {},
     "output_type": "execute_result"
    }
   ],
   "source": [
    "shops.head(7)"
   ]
  },
  {
   "cell_type": "code",
   "execution_count": 16,
   "id": "8d324814",
   "metadata": {},
   "outputs": [
    {
     "name": "stdout",
     "output_type": "stream",
     "text": [
      "<class 'pandas.core.frame.DataFrame'>\n",
      "RangeIndex: 60 entries, 0 to 59\n",
      "Data columns (total 2 columns):\n",
      " #   Column     Non-Null Count  Dtype \n",
      "---  ------     --------------  ----- \n",
      " 0   shop_name  60 non-null     object\n",
      " 1   shop_id    60 non-null     int64 \n",
      "dtypes: int64(1), object(1)\n",
      "memory usage: 1.1+ KB\n"
     ]
    }
   ],
   "source": [
    "shops.info()"
   ]
  },
  {
   "cell_type": "markdown",
   "id": "42367d9c",
   "metadata": {},
   "source": [
    " It looks like the first word is the name of the city. Let's extract city name from shop name and see if it can help."
   ]
  },
  {
   "cell_type": "code",
   "execution_count": 17,
   "id": "1a3fba2f",
   "metadata": {},
   "outputs": [],
   "source": [
    "shops['city'] = [x.split(' ')[0] for x in shops.shop_name]"
   ]
  },
  {
   "cell_type": "code",
   "execution_count": 18,
   "id": "c8689172",
   "metadata": {},
   "outputs": [
    {
     "data": {
      "text/html": [
       "<div>\n",
       "<style scoped>\n",
       "    .dataframe tbody tr th:only-of-type {\n",
       "        vertical-align: middle;\n",
       "    }\n",
       "\n",
       "    .dataframe tbody tr th {\n",
       "        vertical-align: top;\n",
       "    }\n",
       "\n",
       "    .dataframe thead th {\n",
       "        text-align: right;\n",
       "    }\n",
       "</style>\n",
       "<table border=\"1\" class=\"dataframe\">\n",
       "  <thead>\n",
       "    <tr style=\"text-align: right;\">\n",
       "      <th></th>\n",
       "      <th>shop_name</th>\n",
       "      <th>shop_id</th>\n",
       "      <th>city</th>\n",
       "    </tr>\n",
       "  </thead>\n",
       "  <tbody>\n",
       "    <tr>\n",
       "      <th>0</th>\n",
       "      <td>!Якутск Орджоникидзе, 56 фран</td>\n",
       "      <td>0</td>\n",
       "      <td>!Якутск</td>\n",
       "    </tr>\n",
       "    <tr>\n",
       "      <th>5</th>\n",
       "      <td>Вологда ТРЦ \"Мармелад\"</td>\n",
       "      <td>5</td>\n",
       "      <td>Вологда</td>\n",
       "    </tr>\n",
       "    <tr>\n",
       "      <th>36</th>\n",
       "      <td>Новосибирск ТРЦ \"Галерея Новосибирск\"</td>\n",
       "      <td>36</td>\n",
       "      <td>Новосибирск</td>\n",
       "    </tr>\n",
       "    <tr>\n",
       "      <th>45</th>\n",
       "      <td>Самара ТЦ \"ПаркХаус\"</td>\n",
       "      <td>45</td>\n",
       "      <td>Самара</td>\n",
       "    </tr>\n",
       "    <tr>\n",
       "      <th>13</th>\n",
       "      <td>Казань ТЦ \"Бехетле\"</td>\n",
       "      <td>13</td>\n",
       "      <td>Казань</td>\n",
       "    </tr>\n",
       "  </tbody>\n",
       "</table>\n",
       "</div>"
      ],
      "text/plain": [
       "                                shop_name  shop_id         city\n",
       "0           !Якутск Орджоникидзе, 56 фран        0      !Якутск\n",
       "5                  Вологда ТРЦ \"Мармелад\"        5      Вологда\n",
       "36  Новосибирск ТРЦ \"Галерея Новосибирск\"       36  Новосибирск\n",
       "45                   Самара ТЦ \"ПаркХаус\"       45       Самара\n",
       "13                    Казань ТЦ \"Бехетле\"       13       Казань"
      ]
     },
     "execution_count": 18,
     "metadata": {},
     "output_type": "execute_result"
    }
   ],
   "source": [
    "shops.sample(5)"
   ]
  },
  {
   "cell_type": "markdown",
   "id": "fd18874d",
   "metadata": {},
   "source": [
    "We see duplicates at indexes 0-58, 1-59 "
   ]
  },
  {
   "cell_type": "code",
   "execution_count": 19,
   "id": "acef0bc3",
   "metadata": {},
   "outputs": [
    {
     "data": {
      "text/html": [
       "<div>\n",
       "<style scoped>\n",
       "    .dataframe tbody tr th:only-of-type {\n",
       "        vertical-align: middle;\n",
       "    }\n",
       "\n",
       "    .dataframe tbody tr th {\n",
       "        vertical-align: top;\n",
       "    }\n",
       "\n",
       "    .dataframe thead th {\n",
       "        text-align: right;\n",
       "    }\n",
       "</style>\n",
       "<table border=\"1\" class=\"dataframe\">\n",
       "  <thead>\n",
       "    <tr style=\"text-align: right;\">\n",
       "      <th></th>\n",
       "      <th>shop_name</th>\n",
       "      <th>shop_id</th>\n",
       "      <th>city</th>\n",
       "    </tr>\n",
       "  </thead>\n",
       "  <tbody>\n",
       "    <tr>\n",
       "      <th>0</th>\n",
       "      <td>Якутск Орджоникидзе, 56 фран</td>\n",
       "      <td>0</td>\n",
       "      <td>Якутск</td>\n",
       "    </tr>\n",
       "    <tr>\n",
       "      <th>1</th>\n",
       "      <td>Якутск ТЦ \"Центральный\" фран</td>\n",
       "      <td>1</td>\n",
       "      <td>Якутск</td>\n",
       "    </tr>\n",
       "    <tr>\n",
       "      <th>2</th>\n",
       "      <td>Адыгея ТЦ \"Мега\"</td>\n",
       "      <td>2</td>\n",
       "      <td>Адыгея</td>\n",
       "    </tr>\n",
       "    <tr>\n",
       "      <th>3</th>\n",
       "      <td>Балашиха ТРК \"Октябрь-Киномир\"</td>\n",
       "      <td>3</td>\n",
       "      <td>Балашиха</td>\n",
       "    </tr>\n",
       "    <tr>\n",
       "      <th>4</th>\n",
       "      <td>Волжский ТЦ \"Волга Молл\"</td>\n",
       "      <td>4</td>\n",
       "      <td>Волжский</td>\n",
       "    </tr>\n",
       "  </tbody>\n",
       "</table>\n",
       "</div>"
      ],
      "text/plain": [
       "                        shop_name  shop_id      city\n",
       "0    Якутск Орджоникидзе, 56 фран        0    Якутск\n",
       "1    Якутск ТЦ \"Центральный\" фран        1    Якутск\n",
       "2                Адыгея ТЦ \"Мега\"        2    Адыгея\n",
       "3  Балашиха ТРК \"Октябрь-Киномир\"        3  Балашиха\n",
       "4        Волжский ТЦ \"Волга Молл\"        4  Волжский"
      ]
     },
     "execution_count": 19,
     "metadata": {},
     "output_type": "execute_result"
    }
   ],
   "source": [
    "shops.iloc[0,2] = 'Якутск'\n",
    "shops.iloc[1,2] = 'Якутск'\n",
    "shops.iloc[0,0] = shops.iloc[0,0][1:]\n",
    "shops.iloc[1,0] = shops.iloc[1,0][1:]\n",
    "shops.head()"
   ]
  },
  {
   "cell_type": "code",
   "execution_count": 20,
   "id": "0a13faef",
   "metadata": {},
   "outputs": [
    {
     "data": {
      "text/plain": [
       "(array(['Якутск', 'Адыгея', 'Балашиха', 'Волжский', 'Вологда', 'Воронеж',\n",
       "        'Выездная', 'Жуковский', 'Интернет-магазин', 'Казань', 'Калуга',\n",
       "        'Коломна', 'Красноярск', 'Курск', 'Москва', 'Мытищи', 'Н.Новгород',\n",
       "        'Новосибирск', 'Омск', 'РостовНаДону', 'СПб', 'Самара', 'Сергиев',\n",
       "        'Сургут', 'Томск', 'Тюмень', 'Уфа', 'Химки', 'Цифровой', 'Чехов',\n",
       "        'Ярославль'], dtype=object),\n",
       " 31)"
      ]
     },
     "execution_count": 20,
     "metadata": {},
     "output_type": "execute_result"
    }
   ],
   "source": [
    "cities = pd.unique(shops['city'])\n",
    "cities, len(cities)"
   ]
  },
  {
   "cell_type": "markdown",
   "id": "32e5a4e1",
   "metadata": {},
   "source": [
    "We see that there are \"Интернет-магазин\", \"Цифровой\", \"Выездная\" which are obviously not cities. Let's leave it the way it is for now. Maybe it will not be a problem"
   ]
  },
  {
   "cell_type": "code",
   "execution_count": 21,
   "id": "5c159e25",
   "metadata": {},
   "outputs": [
    {
     "data": {
      "image/png": "[encoded data removed]",
      "text/plain": [
       "<Figure size 864x576 with 1 Axes>"
      ]
     },
     "metadata": {
      "needs_background": "light"
     },
     "output_type": "display_data"
    }
   ],
   "source": [
    "plt.figure(figsize=(12,8))\n",
    "sns.countplot(y=\"city\", data=shops.iloc[2:], palette = 'Paired')\n",
    "plt.title('Number of shops in a city')\n",
    "plt.show()"
   ]
  },
  {
   "cell_type": "markdown",
   "id": "92666059",
   "metadata": {},
   "source": [
    "It looks like Moscow has more shops than any other city"
   ]
  },
  {
   "cell_type": "markdown",
   "id": "b6978352",
   "metadata": {},
   "source": [
    "## Categories"
   ]
  },
  {
   "cell_type": "code",
   "execution_count": 22,
   "id": "97c03fac",
   "metadata": {},
   "outputs": [
    {
     "data": {
      "text/html": [
       "<div>\n",
       "<style scoped>\n",
       "    .dataframe tbody tr th:only-of-type {\n",
       "        vertical-align: middle;\n",
       "    }\n",
       "\n",
       "    .dataframe tbody tr th {\n",
       "        vertical-align: top;\n",
       "    }\n",
       "\n",
       "    .dataframe thead th {\n",
       "        text-align: right;\n",
       "    }\n",
       "</style>\n",
       "<table border=\"1\" class=\"dataframe\">\n",
       "  <thead>\n",
       "    <tr style=\"text-align: right;\">\n",
       "      <th></th>\n",
       "      <th>item_category_name</th>\n",
       "      <th>item_category_id</th>\n",
       "    </tr>\n",
       "  </thead>\n",
       "  <tbody>\n",
       "    <tr>\n",
       "      <th>69</th>\n",
       "      <td>Подарки - Сувениры</td>\n",
       "      <td>69</td>\n",
       "    </tr>\n",
       "    <tr>\n",
       "      <th>71</th>\n",
       "      <td>Подарки - Сумки, Альбомы, Коврики д/мыши</td>\n",
       "      <td>71</td>\n",
       "    </tr>\n",
       "    <tr>\n",
       "      <th>27</th>\n",
       "      <td>Игры MAC - Цифра</td>\n",
       "      <td>27</td>\n",
       "    </tr>\n",
       "    <tr>\n",
       "      <th>19</th>\n",
       "      <td>Игры - PS3</td>\n",
       "      <td>19</td>\n",
       "    </tr>\n",
       "    <tr>\n",
       "      <th>42</th>\n",
       "      <td>Книги - Артбуки, энциклопедии</td>\n",
       "      <td>42</td>\n",
       "    </tr>\n",
       "    <tr>\n",
       "      <th>21</th>\n",
       "      <td>Игры - PSP</td>\n",
       "      <td>21</td>\n",
       "    </tr>\n",
       "    <tr>\n",
       "      <th>29</th>\n",
       "      <td>Игры PC - Коллекционные издания</td>\n",
       "      <td>29</td>\n",
       "    </tr>\n",
       "    <tr>\n",
       "      <th>79</th>\n",
       "      <td>Служебные</td>\n",
       "      <td>79</td>\n",
       "    </tr>\n",
       "  </tbody>\n",
       "</table>\n",
       "</div>"
      ],
      "text/plain": [
       "                          item_category_name  item_category_id\n",
       "69                        Подарки - Сувениры                69\n",
       "71  Подарки - Сумки, Альбомы, Коврики д/мыши                71\n",
       "27                          Игры MAC - Цифра                27\n",
       "19                                Игры - PS3                19\n",
       "42             Книги - Артбуки, энциклопедии                42\n",
       "21                                Игры - PSP                21\n",
       "29           Игры PC - Коллекционные издания                29\n",
       "79                                 Служебные                79"
      ]
     },
     "execution_count": 22,
     "metadata": {},
     "output_type": "execute_result"
    }
   ],
   "source": [
    "categories.sample(8)"
   ]
  },
  {
   "cell_type": "code",
   "execution_count": 23,
   "id": "c3be4eee",
   "metadata": {},
   "outputs": [
    {
     "name": "stdout",
     "output_type": "stream",
     "text": [
      "<class 'pandas.core.frame.DataFrame'>\n",
      "RangeIndex: 84 entries, 0 to 83\n",
      "Data columns (total 2 columns):\n",
      " #   Column              Non-Null Count  Dtype \n",
      "---  ------              --------------  ----- \n",
      " 0   item_category_name  84 non-null     object\n",
      " 1   item_category_id    84 non-null     int64 \n",
      "dtypes: int64(1), object(1)\n",
      "memory usage: 1.4+ KB\n"
     ]
    }
   ],
   "source": [
    "categories.info()"
   ]
  },
  {
   "cell_type": "code",
   "execution_count": 24,
   "id": "d9256d1e",
   "metadata": {},
   "outputs": [
    {
     "data": {
      "text/plain": [
       "84"
      ]
     },
     "execution_count": 24,
     "metadata": {},
     "output_type": "execute_result"
    }
   ],
   "source": [
    "len(pd.unique(categories['item_category_name']))"
   ]
  },
  {
   "cell_type": "markdown",
   "id": "a73583ea",
   "metadata": {},
   "source": [
    "All the categories are unique. But there are a lot of them. If we look at the structure we'll see that most of the categories follow the pattern '1 - 2' where 2 is additional category"
   ]
  },
  {
   "cell_type": "markdown",
   "id": "2a3bbe74",
   "metadata": {},
   "source": [
    "Let's extract first key words (before '-') and get rid of the words in braces as they also represent additional information which may be redundant to the model"
   ]
  },
  {
   "cell_type": "code",
   "execution_count": 25,
   "id": "7c723ad5",
   "metadata": {},
   "outputs": [],
   "source": [
    "categories['cat'] = [x.split('-')[0].strip().split('(')[0].strip() for x in categories['item_category_name'] ]"
   ]
  },
  {
   "cell_type": "code",
   "execution_count": 26,
   "id": "f9ef574b",
   "metadata": {},
   "outputs": [
    {
     "data": {
      "text/plain": [
       "array(['PC', 'Аксессуары', 'Билеты', 'Доставка товара', 'Игровые консоли',\n",
       "       'Игры', 'Игры Android', 'Игры MAC', 'Игры PC', 'Карты оплаты',\n",
       "       'Кино', 'Книги', 'Музыка', 'Подарки', 'Программы', 'Служебные',\n",
       "       'Чистые носители', 'Элементы питания'], dtype=object)"
      ]
     },
     "execution_count": 26,
     "metadata": {},
     "output_type": "execute_result"
    }
   ],
   "source": [
    "pd.unique(categories['cat'])"
   ]
  },
  {
   "cell_type": "markdown",
   "id": "dde07ea3",
   "metadata": {},
   "source": [
    "Let's change all \"Игры **** \" to just \"Игры\" to simplify the categories"
   ]
  },
  {
   "cell_type": "code",
   "execution_count": 27,
   "id": "48d413a0",
   "metadata": {},
   "outputs": [],
   "source": [
    "categories['cat'] = ['Игры' if x == 'Игры PC' or x == 'Игры Android' or x == 'Игры MAC' else x for x in categories['cat']  ]"
   ]
  },
  {
   "cell_type": "code",
   "execution_count": 28,
   "id": "a9b386dc",
   "metadata": {},
   "outputs": [
    {
     "data": {
      "text/html": [
       "<div>\n",
       "<style scoped>\n",
       "    .dataframe tbody tr th:only-of-type {\n",
       "        vertical-align: middle;\n",
       "    }\n",
       "\n",
       "    .dataframe tbody tr th {\n",
       "        vertical-align: top;\n",
       "    }\n",
       "\n",
       "    .dataframe thead th {\n",
       "        text-align: right;\n",
       "    }\n",
       "</style>\n",
       "<table border=\"1\" class=\"dataframe\">\n",
       "  <thead>\n",
       "    <tr style=\"text-align: right;\">\n",
       "      <th></th>\n",
       "      <th>item_category_name</th>\n",
       "      <th>item_category_id</th>\n",
       "      <th>cat</th>\n",
       "    </tr>\n",
       "  </thead>\n",
       "  <tbody>\n",
       "    <tr>\n",
       "      <th>13</th>\n",
       "      <td>Игровые консоли - PSP</td>\n",
       "      <td>13</td>\n",
       "      <td>Игровые консоли</td>\n",
       "    </tr>\n",
       "    <tr>\n",
       "      <th>46</th>\n",
       "      <td>Книги - Бизнес литература</td>\n",
       "      <td>46</td>\n",
       "      <td>Книги</td>\n",
       "    </tr>\n",
       "    <tr>\n",
       "      <th>77</th>\n",
       "      <td>Программы - Обучающие</td>\n",
       "      <td>77</td>\n",
       "      <td>Программы</td>\n",
       "    </tr>\n",
       "    <tr>\n",
       "      <th>54</th>\n",
       "      <td>Книги - Цифра</td>\n",
       "      <td>54</td>\n",
       "      <td>Книги</td>\n",
       "    </tr>\n",
       "    <tr>\n",
       "      <th>15</th>\n",
       "      <td>Игровые консоли - XBOX 360</td>\n",
       "      <td>15</td>\n",
       "      <td>Игровые консоли</td>\n",
       "    </tr>\n",
       "  </tbody>\n",
       "</table>\n",
       "</div>"
      ],
      "text/plain": [
       "            item_category_name  item_category_id              cat\n",
       "13       Игровые консоли - PSP                13  Игровые консоли\n",
       "46   Книги - Бизнес литература                46            Книги\n",
       "77       Программы - Обучающие                77        Программы\n",
       "54               Книги - Цифра                54            Книги\n",
       "15  Игровые консоли - XBOX 360                15  Игровые консоли"
      ]
     },
     "execution_count": 28,
     "metadata": {},
     "output_type": "execute_result"
    }
   ],
   "source": [
    "categories.sample(5)"
   ]
  },
  {
   "cell_type": "markdown",
   "id": "4fd37091",
   "metadata": {},
   "source": [
    "Looks nice"
   ]
  },
  {
   "cell_type": "code",
   "execution_count": 29,
   "id": "4053f395",
   "metadata": {},
   "outputs": [
    {
     "data": {
      "text/plain": [
       "array(['PC', 'Аксессуары', 'Билеты', 'Доставка товара', 'Игровые консоли',\n",
       "       'Игры', 'Карты оплаты', 'Кино', 'Книги', 'Музыка', 'Подарки',\n",
       "       'Программы', 'Служебные', 'Чистые носители', 'Элементы питания'],\n",
       "      dtype=object)"
      ]
     },
     "execution_count": 29,
     "metadata": {},
     "output_type": "execute_result"
    }
   ],
   "source": [
    "pd.unique(categories['cat'])"
   ]
  },
  {
   "cell_type": "markdown",
   "id": "43fd8b0a",
   "metadata": {},
   "source": [
    "All the categories make sense. Maybe it will be neccessary to extract more information from the original categories later. But for now we'll continue exploring this data"
   ]
  },
  {
   "cell_type": "markdown",
   "id": "d3ceb7b3",
   "metadata": {},
   "source": [
    "### Let's take a look at the items"
   ]
  },
  {
   "cell_type": "code",
   "execution_count": 30,
   "id": "1fe5f622",
   "metadata": {},
   "outputs": [
    {
     "data": {
      "text/html": [
       "<div>\n",
       "<style scoped>\n",
       "    .dataframe tbody tr th:only-of-type {\n",
       "        vertical-align: middle;\n",
       "    }\n",
       "\n",
       "    .dataframe tbody tr th {\n",
       "        vertical-align: top;\n",
       "    }\n",
       "\n",
       "    .dataframe thead th {\n",
       "        text-align: right;\n",
       "    }\n",
       "</style>\n",
       "<table border=\"1\" class=\"dataframe\">\n",
       "  <thead>\n",
       "    <tr style=\"text-align: right;\">\n",
       "      <th></th>\n",
       "      <th>item_name</th>\n",
       "      <th>item_id</th>\n",
       "      <th>item_category_id</th>\n",
       "    </tr>\n",
       "  </thead>\n",
       "  <tbody>\n",
       "    <tr>\n",
       "      <th>14223</th>\n",
       "      <td>Лучшее на MP3. Николай Носков (подар. уп.) (mp...</td>\n",
       "      <td>14223</td>\n",
       "      <td>57</td>\n",
       "    </tr>\n",
       "    <tr>\n",
       "      <th>3498</th>\n",
       "      <td>Final Fantasy XIV: A Realm Reborn. Collector’s...</td>\n",
       "      <td>3498</td>\n",
       "      <td>29</td>\n",
       "    </tr>\n",
       "    <tr>\n",
       "      <th>19536</th>\n",
       "      <td>ТАЙНА ПЕРЕВАЛА ДЯТЛОВА</td>\n",
       "      <td>19536</td>\n",
       "      <td>40</td>\n",
       "    </tr>\n",
       "    <tr>\n",
       "      <th>18407</th>\n",
       "      <td>СБ. Первый танцевальный  5</td>\n",
       "      <td>18407</td>\n",
       "      <td>55</td>\n",
       "    </tr>\n",
       "    <tr>\n",
       "      <th>10714</th>\n",
       "      <td>ДАБЛ ТРАБЛ</td>\n",
       "      <td>10714</td>\n",
       "      <td>40</td>\n",
       "    </tr>\n",
       "    <tr>\n",
       "      <th>6253</th>\n",
       "      <td>SCORPIONS  Return To Forever  2LP</td>\n",
       "      <td>6253</td>\n",
       "      <td>58</td>\n",
       "    </tr>\n",
       "    <tr>\n",
       "      <th>19826</th>\n",
       "      <td>ТРИ КОРОЛЯ WB (регион)</td>\n",
       "      <td>19826</td>\n",
       "      <td>40</td>\n",
       "    </tr>\n",
       "    <tr>\n",
       "      <th>3261</th>\n",
       "      <td>F1 2011 [PS Vita, английская версия]</td>\n",
       "      <td>3261</td>\n",
       "      <td>22</td>\n",
       "    </tr>\n",
       "    <tr>\n",
       "      <th>547</th>\n",
       "      <td>1С:Образовательная коллекция. English today. У...</td>\n",
       "      <td>547</td>\n",
       "      <td>77</td>\n",
       "    </tr>\n",
       "    <tr>\n",
       "      <th>15013</th>\n",
       "      <td>Маша и медведь. Развивающие задания для малыше...</td>\n",
       "      <td>15013</td>\n",
       "      <td>30</td>\n",
       "    </tr>\n",
       "  </tbody>\n",
       "</table>\n",
       "</div>"
      ],
      "text/plain": [
       "                                               item_name  item_id  \\\n",
       "14223  Лучшее на MP3. Николай Носков (подар. уп.) (mp...    14223   \n",
       "3498   Final Fantasy XIV: A Realm Reborn. Collector’s...     3498   \n",
       "19536                             ТАЙНА ПЕРЕВАЛА ДЯТЛОВА    19536   \n",
       "18407                         СБ. Первый танцевальный  5    18407   \n",
       "10714                                         ДАБЛ ТРАБЛ    10714   \n",
       "6253                   SCORPIONS  Return To Forever  2LP     6253   \n",
       "19826                             ТРИ КОРОЛЯ WB (регион)    19826   \n",
       "3261                F1 2011 [PS Vita, английская версия]     3261   \n",
       "547    1С:Образовательная коллекция. English today. У...      547   \n",
       "15013  Маша и медведь. Развивающие задания для малыше...    15013   \n",
       "\n",
       "       item_category_id  \n",
       "14223                57  \n",
       "3498                 29  \n",
       "19536                40  \n",
       "18407                55  \n",
       "10714                40  \n",
       "6253                 58  \n",
       "19826                40  \n",
       "3261                 22  \n",
       "547                  77  \n",
       "15013                30  "
      ]
     },
     "execution_count": 30,
     "metadata": {},
     "output_type": "execute_result"
    }
   ],
   "source": [
    "items.sample(10)"
   ]
  },
  {
   "cell_type": "markdown",
   "id": "333308f1",
   "metadata": {},
   "source": [
    "It looks like very few item names contain valid info about the category. So we'll leave it untouched for now"
   ]
  },
  {
   "cell_type": "code",
   "execution_count": 31,
   "id": "7bc064f5",
   "metadata": {},
   "outputs": [
    {
     "name": "stdout",
     "output_type": "stream",
     "text": [
      "<class 'pandas.core.frame.DataFrame'>\n",
      "RangeIndex: 22170 entries, 0 to 22169\n",
      "Data columns (total 3 columns):\n",
      " #   Column            Non-Null Count  Dtype \n",
      "---  ------            --------------  ----- \n",
      " 0   item_name         22170 non-null  object\n",
      " 1   item_id           22170 non-null  int64 \n",
      " 2   item_category_id  22170 non-null  int64 \n",
      "dtypes: int64(2), object(1)\n",
      "memory usage: 519.7+ KB\n"
     ]
    }
   ],
   "source": [
    "items.info()"
   ]
  },
  {
   "cell_type": "code",
   "execution_count": 32,
   "id": "583116a8",
   "metadata": {},
   "outputs": [
    {
     "data": {
      "text/plain": [
       "22170"
      ]
     },
     "execution_count": 32,
     "metadata": {},
     "output_type": "execute_result"
    }
   ],
   "source": [
    "len(pd.unique(items.item_name))"
   ]
  },
  {
   "cell_type": "markdown",
   "id": "c4f9f09c",
   "metadata": {},
   "source": [
    "All the names are unique. There are no duplicates"
   ]
  },
  {
   "cell_type": "markdown",
   "id": "f6b4e32a",
   "metadata": {},
   "source": [
    "#### Merge items with categories in order to proceed the analysis"
   ]
  },
  {
   "cell_type": "code",
   "execution_count": 34,
   "id": "c69e18ef",
   "metadata": {},
   "outputs": [],
   "source": [
    "items_with_categories = pd.merge(items,categories, on = 'item_category_id')"
   ]
  },
  {
   "cell_type": "code",
   "execution_count": 36,
   "id": "deda5535",
   "metadata": {},
   "outputs": [
    {
     "data": {
      "text/plain": [
       "True"
      ]
     },
     "execution_count": 36,
     "metadata": {},
     "output_type": "execute_result"
    }
   ],
   "source": [
    "len(items) == len(items_with_categories)"
   ]
  },
  {
   "cell_type": "code",
   "execution_count": 35,
   "id": "829d431f",
   "metadata": {},
   "outputs": [
    {
     "data": {
      "image/png": "[encoded data removed]",
      "text/plain": [
       "<Figure size 1296x648 with 1 Axes>"
      ]
     },
     "metadata": {
      "needs_background": "light"
     },
     "output_type": "display_data"
    }
   ],
   "source": [
    "fig = plt.figure(figsize=(18,9))\n",
    "chart = sns.countplot(y=\"cat\", data=items_with_categories, palette = 'Paired')\n",
    "chart.set(xlabel='items', ylabel='categories')\n",
    "plt.title('Number of items in a category')\n",
    "plt.show()"
   ]
  },
  {
   "cell_type": "markdown",
   "id": "b2d75aaf",
   "metadata": {},
   "source": [
    "It looks like most items from items dataset are labeled as \"Кино\". Some categories are represented by a very limited amount of items. Maybe it would make sense to unite them into one category like 'other' for simplification later"
   ]
  },
  {
   "cell_type": "markdown",
   "id": "e2e24d52",
   "metadata": {},
   "source": [
    "## Sales"
   ]
  },
  {
   "cell_type": "code",
   "execution_count": 86,
   "id": "95b14bb7",
   "metadata": {},
   "outputs": [
    {
     "data": {
      "text/html": [
       "<div>\n",
       "<style scoped>\n",
       "    .dataframe tbody tr th:only-of-type {\n",
       "        vertical-align: middle;\n",
       "    }\n",
       "\n",
       "    .dataframe tbody tr th {\n",
       "        vertical-align: top;\n",
       "    }\n",
       "\n",
       "    .dataframe thead th {\n",
       "        text-align: right;\n",
       "    }\n",
       "</style>\n",
       "<table border=\"1\" class=\"dataframe\">\n",
       "  <thead>\n",
       "    <tr style=\"text-align: right;\">\n",
       "      <th></th>\n",
       "      <th>date</th>\n",
       "      <th>date_block_num</th>\n",
       "      <th>shop_id</th>\n",
       "      <th>item_id</th>\n",
       "      <th>item_price</th>\n",
       "      <th>item_cnt_day</th>\n",
       "    </tr>\n",
       "  </thead>\n",
       "  <tbody>\n",
       "    <tr>\n",
       "      <th>716594</th>\n",
       "      <td>2013-07-28</td>\n",
       "      <td>6</td>\n",
       "      <td>42</td>\n",
       "      <td>3739</td>\n",
       "      <td>299.00</td>\n",
       "      <td>1</td>\n",
       "    </tr>\n",
       "    <tr>\n",
       "      <th>1535492</th>\n",
       "      <td>2014-03-10</td>\n",
       "      <td>14</td>\n",
       "      <td>16</td>\n",
       "      <td>2263</td>\n",
       "      <td>999.00</td>\n",
       "      <td>1</td>\n",
       "    </tr>\n",
       "    <tr>\n",
       "      <th>1779464</th>\n",
       "      <td>2014-06-05</td>\n",
       "      <td>17</td>\n",
       "      <td>42</td>\n",
       "      <td>17445</td>\n",
       "      <td>399.00</td>\n",
       "      <td>1</td>\n",
       "    </tr>\n",
       "    <tr>\n",
       "      <th>546276</th>\n",
       "      <td>2013-06-15</td>\n",
       "      <td>5</td>\n",
       "      <td>44</td>\n",
       "      <td>14706</td>\n",
       "      <td>149.00</td>\n",
       "      <td>1</td>\n",
       "    </tr>\n",
       "    <tr>\n",
       "      <th>747378</th>\n",
       "      <td>2013-08-18</td>\n",
       "      <td>7</td>\n",
       "      <td>38</td>\n",
       "      <td>12550</td>\n",
       "      <td>149.00</td>\n",
       "      <td>1</td>\n",
       "    </tr>\n",
       "    <tr>\n",
       "      <th>2536162</th>\n",
       "      <td>2015-03-24</td>\n",
       "      <td>26</td>\n",
       "      <td>7</td>\n",
       "      <td>12473</td>\n",
       "      <td>199.00</td>\n",
       "      <td>1</td>\n",
       "    </tr>\n",
       "    <tr>\n",
       "      <th>2604965</th>\n",
       "      <td>2015-04-02</td>\n",
       "      <td>27</td>\n",
       "      <td>18</td>\n",
       "      <td>4348</td>\n",
       "      <td>932.67</td>\n",
       "      <td>1</td>\n",
       "    </tr>\n",
       "  </tbody>\n",
       "</table>\n",
       "</div>"
      ],
      "text/plain": [
       "              date  date_block_num  shop_id  item_id  item_price  item_cnt_day\n",
       "716594  2013-07-28               6       42     3739      299.00             1\n",
       "1535492 2014-03-10              14       16     2263      999.00             1\n",
       "1779464 2014-06-05              17       42    17445      399.00             1\n",
       "546276  2013-06-15               5       44    14706      149.00             1\n",
       "747378  2013-08-18               7       38    12550      149.00             1\n",
       "2536162 2015-03-24              26        7    12473      199.00             1\n",
       "2604965 2015-04-02              27       18     4348      932.67             1"
      ]
     },
     "execution_count": 86,
     "metadata": {},
     "output_type": "execute_result"
    }
   ],
   "source": [
    "sales.sample(7)"
   ]
  },
  {
   "cell_type": "code",
   "execution_count": 38,
   "id": "6db4c71b",
   "metadata": {},
   "outputs": [
    {
     "name": "stdout",
     "output_type": "stream",
     "text": [
      "<class 'pandas.core.frame.DataFrame'>\n",
      "RangeIndex: 2935849 entries, 0 to 2935848\n",
      "Data columns (total 6 columns):\n",
      " #   Column          Dtype  \n",
      "---  ------          -----  \n",
      " 0   date            object \n",
      " 1   date_block_num  int64  \n",
      " 2   shop_id         int64  \n",
      " 3   item_id         int64  \n",
      " 4   item_price      float64\n",
      " 5   item_cnt_day    int32  \n",
      "dtypes: float64(1), int32(1), int64(3), object(1)\n",
      "memory usage: 123.2+ MB\n"
     ]
    }
   ],
   "source": [
    "sales.info()"
   ]
  },
  {
   "cell_type": "markdown",
   "id": "60fbe5c1",
   "metadata": {},
   "source": [
    "Let's change values in 'date' col from string to date type"
   ]
  },
  {
   "cell_type": "code",
   "execution_count": 39,
   "id": "32196547",
   "metadata": {},
   "outputs": [],
   "source": [
    "sales.date = pd.to_datetime(sales.date, format='%d.%m.%Y')"
   ]
  },
  {
   "cell_type": "code",
   "execution_count": 40,
   "id": "bba25d1a",
   "metadata": {},
   "outputs": [
    {
     "data": {
      "text/html": [
       "<div>\n",
       "<style scoped>\n",
       "    .dataframe tbody tr th:only-of-type {\n",
       "        vertical-align: middle;\n",
       "    }\n",
       "\n",
       "    .dataframe tbody tr th {\n",
       "        vertical-align: top;\n",
       "    }\n",
       "\n",
       "    .dataframe thead th {\n",
       "        text-align: right;\n",
       "    }\n",
       "</style>\n",
       "<table border=\"1\" class=\"dataframe\">\n",
       "  <thead>\n",
       "    <tr style=\"text-align: right;\">\n",
       "      <th></th>\n",
       "      <th>date</th>\n",
       "      <th>date_block_num</th>\n",
       "      <th>shop_id</th>\n",
       "      <th>item_id</th>\n",
       "      <th>item_price</th>\n",
       "      <th>item_cnt_day</th>\n",
       "    </tr>\n",
       "  </thead>\n",
       "  <tbody>\n",
       "    <tr>\n",
       "      <th>378723</th>\n",
       "      <td>2013-04-02</td>\n",
       "      <td>3</td>\n",
       "      <td>22</td>\n",
       "      <td>7130</td>\n",
       "      <td>399.0</td>\n",
       "      <td>1</td>\n",
       "    </tr>\n",
       "  </tbody>\n",
       "</table>\n",
       "</div>"
      ],
      "text/plain": [
       "             date  date_block_num  shop_id  item_id  item_price  item_cnt_day\n",
       "378723 2013-04-02               3       22     7130       399.0             1"
      ]
     },
     "execution_count": 40,
     "metadata": {},
     "output_type": "execute_result"
    }
   ],
   "source": [
    "sales.sample()"
   ]
  },
  {
   "cell_type": "code",
   "execution_count": 41,
   "id": "e6f127d3",
   "metadata": {},
   "outputs": [
    {
     "data": {
      "text/plain": [
       "array([ 0,  1,  2,  3,  4,  5,  6,  7,  8,  9, 10, 11, 12, 13, 14, 15, 16,\n",
       "       17, 18, 19, 20, 21, 22, 23, 24, 25, 26, 27, 28, 29, 30, 31, 32, 33],\n",
       "      dtype=int64)"
      ]
     },
     "execution_count": 41,
     "metadata": {},
     "output_type": "execute_result"
    }
   ],
   "source": [
    "pd.unique(sales['date_block_num'])"
   ]
  },
  {
   "cell_type": "code",
   "execution_count": 42,
   "id": "2eebce66",
   "metadata": {},
   "outputs": [
    {
     "data": {
      "text/plain": [
       "count    2.935849e+06\n",
       "mean     8.908532e+02\n",
       "std      1.729800e+03\n",
       "min     -1.000000e+00\n",
       "25%      2.490000e+02\n",
       "50%      3.990000e+02\n",
       "75%      9.990000e+02\n",
       "95%      2.690000e+03\n",
       "max      3.079800e+05\n",
       "Name: item_price, dtype: float64"
      ]
     },
     "execution_count": 42,
     "metadata": {},
     "output_type": "execute_result"
    }
   ],
   "source": [
    "sales.item_price.describe(percentiles=[.25, .5, .75, .95])"
   ]
  },
  {
   "cell_type": "markdown",
   "id": "02c8ee17",
   "metadata": {},
   "source": [
    "It looks like 95% of items were sold for less than 2690 RUB considering max price is ~300.000 RUB"
   ]
  },
  {
   "cell_type": "code",
   "execution_count": 43,
   "id": "52e6f332",
   "metadata": {},
   "outputs": [
    {
     "data": {
      "image/png": "[encoded data removed]",
      "text/plain": [
       "<Figure size 576x432 with 1 Axes>"
      ]
     },
     "metadata": {
      "needs_background": "light"
     },
     "output_type": "display_data"
    }
   ],
   "source": [
    "plt.figure(figsize=(8,6))\n",
    "colors = sns.color_palette('Paired')[2]\n",
    "plt.hist(sales.item_price, color = colors, bins = list(range(0,3000, 100)))\n",
    "plt.title('Price of sold items')\n",
    "plt.show()"
   ]
  },
  {
   "cell_type": "code",
   "execution_count": 44,
   "id": "e5993df0",
   "metadata": {},
   "outputs": [
    {
     "data": {
      "text/plain": [
       "count    2.935849e+06\n",
       "mean     1.242641e+00\n",
       "std      2.618834e+00\n",
       "min     -2.200000e+01\n",
       "25%      1.000000e+00\n",
       "50%      1.000000e+00\n",
       "75%      1.000000e+00\n",
       "87.5%    1.000000e+00\n",
       "95%      2.000000e+00\n",
       "max      2.169000e+03\n",
       "Name: item_cnt_day, dtype: float64"
      ]
     },
     "execution_count": 44,
     "metadata": {},
     "output_type": "execute_result"
    }
   ],
   "source": [
    "sales.item_cnt_day.describe(percentiles=[.25, .5, .75, .875, .95])"
   ]
  },
  {
   "cell_type": "code",
   "execution_count": 45,
   "id": "ac0751cd",
   "metadata": {},
   "outputs": [
    {
     "data": {
      "text/plain": [
       "0.10188568962504543"
      ]
     },
     "execution_count": 45,
     "metadata": {},
     "output_type": "execute_result"
    }
   ],
   "source": [
    "len(sales[sales.item_cnt_day > 1])/len(sales)"
   ]
  },
  {
   "cell_type": "markdown",
   "id": "72be69e6",
   "metadata": {},
   "source": [
    "It looks like most items were sold by <= 1 in a day and 95% were sold in less or equal than 2"
   ]
  },
  {
   "cell_type": "code",
   "execution_count": 46,
   "id": "7828fd3b",
   "metadata": {},
   "outputs": [
    {
     "data": {
      "image/png": "[encoded data removed]",
      "text/plain": [
       "<Figure size 576x432 with 1 Axes>"
      ]
     },
     "metadata": {
      "needs_background": "light"
     },
     "output_type": "display_data"
    }
   ],
   "source": [
    "plt.figure(figsize=(8,6))\n",
    "colors = sns.color_palette('Paired')[2]\n",
    "plt.hist(sales.item_cnt_day, color = colors, bins = list(range(0,8, 1)))\n",
    "plt.show()"
   ]
  },
  {
   "cell_type": "markdown",
   "id": "9037d868",
   "metadata": {},
   "source": [
    "Let's merge sales and shops dataset to see how the location affects the total amount of sold items"
   ]
  },
  {
   "cell_type": "code",
   "execution_count": 47,
   "id": "1faeda4f",
   "metadata": {},
   "outputs": [],
   "source": [
    "sales_shop = pd.merge(sales,shops, on = 'shop_id')"
   ]
  },
  {
   "cell_type": "code",
   "execution_count": 48,
   "id": "cf86b7a6",
   "metadata": {},
   "outputs": [
    {
     "data": {
      "text/html": [
       "<div>\n",
       "<style scoped>\n",
       "    .dataframe tbody tr th:only-of-type {\n",
       "        vertical-align: middle;\n",
       "    }\n",
       "\n",
       "    .dataframe tbody tr th {\n",
       "        vertical-align: top;\n",
       "    }\n",
       "\n",
       "    .dataframe thead th {\n",
       "        text-align: right;\n",
       "    }\n",
       "</style>\n",
       "<table border=\"1\" class=\"dataframe\">\n",
       "  <thead>\n",
       "    <tr style=\"text-align: right;\">\n",
       "      <th></th>\n",
       "      <th>date</th>\n",
       "      <th>date_block_num</th>\n",
       "      <th>shop_id</th>\n",
       "      <th>item_id</th>\n",
       "      <th>item_price</th>\n",
       "      <th>item_cnt_day</th>\n",
       "      <th>shop_name</th>\n",
       "      <th>city</th>\n",
       "    </tr>\n",
       "  </thead>\n",
       "  <tbody>\n",
       "    <tr>\n",
       "      <th>517043</th>\n",
       "      <td>2013-02-07</td>\n",
       "      <td>1</td>\n",
       "      <td>28</td>\n",
       "      <td>15644</td>\n",
       "      <td>149.0</td>\n",
       "      <td>1</td>\n",
       "      <td>Москва ТЦ \"МЕГА Теплый Стан\" II</td>\n",
       "      <td>Москва</td>\n",
       "    </tr>\n",
       "    <tr>\n",
       "      <th>747738</th>\n",
       "      <td>2015-04-18</td>\n",
       "      <td>27</td>\n",
       "      <td>27</td>\n",
       "      <td>13505</td>\n",
       "      <td>1199.0</td>\n",
       "      <td>2</td>\n",
       "      <td>Москва ТЦ \"МЕГА Белая Дача II\"</td>\n",
       "      <td>Москва</td>\n",
       "    </tr>\n",
       "    <tr>\n",
       "      <th>2220221</th>\n",
       "      <td>2014-12-19</td>\n",
       "      <td>23</td>\n",
       "      <td>43</td>\n",
       "      <td>5671</td>\n",
       "      <td>3590.0</td>\n",
       "      <td>1</td>\n",
       "      <td>СПб ТК \"Сенная\"</td>\n",
       "      <td>СПб</td>\n",
       "    </tr>\n",
       "    <tr>\n",
       "      <th>72566</th>\n",
       "      <td>2013-05-02</td>\n",
       "      <td>4</td>\n",
       "      <td>25</td>\n",
       "      <td>21371</td>\n",
       "      <td>1199.0</td>\n",
       "      <td>1</td>\n",
       "      <td>Москва ТРК \"Атриум\"</td>\n",
       "      <td>Москва</td>\n",
       "    </tr>\n",
       "    <tr>\n",
       "      <th>2244799</th>\n",
       "      <td>2014-04-28</td>\n",
       "      <td>15</td>\n",
       "      <td>52</td>\n",
       "      <td>4372</td>\n",
       "      <td>1799.0</td>\n",
       "      <td>1</td>\n",
       "      <td>Уфа ТК \"Центральный\"</td>\n",
       "      <td>Уфа</td>\n",
       "    </tr>\n",
       "  </tbody>\n",
       "</table>\n",
       "</div>"
      ],
      "text/plain": [
       "              date  date_block_num  shop_id  item_id  item_price  \\\n",
       "517043  2013-02-07               1       28    15644       149.0   \n",
       "747738  2015-04-18              27       27    13505      1199.0   \n",
       "2220221 2014-12-19              23       43     5671      3590.0   \n",
       "72566   2013-05-02               4       25    21371      1199.0   \n",
       "2244799 2014-04-28              15       52     4372      1799.0   \n",
       "\n",
       "         item_cnt_day                        shop_name    city  \n",
       "517043              1  Москва ТЦ \"МЕГА Теплый Стан\" II  Москва  \n",
       "747738              2   Москва ТЦ \"МЕГА Белая Дача II\"  Москва  \n",
       "2220221             1                  СПб ТК \"Сенная\"     СПб  \n",
       "72566               1              Москва ТРК \"Атриум\"  Москва  \n",
       "2244799             1             Уфа ТК \"Центральный\"     Уфа  "
      ]
     },
     "execution_count": 48,
     "metadata": {},
     "output_type": "execute_result"
    }
   ],
   "source": [
    "sales_shop.sample(5)"
   ]
  },
  {
   "cell_type": "markdown",
   "id": "7d7016fc",
   "metadata": {},
   "source": [
    "## Total sells in a city"
   ]
  },
  {
   "cell_type": "code",
   "execution_count": 49,
   "id": "647be19d",
   "metadata": {},
   "outputs": [],
   "source": [
    "cities_total = sales_shop.groupby('city')['item_cnt_day'].sum()"
   ]
  },
  {
   "cell_type": "code",
   "execution_count": 50,
   "id": "f23de11b",
   "metadata": {},
   "outputs": [
    {
     "data": {
      "image/png": "[encoded data removed]",
      "text/plain": [
       "<Figure size 864x864 with 1 Axes>"
      ]
     },
     "metadata": {},
     "output_type": "display_data"
    }
   ],
   "source": [
    "plt.figure(figsize=(12,12))\n",
    "colors = sns.color_palette('Paired')[:len(cities_total)]\n",
    "plt.pie(cities_total, labels = cities_total.index, autopct = '%0.1f%%', colors = colors)\n",
    "plt.show()"
   ]
  },
  {
   "cell_type": "markdown",
   "id": "44d96bfd",
   "metadata": {},
   "source": [
    "As you can see from the pieplot Moscow is the leader. But Moscow also has much more shops than other cities. So let's take a look at the average count of items "
   ]
  },
  {
   "cell_type": "code",
   "execution_count": 51,
   "id": "33399059",
   "metadata": {},
   "outputs": [],
   "source": [
    "shops_count = pd.DataFrame(shops.groupby('city')['shop_name'].count()).reset_index(level = [0])"
   ]
  },
  {
   "cell_type": "code",
   "execution_count": 52,
   "id": "9f1fdb3a",
   "metadata": {},
   "outputs": [],
   "source": [
    "cities_total =  pd.DataFrame(cities_total).reset_index(level = [0])"
   ]
  },
  {
   "cell_type": "code",
   "execution_count": 53,
   "id": "8b231722",
   "metadata": {},
   "outputs": [
    {
     "data": {
      "text/html": [
       "<div>\n",
       "<style scoped>\n",
       "    .dataframe tbody tr th:only-of-type {\n",
       "        vertical-align: middle;\n",
       "    }\n",
       "\n",
       "    .dataframe tbody tr th {\n",
       "        vertical-align: top;\n",
       "    }\n",
       "\n",
       "    .dataframe thead th {\n",
       "        text-align: right;\n",
       "    }\n",
       "</style>\n",
       "<table border=\"1\" class=\"dataframe\">\n",
       "  <thead>\n",
       "    <tr style=\"text-align: right;\">\n",
       "      <th></th>\n",
       "      <th>city</th>\n",
       "      <th>shop_count</th>\n",
       "      <th>item_cnt_month</th>\n",
       "      <th>mean</th>\n",
       "    </tr>\n",
       "  </thead>\n",
       "  <tbody>\n",
       "    <tr>\n",
       "      <th>0</th>\n",
       "      <td>Адыгея</td>\n",
       "      <td>1</td>\n",
       "      <td>30620</td>\n",
       "      <td>30620.000000</td>\n",
       "    </tr>\n",
       "    <tr>\n",
       "      <th>1</th>\n",
       "      <td>Балашиха</td>\n",
       "      <td>1</td>\n",
       "      <td>28355</td>\n",
       "      <td>28355.000000</td>\n",
       "    </tr>\n",
       "    <tr>\n",
       "      <th>2</th>\n",
       "      <td>Волжский</td>\n",
       "      <td>1</td>\n",
       "      <td>43942</td>\n",
       "      <td>43942.000000</td>\n",
       "    </tr>\n",
       "    <tr>\n",
       "      <th>3</th>\n",
       "      <td>Вологда</td>\n",
       "      <td>1</td>\n",
       "      <td>42762</td>\n",
       "      <td>42762.000000</td>\n",
       "    </tr>\n",
       "    <tr>\n",
       "      <th>4</th>\n",
       "      <td>Воронеж</td>\n",
       "      <td>3</td>\n",
       "      <td>171142</td>\n",
       "      <td>57047.333333</td>\n",
       "    </tr>\n",
       "  </tbody>\n",
       "</table>\n",
       "</div>"
      ],
      "text/plain": [
       "       city  shop_count  item_cnt_month          mean\n",
       "0    Адыгея           1           30620  30620.000000\n",
       "1  Балашиха           1           28355  28355.000000\n",
       "2  Волжский           1           43942  43942.000000\n",
       "3   Вологда           1           42762  42762.000000\n",
       "4   Воронеж           3          171142  57047.333333"
      ]
     },
     "execution_count": 53,
     "metadata": {},
     "output_type": "execute_result"
    }
   ],
   "source": [
    "cities_total = pd.merge(shops_count, cities_total, on = 'city')\n",
    "cities_total.columns = ['city', 'shop_count', 'item_cnt_month']\n",
    "cities_total['mean'] = cities_total.item_cnt_month/cities_total.shop_count\n",
    "cities_total.head()"
   ]
  },
  {
   "cell_type": "markdown",
   "id": "dedc87f5",
   "metadata": {},
   "source": [
    "#### Average amount of sold items in a city"
   ]
  },
  {
   "cell_type": "code",
   "execution_count": 54,
   "id": "74a1daeb",
   "metadata": {},
   "outputs": [
    {
     "data": {
      "image/png": "[encoded data removed]",
      "text/plain": [
       "<Figure size 864x864 with 1 Axes>"
      ]
     },
     "metadata": {},
     "output_type": "display_data"
    }
   ],
   "source": [
    "plt.figure(figsize=(12,12))\n",
    "colors = sns.color_palette('Paired')[:len(cities_total)]\n",
    "plt.pie(cities_total['mean'], labels = cities_total.city, autopct = '%0.1f%%', colors = colors)\n",
    "plt.show()"
   ]
  },
  {
   "cell_type": "markdown",
   "id": "1b148e04",
   "metadata": {},
   "source": [
    "From this pieplot Himky has more sold items in average. It has only one shop. "
   ]
  },
  {
   "cell_type": "markdown",
   "id": "8750f235",
   "metadata": {},
   "source": [
    "Let's look at the amount of sold items per each shop"
   ]
  },
  {
   "cell_type": "markdown",
   "id": "606f732d",
   "metadata": {},
   "source": [
    "#### Total sells in shops"
   ]
  },
  {
   "cell_type": "code",
   "execution_count": 55,
   "id": "0fc47df5",
   "metadata": {},
   "outputs": [],
   "source": [
    "shops_total = sales_shop.groupby('shop_name')['item_cnt_day'].sum()"
   ]
  },
  {
   "cell_type": "code",
   "execution_count": 168,
   "id": "01581e1c",
   "metadata": {},
   "outputs": [],
   "source": [
    "# plt.figure(figsize=(12,12))\n",
    "# colors = sns.color_palette('Paired')[:len(shops_total)]\n",
    "# plt.pie(shops_total, labels = shops_total.index, autopct = '%0.1f%%', colors = colors)\n",
    "# plt.show()"
   ]
  },
  {
   "cell_type": "code",
   "execution_count": 56,
   "id": "528efd61",
   "metadata": {},
   "outputs": [
    {
     "data": {
      "image/png": "[encoded data removed]",
      "text/plain": [
       "<Figure size 1296x864 with 1 Axes>"
      ]
     },
     "metadata": {
      "needs_background": "light"
     },
     "output_type": "display_data"
    }
   ],
   "source": [
    "fig = plt.figure(figsize=(18,12))\n",
    "chart = sns.barplot(x = shops_total, y = shops_total.index)\n",
    "plt.show()"
   ]
  },
  {
   "cell_type": "markdown",
   "id": "e6f07603",
   "metadata": {},
   "source": [
    "ADD CONCLUSION"
   ]
  },
  {
   "cell_type": "markdown",
   "id": "09afdf20",
   "metadata": {},
   "source": [
    "We already saw the distribution of item_cnt_day.\n",
    "Let's look at the distribution of sold items in a month"
   ]
  },
  {
   "cell_type": "code",
   "execution_count": 57,
   "id": "4e160f4b",
   "metadata": {},
   "outputs": [],
   "source": [
    "fet = pd.DataFrame(sales.groupby([sales.date_block_num, 'item_id'])['item_cnt_day'].sum())\n",
    "fet.index.names = ['month', 'item_id']\n",
    "fet.columns = ['item_cnt_month']\n",
    "fet = fet.reset_index(level = [0,1])"
   ]
  },
  {
   "cell_type": "code",
   "execution_count": 58,
   "id": "cb854ace",
   "metadata": {},
   "outputs": [
    {
     "data": {
      "text/html": [
       "<div>\n",
       "<style scoped>\n",
       "    .dataframe tbody tr th:only-of-type {\n",
       "        vertical-align: middle;\n",
       "    }\n",
       "\n",
       "    .dataframe tbody tr th {\n",
       "        vertical-align: top;\n",
       "    }\n",
       "\n",
       "    .dataframe thead th {\n",
       "        text-align: right;\n",
       "    }\n",
       "</style>\n",
       "<table border=\"1\" class=\"dataframe\">\n",
       "  <thead>\n",
       "    <tr style=\"text-align: right;\">\n",
       "      <th></th>\n",
       "      <th>month</th>\n",
       "      <th>item_id</th>\n",
       "      <th>item_cnt_month</th>\n",
       "    </tr>\n",
       "  </thead>\n",
       "  <tbody>\n",
       "    <tr>\n",
       "      <th>233834</th>\n",
       "      <td>33</td>\n",
       "      <td>21885</td>\n",
       "      <td>1</td>\n",
       "    </tr>\n",
       "    <tr>\n",
       "      <th>77529</th>\n",
       "      <td>9</td>\n",
       "      <td>10933</td>\n",
       "      <td>4</td>\n",
       "    </tr>\n",
       "    <tr>\n",
       "      <th>217431</th>\n",
       "      <td>30</td>\n",
       "      <td>18277</td>\n",
       "      <td>5</td>\n",
       "    </tr>\n",
       "  </tbody>\n",
       "</table>\n",
       "</div>"
      ],
      "text/plain": [
       "        month  item_id  item_cnt_month\n",
       "233834     33    21885               1\n",
       "77529       9    10933               4\n",
       "217431     30    18277               5"
      ]
     },
     "execution_count": 58,
     "metadata": {},
     "output_type": "execute_result"
    }
   ],
   "source": [
    "fet.sample(3)"
   ]
  },
  {
   "cell_type": "code",
   "execution_count": 59,
   "id": "beccf222",
   "metadata": {},
   "outputs": [
    {
     "data": {
      "text/html": [
       "<div>\n",
       "<style scoped>\n",
       "    .dataframe tbody tr th:only-of-type {\n",
       "        vertical-align: middle;\n",
       "    }\n",
       "\n",
       "    .dataframe tbody tr th {\n",
       "        vertical-align: top;\n",
       "    }\n",
       "\n",
       "    .dataframe thead th {\n",
       "        text-align: right;\n",
       "    }\n",
       "</style>\n",
       "<table border=\"1\" class=\"dataframe\">\n",
       "  <thead>\n",
       "    <tr style=\"text-align: right;\">\n",
       "      <th></th>\n",
       "      <th>item_cnt_month</th>\n",
       "    </tr>\n",
       "  </thead>\n",
       "  <tbody>\n",
       "    <tr>\n",
       "      <th>count</th>\n",
       "      <td>233912.000000</td>\n",
       "    </tr>\n",
       "    <tr>\n",
       "      <th>mean</th>\n",
       "      <td>15.596489</td>\n",
       "    </tr>\n",
       "    <tr>\n",
       "      <th>std</th>\n",
       "      <td>96.125890</td>\n",
       "    </tr>\n",
       "    <tr>\n",
       "      <th>min</th>\n",
       "      <td>-22.000000</td>\n",
       "    </tr>\n",
       "    <tr>\n",
       "      <th>25%</th>\n",
       "      <td>2.000000</td>\n",
       "    </tr>\n",
       "    <tr>\n",
       "      <th>50%</th>\n",
       "      <td>4.000000</td>\n",
       "    </tr>\n",
       "    <tr>\n",
       "      <th>75%</th>\n",
       "      <td>11.000000</td>\n",
       "    </tr>\n",
       "    <tr>\n",
       "      <th>95%</th>\n",
       "      <td>54.000000</td>\n",
       "    </tr>\n",
       "    <tr>\n",
       "      <th>max</th>\n",
       "      <td>12557.000000</td>\n",
       "    </tr>\n",
       "  </tbody>\n",
       "</table>\n",
       "</div>"
      ],
      "text/plain": [
       "       item_cnt_month\n",
       "count   233912.000000\n",
       "mean        15.596489\n",
       "std         96.125890\n",
       "min        -22.000000\n",
       "25%          2.000000\n",
       "50%          4.000000\n",
       "75%         11.000000\n",
       "95%         54.000000\n",
       "max      12557.000000"
      ]
     },
     "execution_count": 59,
     "metadata": {},
     "output_type": "execute_result"
    }
   ],
   "source": [
    "fet[['item_cnt_month']].describe([.25, .5, .75, .95])"
   ]
  },
  {
   "cell_type": "markdown",
   "id": "fba2c7f2",
   "metadata": {},
   "source": [
    "We see that 95% of the items are sold in less than 54 and the mode is 1"
   ]
  },
  {
   "cell_type": "markdown",
   "id": "2980ab42",
   "metadata": {},
   "source": [
    "Let's look at the distribution"
   ]
  },
  {
   "cell_type": "code",
   "execution_count": 60,
   "id": "d0251d93",
   "metadata": {},
   "outputs": [
    {
     "data": {
      "image/png": "[encoded data removed]",
      "text/plain": [
       "<Figure size 576x432 with 1 Axes>"
      ]
     },
     "metadata": {
      "needs_background": "light"
     },
     "output_type": "display_data"
    }
   ],
   "source": [
    "plt.figure(figsize=(8,6))\n",
    "colors = sns.color_palette('Paired')[2]\n",
    "plt.hist(fet.item_cnt_month, color = colors, bins = list(range(0,54, 1)))\n",
    "plt.show()"
   ]
  },
  {
   "cell_type": "markdown",
   "id": "9bd19311",
   "metadata": {},
   "source": [
    "## Which month is the most selling"
   ]
  },
  {
   "cell_type": "code",
   "execution_count": 61,
   "id": "ac38a467",
   "metadata": {},
   "outputs": [],
   "source": [
    "m = [3,3,3,3,3,3,3,3,3,3,2,2]"
   ]
  },
  {
   "cell_type": "code",
   "execution_count": 62,
   "id": "58525aa7",
   "metadata": {},
   "outputs": [],
   "source": [
    "mean_month = pd.DataFrame(sales.groupby(sales.date.dt.month)['item_cnt_day'].sum()/ m).reset_index(level = [0])"
   ]
  },
  {
   "cell_type": "code",
   "execution_count": 63,
   "id": "4772b58d",
   "metadata": {},
   "outputs": [],
   "source": [
    "mean_month.columns = ['month', 'item_cnt_month']"
   ]
  },
  {
   "cell_type": "code",
   "execution_count": 64,
   "id": "2c08ffec",
   "metadata": {},
   "outputs": [
    {
     "data": {
      "image/png": "[encoded data removed]",
      "text/plain": [
       "<Figure size 432x288 with 1 Axes>"
      ]
     },
     "metadata": {
      "needs_background": "light"
     },
     "output_type": "display_data"
    }
   ],
   "source": [
    "sns.barplot(x='month', y='item_cnt_month', data=mean_month)\n",
    "plt.title('Average item count a month')\n",
    "plt.show()"
   ]
  },
  {
   "cell_type": "markdown",
   "id": "d60997be",
   "metadata": {},
   "source": [
    "December is clearly the 'leader'"
   ]
  },
  {
   "cell_type": "markdown",
   "id": "3666c731",
   "metadata": {},
   "source": [
    "# Merge all"
   ]
  },
  {
   "cell_type": "code",
   "execution_count": 65,
   "id": "e7039e55",
   "metadata": {},
   "outputs": [],
   "source": [
    "data = pd.merge(sales, shops, on = 'shop_id')\n",
    "data = pd.merge(data, items, on = 'item_id')\n",
    "data = pd.merge(data, categories, on = 'item_category_id' )"
   ]
  },
  {
   "cell_type": "code",
   "execution_count": 73,
   "id": "8973c51a",
   "metadata": {},
   "outputs": [],
   "source": [
    "id_cols = ['shop_id', 'item_id', 'item_category_id']\n",
    "num_cols = ['date_block_num', 'item_price', 'item_cnt_day']"
   ]
  },
  {
   "cell_type": "code",
   "execution_count": 66,
   "id": "2ffdabf9",
   "metadata": {},
   "outputs": [
    {
     "data": {
      "text/html": [
       "<div>\n",
       "<style scoped>\n",
       "    .dataframe tbody tr th:only-of-type {\n",
       "        vertical-align: middle;\n",
       "    }\n",
       "\n",
       "    .dataframe tbody tr th {\n",
       "        vertical-align: top;\n",
       "    }\n",
       "\n",
       "    .dataframe thead th {\n",
       "        text-align: right;\n",
       "    }\n",
       "</style>\n",
       "<table border=\"1\" class=\"dataframe\">\n",
       "  <thead>\n",
       "    <tr style=\"text-align: right;\">\n",
       "      <th></th>\n",
       "      <th>date</th>\n",
       "      <th>date_block_num</th>\n",
       "      <th>shop_id</th>\n",
       "      <th>item_id</th>\n",
       "      <th>item_price</th>\n",
       "      <th>item_cnt_day</th>\n",
       "      <th>shop_name</th>\n",
       "      <th>city</th>\n",
       "      <th>item_name</th>\n",
       "      <th>item_category_id</th>\n",
       "      <th>item_category_name</th>\n",
       "      <th>cat</th>\n",
       "    </tr>\n",
       "  </thead>\n",
       "  <tbody>\n",
       "    <tr>\n",
       "      <th>0</th>\n",
       "      <td>2013-01-02</td>\n",
       "      <td>0</td>\n",
       "      <td>59</td>\n",
       "      <td>22154</td>\n",
       "      <td>999.0</td>\n",
       "      <td>1</td>\n",
       "      <td>Ярославль ТЦ \"Альтаир\"</td>\n",
       "      <td>Ярославль</td>\n",
       "      <td>ЯВЛЕНИЕ 2012 (BD)</td>\n",
       "      <td>37</td>\n",
       "      <td>Кино - Blu-Ray</td>\n",
       "      <td>Кино</td>\n",
       "    </tr>\n",
       "    <tr>\n",
       "      <th>1</th>\n",
       "      <td>2013-01-02</td>\n",
       "      <td>0</td>\n",
       "      <td>25</td>\n",
       "      <td>22154</td>\n",
       "      <td>999.0</td>\n",
       "      <td>1</td>\n",
       "      <td>Москва ТРК \"Атриум\"</td>\n",
       "      <td>Москва</td>\n",
       "      <td>ЯВЛЕНИЕ 2012 (BD)</td>\n",
       "      <td>37</td>\n",
       "      <td>Кино - Blu-Ray</td>\n",
       "      <td>Кино</td>\n",
       "    </tr>\n",
       "    <tr>\n",
       "      <th>2</th>\n",
       "      <td>2013-01-03</td>\n",
       "      <td>0</td>\n",
       "      <td>25</td>\n",
       "      <td>22154</td>\n",
       "      <td>999.0</td>\n",
       "      <td>1</td>\n",
       "      <td>Москва ТРК \"Атриум\"</td>\n",
       "      <td>Москва</td>\n",
       "      <td>ЯВЛЕНИЕ 2012 (BD)</td>\n",
       "      <td>37</td>\n",
       "      <td>Кино - Blu-Ray</td>\n",
       "      <td>Кино</td>\n",
       "    </tr>\n",
       "    <tr>\n",
       "      <th>3</th>\n",
       "      <td>2013-01-20</td>\n",
       "      <td>0</td>\n",
       "      <td>25</td>\n",
       "      <td>22154</td>\n",
       "      <td>999.0</td>\n",
       "      <td>1</td>\n",
       "      <td>Москва ТРК \"Атриум\"</td>\n",
       "      <td>Москва</td>\n",
       "      <td>ЯВЛЕНИЕ 2012 (BD)</td>\n",
       "      <td>37</td>\n",
       "      <td>Кино - Blu-Ray</td>\n",
       "      <td>Кино</td>\n",
       "    </tr>\n",
       "    <tr>\n",
       "      <th>4</th>\n",
       "      <td>2013-01-23</td>\n",
       "      <td>0</td>\n",
       "      <td>25</td>\n",
       "      <td>22154</td>\n",
       "      <td>999.0</td>\n",
       "      <td>1</td>\n",
       "      <td>Москва ТРК \"Атриум\"</td>\n",
       "      <td>Москва</td>\n",
       "      <td>ЯВЛЕНИЕ 2012 (BD)</td>\n",
       "      <td>37</td>\n",
       "      <td>Кино - Blu-Ray</td>\n",
       "      <td>Кино</td>\n",
       "    </tr>\n",
       "  </tbody>\n",
       "</table>\n",
       "</div>"
      ],
      "text/plain": [
       "        date  date_block_num  shop_id  item_id  item_price  item_cnt_day  \\\n",
       "0 2013-01-02               0       59    22154       999.0             1   \n",
       "1 2013-01-02               0       25    22154       999.0             1   \n",
       "2 2013-01-03               0       25    22154       999.0             1   \n",
       "3 2013-01-20               0       25    22154       999.0             1   \n",
       "4 2013-01-23               0       25    22154       999.0             1   \n",
       "\n",
       "                shop_name       city          item_name  item_category_id  \\\n",
       "0  Ярославль ТЦ \"Альтаир\"  Ярославль  ЯВЛЕНИЕ 2012 (BD)                37   \n",
       "1     Москва ТРК \"Атриум\"     Москва  ЯВЛЕНИЕ 2012 (BD)                37   \n",
       "2     Москва ТРК \"Атриум\"     Москва  ЯВЛЕНИЕ 2012 (BD)                37   \n",
       "3     Москва ТРК \"Атриум\"     Москва  ЯВЛЕНИЕ 2012 (BD)                37   \n",
       "4     Москва ТРК \"Атриум\"     Москва  ЯВЛЕНИЕ 2012 (BD)                37   \n",
       "\n",
       "  item_category_name   cat  \n",
       "0     Кино - Blu-Ray  Кино  \n",
       "1     Кино - Blu-Ray  Кино  \n",
       "2     Кино - Blu-Ray  Кино  \n",
       "3     Кино - Blu-Ray  Кино  \n",
       "4     Кино - Blu-Ray  Кино  "
      ]
     },
     "execution_count": 66,
     "metadata": {},
     "output_type": "execute_result"
    }
   ],
   "source": [
    "data.head()"
   ]
  },
  {
   "cell_type": "code",
   "execution_count": 75,
   "id": "4732e019",
   "metadata": {},
   "outputs": [],
   "source": [
    "cat_total = data.groupby('cat')['item_cnt_day'].sum()"
   ]
  },
  {
   "cell_type": "code",
   "execution_count": 76,
   "id": "64c7a7e2",
   "metadata": {},
   "outputs": [
    {
     "data": {
      "image/png": "[encoded data removed]",
      "text/plain": [
       "<Figure size 864x864 with 1 Axes>"
      ]
     },
     "metadata": {},
     "output_type": "display_data"
    }
   ],
   "source": [
    "plt.figure(figsize=(12,12))\n",
    "colors = sns.color_palette('Paired')[:len(cat_total)]\n",
    "plt.pie(cat_total, labels = cat_total.index, autopct = '%0.1f%%', colors = colors)\n",
    "plt.title('Sold items in categories')\n",
    "plt.show()"
   ]
  },
  {
   "cell_type": "code",
   "execution_count": 77,
   "id": "67594435",
   "metadata": {},
   "outputs": [
    {
     "data": {
      "text/html": [
       "<div>\n",
       "<style scoped>\n",
       "    .dataframe tbody tr th:only-of-type {\n",
       "        vertical-align: middle;\n",
       "    }\n",
       "\n",
       "    .dataframe tbody tr th {\n",
       "        vertical-align: top;\n",
       "    }\n",
       "\n",
       "    .dataframe thead th {\n",
       "        text-align: right;\n",
       "    }\n",
       "</style>\n",
       "<table border=\"1\" class=\"dataframe\">\n",
       "  <thead>\n",
       "    <tr style=\"text-align: right;\">\n",
       "      <th></th>\n",
       "      <th>count</th>\n",
       "      <th>mean</th>\n",
       "      <th>std</th>\n",
       "      <th>min</th>\n",
       "      <th>25%</th>\n",
       "      <th>50%</th>\n",
       "      <th>75%</th>\n",
       "      <th>max</th>\n",
       "    </tr>\n",
       "    <tr>\n",
       "      <th>cat</th>\n",
       "      <th></th>\n",
       "      <th></th>\n",
       "      <th></th>\n",
       "      <th></th>\n",
       "      <th></th>\n",
       "      <th></th>\n",
       "      <th></th>\n",
       "      <th></th>\n",
       "    </tr>\n",
       "  </thead>\n",
       "  <tbody>\n",
       "    <tr>\n",
       "      <th>PC</th>\n",
       "      <td>3.0</td>\n",
       "      <td>87.800000</td>\n",
       "      <td>62.961258</td>\n",
       "      <td>22.400000</td>\n",
       "      <td>57.700000</td>\n",
       "      <td>93.0</td>\n",
       "      <td>120.5</td>\n",
       "      <td>148.0000</td>\n",
       "    </tr>\n",
       "    <tr>\n",
       "      <th>Аксессуары</th>\n",
       "      <td>76238.0</td>\n",
       "      <td>1962.820357</td>\n",
       "      <td>1369.316367</td>\n",
       "      <td>22.000000</td>\n",
       "      <td>769.300000</td>\n",
       "      <td>1790.0</td>\n",
       "      <td>2690.0</td>\n",
       "      <td>12490.0000</td>\n",
       "    </tr>\n",
       "    <tr>\n",
       "      <th>Билеты</th>\n",
       "      <td>1877.0</td>\n",
       "      <td>1345.441896</td>\n",
       "      <td>694.784320</td>\n",
       "      <td>600.000000</td>\n",
       "      <td>900.000000</td>\n",
       "      <td>1100.0</td>\n",
       "      <td>1300.0</td>\n",
       "      <td>3507.8125</td>\n",
       "    </tr>\n",
       "    <tr>\n",
       "      <th>Доставка товара</th>\n",
       "      <td>2193.0</td>\n",
       "      <td>814.342848</td>\n",
       "      <td>1657.406305</td>\n",
       "      <td>0.908714</td>\n",
       "      <td>281.250000</td>\n",
       "      <td>500.0</td>\n",
       "      <td>900.0</td>\n",
       "      <td>59200.0000</td>\n",
       "    </tr>\n",
       "    <tr>\n",
       "      <th>Игровые консоли</th>\n",
       "      <td>24770.0</td>\n",
       "      <td>15475.282457</td>\n",
       "      <td>6644.616998</td>\n",
       "      <td>8.000000</td>\n",
       "      <td>10490.000000</td>\n",
       "      <td>13990.0</td>\n",
       "      <td>20990.0</td>\n",
       "      <td>42990.0000</td>\n",
       "    </tr>\n",
       "    <tr>\n",
       "      <th>Игры</th>\n",
       "      <td>1029694.0</td>\n",
       "      <td>1120.791267</td>\n",
       "      <td>968.719500</td>\n",
       "      <td>-1.000000</td>\n",
       "      <td>443.940000</td>\n",
       "      <td>799.0</td>\n",
       "      <td>1499.0</td>\n",
       "      <td>12999.0000</td>\n",
       "    </tr>\n",
       "    <tr>\n",
       "      <th>Карты оплаты</th>\n",
       "      <td>37905.0</td>\n",
       "      <td>1376.808853</td>\n",
       "      <td>750.512519</td>\n",
       "      <td>250.000000</td>\n",
       "      <td>799.000000</td>\n",
       "      <td>1049.0</td>\n",
       "      <td>1999.0</td>\n",
       "      <td>3399.0000</td>\n",
       "    </tr>\n",
       "    <tr>\n",
       "      <th>Кино</th>\n",
       "      <td>833416.0</td>\n",
       "      <td>358.641213</td>\n",
       "      <td>365.011739</td>\n",
       "      <td>0.200000</td>\n",
       "      <td>149.000000</td>\n",
       "      <td>299.0</td>\n",
       "      <td>399.0</td>\n",
       "      <td>7999.0000</td>\n",
       "    </tr>\n",
       "    <tr>\n",
       "      <th>Книги</th>\n",
       "      <td>69424.0</td>\n",
       "      <td>388.304958</td>\n",
       "      <td>320.873274</td>\n",
       "      <td>17.000000</td>\n",
       "      <td>249.000000</td>\n",
       "      <td>299.0</td>\n",
       "      <td>390.0</td>\n",
       "      <td>3490.0000</td>\n",
       "    </tr>\n",
       "    <tr>\n",
       "      <th>Музыка</th>\n",
       "      <td>401862.0</td>\n",
       "      <td>364.583126</td>\n",
       "      <td>434.057153</td>\n",
       "      <td>0.500000</td>\n",
       "      <td>199.000000</td>\n",
       "      <td>299.0</td>\n",
       "      <td>349.0</td>\n",
       "      <td>29999.0000</td>\n",
       "    </tr>\n",
       "    <tr>\n",
       "      <th>Подарки</th>\n",
       "      <td>370450.0</td>\n",
       "      <td>745.299761</td>\n",
       "      <td>774.821736</td>\n",
       "      <td>0.070000</td>\n",
       "      <td>299.000000</td>\n",
       "      <td>569.0</td>\n",
       "      <td>999.0</td>\n",
       "      <td>50999.0000</td>\n",
       "    </tr>\n",
       "    <tr>\n",
       "      <th>Программы</th>\n",
       "      <td>65234.0</td>\n",
       "      <td>1698.805937</td>\n",
       "      <td>2096.945026</td>\n",
       "      <td>22.400000</td>\n",
       "      <td>707.000000</td>\n",
       "      <td>1190.0</td>\n",
       "      <td>1990.0</td>\n",
       "      <td>307980.0000</td>\n",
       "    </tr>\n",
       "    <tr>\n",
       "      <th>Служебные</th>\n",
       "      <td>10392.0</td>\n",
       "      <td>1113.934432</td>\n",
       "      <td>780.489072</td>\n",
       "      <td>9.000000</td>\n",
       "      <td>599.458333</td>\n",
       "      <td>999.0</td>\n",
       "      <td>1500.0</td>\n",
       "      <td>16790.0000</td>\n",
       "    </tr>\n",
       "    <tr>\n",
       "      <th>Чистые носители</th>\n",
       "      <td>5185.0</td>\n",
       "      <td>56.487300</td>\n",
       "      <td>75.454134</td>\n",
       "      <td>13.000000</td>\n",
       "      <td>25.000000</td>\n",
       "      <td>30.0</td>\n",
       "      <td>70.0</td>\n",
       "      <td>599.0000</td>\n",
       "    </tr>\n",
       "    <tr>\n",
       "      <th>Элементы питания</th>\n",
       "      <td>7206.0</td>\n",
       "      <td>100.280925</td>\n",
       "      <td>29.363512</td>\n",
       "      <td>7.000000</td>\n",
       "      <td>79.000000</td>\n",
       "      <td>99.0</td>\n",
       "      <td>119.0</td>\n",
       "      <td>210.0000</td>\n",
       "    </tr>\n",
       "  </tbody>\n",
       "</table>\n",
       "</div>"
      ],
      "text/plain": [
       "                      count          mean          std         min  \\\n",
       "cat                                                                  \n",
       "PC                      3.0     87.800000    62.961258   22.400000   \n",
       "Аксессуары          76238.0   1962.820357  1369.316367   22.000000   \n",
       "Билеты               1877.0   1345.441896   694.784320  600.000000   \n",
       "Доставка товара      2193.0    814.342848  1657.406305    0.908714   \n",
       "Игровые консоли     24770.0  15475.282457  6644.616998    8.000000   \n",
       "Игры              1029694.0   1120.791267   968.719500   -1.000000   \n",
       "Карты оплаты        37905.0   1376.808853   750.512519  250.000000   \n",
       "Кино               833416.0    358.641213   365.011739    0.200000   \n",
       "Книги               69424.0    388.304958   320.873274   17.000000   \n",
       "Музыка             401862.0    364.583126   434.057153    0.500000   \n",
       "Подарки            370450.0    745.299761   774.821736    0.070000   \n",
       "Программы           65234.0   1698.805937  2096.945026   22.400000   \n",
       "Служебные           10392.0   1113.934432   780.489072    9.000000   \n",
       "Чистые носители      5185.0     56.487300    75.454134   13.000000   \n",
       "Элементы питания     7206.0    100.280925    29.363512    7.000000   \n",
       "\n",
       "                           25%      50%      75%          max  \n",
       "cat                                                            \n",
       "PC                   57.700000     93.0    120.5     148.0000  \n",
       "Аксессуары          769.300000   1790.0   2690.0   12490.0000  \n",
       "Билеты              900.000000   1100.0   1300.0    3507.8125  \n",
       "Доставка товара     281.250000    500.0    900.0   59200.0000  \n",
       "Игровые консоли   10490.000000  13990.0  20990.0   42990.0000  \n",
       "Игры                443.940000    799.0   1499.0   12999.0000  \n",
       "Карты оплаты        799.000000   1049.0   1999.0    3399.0000  \n",
       "Кино                149.000000    299.0    399.0    7999.0000  \n",
       "Книги               249.000000    299.0    390.0    3490.0000  \n",
       "Музыка              199.000000    299.0    349.0   29999.0000  \n",
       "Подарки             299.000000    569.0    999.0   50999.0000  \n",
       "Программы           707.000000   1190.0   1990.0  307980.0000  \n",
       "Служебные           599.458333    999.0   1500.0   16790.0000  \n",
       "Чистые носители      25.000000     30.0     70.0     599.0000  \n",
       "Элементы питания     79.000000     99.0    119.0     210.0000  "
      ]
     },
     "execution_count": 77,
     "metadata": {},
     "output_type": "execute_result"
    }
   ],
   "source": [
    "data.groupby('cat')['item_price'].describe()"
   ]
  },
  {
   "cell_type": "markdown",
   "id": "2615d18d",
   "metadata": {},
   "source": [
    "# ADD CATEGORY VS MEAN AND MAX PRICE"
   ]
  },
  {
   "cell_type": "code",
   "execution_count": 78,
   "id": "4d44f90f",
   "metadata": {},
   "outputs": [
    {
     "data": {
      "text/html": [
       "<div>\n",
       "<style scoped>\n",
       "    .dataframe tbody tr th:only-of-type {\n",
       "        vertical-align: middle;\n",
       "    }\n",
       "\n",
       "    .dataframe tbody tr th {\n",
       "        vertical-align: top;\n",
       "    }\n",
       "\n",
       "    .dataframe thead th {\n",
       "        text-align: right;\n",
       "    }\n",
       "</style>\n",
       "<table border=\"1\" class=\"dataframe\">\n",
       "  <thead>\n",
       "    <tr style=\"text-align: right;\">\n",
       "      <th></th>\n",
       "      <th>item_cnt_day</th>\n",
       "    </tr>\n",
       "  </thead>\n",
       "  <tbody>\n",
       "    <tr>\n",
       "      <th>count</th>\n",
       "      <td>21807.00000</td>\n",
       "    </tr>\n",
       "    <tr>\n",
       "      <th>mean</th>\n",
       "      <td>167.29518</td>\n",
       "    </tr>\n",
       "    <tr>\n",
       "      <th>std</th>\n",
       "      <td>1366.22019</td>\n",
       "    </tr>\n",
       "    <tr>\n",
       "      <th>min</th>\n",
       "      <td>-11.00000</td>\n",
       "    </tr>\n",
       "    <tr>\n",
       "      <th>25%</th>\n",
       "      <td>7.00000</td>\n",
       "    </tr>\n",
       "    <tr>\n",
       "      <th>50%</th>\n",
       "      <td>33.00000</td>\n",
       "    </tr>\n",
       "    <tr>\n",
       "      <th>75%</th>\n",
       "      <td>124.00000</td>\n",
       "    </tr>\n",
       "    <tr>\n",
       "      <th>95%</th>\n",
       "      <td>653.00000</td>\n",
       "    </tr>\n",
       "    <tr>\n",
       "      <th>max</th>\n",
       "      <td>187642.00000</td>\n",
       "    </tr>\n",
       "  </tbody>\n",
       "</table>\n",
       "</div>"
      ],
      "text/plain": [
       "       item_cnt_day\n",
       "count   21807.00000\n",
       "mean      167.29518\n",
       "std      1366.22019\n",
       "min       -11.00000\n",
       "25%         7.00000\n",
       "50%        33.00000\n",
       "75%       124.00000\n",
       "95%       653.00000\n",
       "max    187642.00000"
      ]
     },
     "execution_count": 78,
     "metadata": {},
     "output_type": "execute_result"
    }
   ],
   "source": [
    "item_cnt = pd.DataFrame(data.groupby('item_id')['item_cnt_day'].sum()).reset_index(level = [0])\n",
    "item_cnt.describe([.25, .5, .75, .95]).drop('item_id', axis = 1)"
   ]
  },
  {
   "cell_type": "code",
   "execution_count": 79,
   "id": "e4befff3",
   "metadata": {},
   "outputs": [],
   "source": [
    "item_price_mean = pd.DataFrame(data.groupby('item_id')['item_price'].mean()).reset_index(level = [0])"
   ]
  },
  {
   "cell_type": "code",
   "execution_count": 80,
   "id": "7f9f5d07",
   "metadata": {},
   "outputs": [
    {
     "data": {
      "text/html": [
       "<div>\n",
       "<style scoped>\n",
       "    .dataframe tbody tr th:only-of-type {\n",
       "        vertical-align: middle;\n",
       "    }\n",
       "\n",
       "    .dataframe tbody tr th {\n",
       "        vertical-align: top;\n",
       "    }\n",
       "\n",
       "    .dataframe thead th {\n",
       "        text-align: right;\n",
       "    }\n",
       "</style>\n",
       "<table border=\"1\" class=\"dataframe\">\n",
       "  <thead>\n",
       "    <tr style=\"text-align: right;\">\n",
       "      <th></th>\n",
       "      <th>item_id</th>\n",
       "      <th>item_cnt_total</th>\n",
       "      <th>item_price</th>\n",
       "    </tr>\n",
       "  </thead>\n",
       "  <tbody>\n",
       "    <tr>\n",
       "      <th>0</th>\n",
       "      <td>0</td>\n",
       "      <td>1</td>\n",
       "      <td>58.0</td>\n",
       "    </tr>\n",
       "    <tr>\n",
       "      <th>1</th>\n",
       "      <td>1</td>\n",
       "      <td>6</td>\n",
       "      <td>4490.0</td>\n",
       "    </tr>\n",
       "    <tr>\n",
       "      <th>2</th>\n",
       "      <td>2</td>\n",
       "      <td>2</td>\n",
       "      <td>58.0</td>\n",
       "    </tr>\n",
       "    <tr>\n",
       "      <th>3</th>\n",
       "      <td>3</td>\n",
       "      <td>2</td>\n",
       "      <td>79.0</td>\n",
       "    </tr>\n",
       "    <tr>\n",
       "      <th>4</th>\n",
       "      <td>4</td>\n",
       "      <td>1</td>\n",
       "      <td>58.0</td>\n",
       "    </tr>\n",
       "  </tbody>\n",
       "</table>\n",
       "</div>"
      ],
      "text/plain": [
       "   item_id  item_cnt_total  item_price\n",
       "0        0               1        58.0\n",
       "1        1               6      4490.0\n",
       "2        2               2        58.0\n",
       "3        3               2        79.0\n",
       "4        4               1        58.0"
      ]
     },
     "execution_count": 80,
     "metadata": {},
     "output_type": "execute_result"
    }
   ],
   "source": [
    "temp = pd.merge(item_cnt, item_price_mean, on = 'item_id')\n",
    "temp.columns = ['item_id', 'item_cnt_total', 'item_price']\n",
    "temp.head()"
   ]
  },
  {
   "cell_type": "code",
   "execution_count": 81,
   "id": "efcb63a6",
   "metadata": {},
   "outputs": [
    {
     "data": {
      "image/png": "[encoded data removed]",
      "text/plain": [
       "<Figure size 720x432 with 1 Axes>"
      ]
     },
     "metadata": {
      "needs_background": "light"
     },
     "output_type": "display_data"
    }
   ],
   "source": [
    "plt.figure(figsize=(10,6))\n",
    "sc = sns.scatterplot(x = temp.item_cnt_total, y = temp.item_price, x_bins = [0, 50, 100], alpha = 0.2, s = 30)\n",
    "sc.set_xlim(left=0, right=700)\n",
    "sc.set_ylim(bottom=0, top=2000);"
   ]
  },
  {
   "cell_type": "code",
   "execution_count": 82,
   "id": "1ff23ccb",
   "metadata": {},
   "outputs": [],
   "source": [
    "temp = data.groupby('date_block_num')['item_cnt_day'].sum()"
   ]
  },
  {
   "cell_type": "code",
   "execution_count": 83,
   "id": "bd6fe029",
   "metadata": {},
   "outputs": [],
   "source": [
    "temp.name = 'item_cnt_month'"
   ]
  },
  {
   "cell_type": "code",
   "execution_count": 84,
   "id": "38b9de73",
   "metadata": {},
   "outputs": [
    {
     "data": {
      "image/png": "[encoded data removed]",
      "text/plain": [
       "<Figure size 720x432 with 1 Axes>"
      ]
     },
     "metadata": {
      "needs_background": "light"
     },
     "output_type": "display_data"
    }
   ],
   "source": [
    "plt.figure(figsize=(10,6))\n",
    "sns.scatterplot(y = temp,x = temp.index)\n",
    "plt.plot(temp.index, temp)\n",
    "plt.show()"
   ]
  },
  {
   "cell_type": "code",
   "execution_count": null,
   "id": "08af9cee",
   "metadata": {},
   "outputs": [],
   "source": []
  },
  {
   "cell_type": "code",
   "execution_count": null,
   "id": "9567beb3",
   "metadata": {},
   "outputs": [],
   "source": []
  },
  {
   "cell_type": "code",
   "execution_count": null,
   "id": "9f252948",
   "metadata": {},
   "outputs": [],
   "source": []
  },
  {
   "cell_type": "code",
   "execution_count": 115,
   "id": "7907afec",
   "metadata": {},
   "outputs": [],
   "source": [
    "city_cnt_month = pd.DataFrame(data.groupby([data.date_block_num, 'city'])['item_cnt_day'].sum())"
   ]
  },
  {
   "cell_type": "code",
   "execution_count": 130,
   "id": "f011ea95",
   "metadata": {},
   "outputs": [],
   "source": [
    "city_cnt_month.columns = ['item_cnt_month']"
   ]
  },
  {
   "cell_type": "code",
   "execution_count": 131,
   "id": "69b87cb0",
   "metadata": {},
   "outputs": [
    {
     "data": {
      "text/html": [
       "<div>\n",
       "<style scoped>\n",
       "    .dataframe tbody tr th:only-of-type {\n",
       "        vertical-align: middle;\n",
       "    }\n",
       "\n",
       "    .dataframe tbody tr th {\n",
       "        vertical-align: top;\n",
       "    }\n",
       "\n",
       "    .dataframe thead th {\n",
       "        text-align: right;\n",
       "    }\n",
       "</style>\n",
       "<table border=\"1\" class=\"dataframe\">\n",
       "  <thead>\n",
       "    <tr style=\"text-align: right;\">\n",
       "      <th></th>\n",
       "      <th></th>\n",
       "      <th>item_cnt_month</th>\n",
       "    </tr>\n",
       "    <tr>\n",
       "      <th>date_block_num</th>\n",
       "      <th>city</th>\n",
       "      <th></th>\n",
       "    </tr>\n",
       "  </thead>\n",
       "  <tbody>\n",
       "    <tr>\n",
       "      <th rowspan=\"5\" valign=\"top\">0</th>\n",
       "      <th>Адыгея</th>\n",
       "      <td>1146.0</td>\n",
       "    </tr>\n",
       "    <tr>\n",
       "      <th>Балашиха</th>\n",
       "      <td>767.0</td>\n",
       "    </tr>\n",
       "    <tr>\n",
       "      <th>Волжский</th>\n",
       "      <td>2114.0</td>\n",
       "    </tr>\n",
       "    <tr>\n",
       "      <th>Воронеж</th>\n",
       "      <td>7644.0</td>\n",
       "    </tr>\n",
       "    <tr>\n",
       "      <th>Жуковский</th>\n",
       "      <td>935.0</td>\n",
       "    </tr>\n",
       "    <tr>\n",
       "      <th>...</th>\n",
       "      <th>...</th>\n",
       "      <td>...</td>\n",
       "    </tr>\n",
       "    <tr>\n",
       "      <th rowspan=\"5\" valign=\"top\">33</th>\n",
       "      <th>Уфа</th>\n",
       "      <td>1908.0</td>\n",
       "    </tr>\n",
       "    <tr>\n",
       "      <th>Цифровой</th>\n",
       "      <td>1972.0</td>\n",
       "    </tr>\n",
       "    <tr>\n",
       "      <th>Чехов</th>\n",
       "      <td>1263.0</td>\n",
       "    </tr>\n",
       "    <tr>\n",
       "      <th>Якутск</th>\n",
       "      <td>3762.0</td>\n",
       "    </tr>\n",
       "    <tr>\n",
       "      <th>Ярославль</th>\n",
       "      <td>790.0</td>\n",
       "    </tr>\n",
       "  </tbody>\n",
       "</table>\n",
       "<p>973 rows × 1 columns</p>\n",
       "</div>"
      ],
      "text/plain": [
       "                          item_cnt_month\n",
       "date_block_num city                     \n",
       "0              Адыгея             1146.0\n",
       "               Балашиха            767.0\n",
       "               Волжский           2114.0\n",
       "               Воронеж            7644.0\n",
       "               Жуковский           935.0\n",
       "...                                  ...\n",
       "33             Уфа                1908.0\n",
       "               Цифровой           1972.0\n",
       "               Чехов              1263.0\n",
       "               Якутск             3762.0\n",
       "               Ярославль           790.0\n",
       "\n",
       "[973 rows x 1 columns]"
      ]
     },
     "execution_count": 131,
     "metadata": {},
     "output_type": "execute_result"
    }
   ],
   "source": [
    "city_cnt_month"
   ]
  },
  {
   "cell_type": "code",
   "execution_count": 133,
   "id": "b8b6dcb3",
   "metadata": {},
   "outputs": [],
   "source": [
    "city_cnt_month = city_cnt_month.reset_index(level=[0,1])"
   ]
  },
  {
   "cell_type": "code",
   "execution_count": 134,
   "id": "4e8f03bc",
   "metadata": {},
   "outputs": [
    {
     "data": {
      "text/html": [
       "<div>\n",
       "<style scoped>\n",
       "    .dataframe tbody tr th:only-of-type {\n",
       "        vertical-align: middle;\n",
       "    }\n",
       "\n",
       "    .dataframe tbody tr th {\n",
       "        vertical-align: top;\n",
       "    }\n",
       "\n",
       "    .dataframe thead th {\n",
       "        text-align: right;\n",
       "    }\n",
       "</style>\n",
       "<table border=\"1\" class=\"dataframe\">\n",
       "  <thead>\n",
       "    <tr style=\"text-align: right;\">\n",
       "      <th></th>\n",
       "      <th>date_block_num</th>\n",
       "      <th>city</th>\n",
       "      <th>item_cnt_month</th>\n",
       "    </tr>\n",
       "  </thead>\n",
       "  <tbody>\n",
       "    <tr>\n",
       "      <th>0</th>\n",
       "      <td>0</td>\n",
       "      <td>Адыгея</td>\n",
       "      <td>1146.0</td>\n",
       "    </tr>\n",
       "    <tr>\n",
       "      <th>1</th>\n",
       "      <td>0</td>\n",
       "      <td>Балашиха</td>\n",
       "      <td>767.0</td>\n",
       "    </tr>\n",
       "    <tr>\n",
       "      <th>2</th>\n",
       "      <td>0</td>\n",
       "      <td>Волжский</td>\n",
       "      <td>2114.0</td>\n",
       "    </tr>\n",
       "    <tr>\n",
       "      <th>3</th>\n",
       "      <td>0</td>\n",
       "      <td>Воронеж</td>\n",
       "      <td>7644.0</td>\n",
       "    </tr>\n",
       "    <tr>\n",
       "      <th>4</th>\n",
       "      <td>0</td>\n",
       "      <td>Жуковский</td>\n",
       "      <td>935.0</td>\n",
       "    </tr>\n",
       "    <tr>\n",
       "      <th>...</th>\n",
       "      <td>...</td>\n",
       "      <td>...</td>\n",
       "      <td>...</td>\n",
       "    </tr>\n",
       "    <tr>\n",
       "      <th>968</th>\n",
       "      <td>33</td>\n",
       "      <td>Уфа</td>\n",
       "      <td>1908.0</td>\n",
       "    </tr>\n",
       "    <tr>\n",
       "      <th>969</th>\n",
       "      <td>33</td>\n",
       "      <td>Цифровой</td>\n",
       "      <td>1972.0</td>\n",
       "    </tr>\n",
       "    <tr>\n",
       "      <th>970</th>\n",
       "      <td>33</td>\n",
       "      <td>Чехов</td>\n",
       "      <td>1263.0</td>\n",
       "    </tr>\n",
       "    <tr>\n",
       "      <th>971</th>\n",
       "      <td>33</td>\n",
       "      <td>Якутск</td>\n",
       "      <td>3762.0</td>\n",
       "    </tr>\n",
       "    <tr>\n",
       "      <th>972</th>\n",
       "      <td>33</td>\n",
       "      <td>Ярославль</td>\n",
       "      <td>790.0</td>\n",
       "    </tr>\n",
       "  </tbody>\n",
       "</table>\n",
       "<p>973 rows × 3 columns</p>\n",
       "</div>"
      ],
      "text/plain": [
       "     date_block_num       city  item_cnt_month\n",
       "0                 0     Адыгея          1146.0\n",
       "1                 0   Балашиха           767.0\n",
       "2                 0   Волжский          2114.0\n",
       "3                 0    Воронеж          7644.0\n",
       "4                 0  Жуковский           935.0\n",
       "..              ...        ...             ...\n",
       "968              33        Уфа          1908.0\n",
       "969              33   Цифровой          1972.0\n",
       "970              33      Чехов          1263.0\n",
       "971              33     Якутск          3762.0\n",
       "972              33  Ярославль           790.0\n",
       "\n",
       "[973 rows x 3 columns]"
      ]
     },
     "execution_count": 134,
     "metadata": {},
     "output_type": "execute_result"
    }
   ],
   "source": [
    "city_cnt_month"
   ]
  }
 ],
 "metadata": {
  "kernelspec": {
   "display_name": "Python 3",
   "language": "python",
   "name": "python3"
  },
  "language_info": {
   "codemirror_mode": {
    "name": "ipython",
    "version": 3
   },
   "file_extension": ".py",
   "mimetype": "text/x-python",
   "name": "python",
   "nbconvert_exporter": "python",
   "pygments_lexer": "ipython3",
   "version": "3.8.8"
  }
 },
 "nbformat": 4,
 "nbformat_minor": 5
}
